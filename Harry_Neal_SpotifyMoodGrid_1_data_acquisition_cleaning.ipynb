{
 "cells": [
  {
   "attachments": {},
   "cell_type": "markdown",
   "metadata": {},
   "source": [
    "# Harry Neal - Spotify MoodGrid"
   ]
  },
  {
   "attachments": {},
   "cell_type": "markdown",
   "metadata": {},
   "source": [
    "*Spotify Moodgrid Playlist Subsetter is a tool to combine multiple playlists, give them a happy score and an energy score, and then output a new personal playlist centred around your chosen Happy/Energy mood.*"
   ]
  },
  {
   "attachments": {},
   "cell_type": "markdown",
   "metadata": {},
   "source": [
    "## Notebook 1 of 4 - Data Acquisition & Cleaning"
   ]
  },
  {
   "attachments": {},
   "cell_type": "markdown",
   "metadata": {},
   "source": [
    "### Data Dictionary"
   ]
  },
  {
   "attachments": {},
   "cell_type": "markdown",
   "metadata": {},
   "source": [
    "Column Name | Data Type | Description\n",
    "------------|-----------|------------\n",
    "track_id | string | Song unique ID\n",
    "track_name | string | Song Name\n",
    "artists | string | Song Artist or artists\n",
    "popularity | integer | Song Popularity (0-100) where higher number equates to higher popularity\n",
    "danceability | float | Danceability describes how suitable a track is for dancing based on a combination of musical elements including tempo, rhythm stability, beat strength, and overall regularity. A value of 0.0 is least danceable and 1.0 is most danceable.\n",
    "energy | float | Energy is a measure from 0.0 to 1.0 and represents a perceptual measure of intensity and activity. Typically, energetic tracks feel fast, loud, and noisy. For example, death metal has high energy, while a Bach prelude scores low on the scale. Perceptual features contributing to this attribute include dynamic range, perceived loudness, timbre, onset rate, and general entropy.\n",
    "key | integer | The estimated overall key of the track. Integers map to pitches using standard Pitch Class notation . E.g. 0 = C, 1 = C♯/D♭, 2 = D, and so on. If no key was detected, the value is -1.\n",
    "loudness | float | The overall loudness of a track in decibels (dB). Loudness values are averaged across the entire track and are useful for comparing relative loudness of tracks. Loudness is the quality of a sound that is the primary psychological correlate of physical strength (amplitude). Values typical range between -60 and 0 db.\n",
    "mode | integer | Mode indicates the modality (major or minor) of a track, the type of scale from which its melodic content is derived. Major is represented by 1 and minor is 0.\n",
    "speechiness | float | Speechiness detects the presence of spoken words in a track. The more exclusively speech-like the recording (e.g. talk show, audio book, poetry), the closer to 1.0 the attribute value. Values above 0.66 describe tracks that are probably made entirely of spoken words. Values between 0.33 and 0.66 describe tracks that may contain both music and speech, either in sections or layered, including such cases as rap music. Values below 0.33 most likely represent music and other non-speech-like tracks.\n",
    "acousticness | float | A confidence measure from 0.0 to 1.0 of whether the track is acoustic. 1.0 represents high confidence the track is acoustic.\n",
    "instrumentalness | float | Predicts whether a track contains no vocals. “Ooh” and “aah” sounds are treated as instrumental in this context. Rap or spoken word tracks are clearly “vocal”. The closer the instrumentalness value is to 1.0, the greater likelihood the track contains no vocal content. Values above 0.5 are intended to represent instrumental tracks, but confidence is higher as the value approaches 1.0.\n",
    "liveness | float | Detects the presence of an audience in the recording. Higher liveness values represent an increased probability that the track was performed live. A value above 0.8 provides strong likelihood that the track is live.\n",
    "valence | float | \tA measure from 0.0 to 1.0 describing the musical positiveness conveyed by a track. Tracks with high valence sound more positive (e.g. happy, cheerful, euphoric), while tracks with low valence sound more negative (e.g. sad, depressed, angry).\n",
    "tempo | float | The overall estimated tempo of a track in beats per minute (BPM). In musical terminology, tempo is the speed or pace of a given piece and derives directly from the average beat duration.\n",
    "duration_ms | integer | Duration of song in milliseconds\n",
    "time_signature | integer | Number of beats per measure\n",
    "explicit | boolean | Indicates whether the track contains explicit content\n",
    "playlist_mood | string | Mood of playlist, one of 'happy', 'sad', 'energetic', 'chill'\n",
    "query | string | Query used to search for playlist\n",
    "playlist_name | string | Name of playlist\n",
    "\n"
   ]
  },
  {
   "attachments": {},
   "cell_type": "markdown",
   "metadata": {},
   "source": [
    "### Project Introduction"
   ]
  },
  {
   "attachments": {},
   "cell_type": "markdown",
   "metadata": {},
   "source": [
    "Spotify playlists have become a staple in the lives of music lovers worldwide. They provide a personalised and curated listening experience that can reflect our unique tastes, preferences, and moods. \n",
    "\n",
    "A third of Spotify listening time happens on Spotify curated playlists, with another third happening on user-generated playlists.\n",
    "People love making playlists because it allows them to express themselves, showcase their favorite songs and artists, and share their musical tastes with others. Similarly, listening to playlists offers a convenient and effortless way to discover new music and enjoy familiar favorites.  \n",
    "\n",
    "Playlisting can be a quick way of changing or enhancing a mood with music, but currently, there is no way in Spotify of outputting one or more playlists to a more specific subset based on mood.  That's where the Spotify MoodGrid Playlist Subsetter comes in. \n",
    "\n",
    "By using multiple playlists and analyzing their happy/energy scores, the app allows users to create a new playlist centered on their desired mood, providing a more tailored and fulfilling listening experience. It's a tool for anyone who wants to enjoy their favorite songs in a way that matches their current mood or to discover new music that will enhance their listening experience.\n"
   ]
  },
  {
   "cell_type": "code",
   "execution_count": 2,
   "metadata": {},
   "outputs": [],
   "source": [
    "import numpy as np\n",
    "import pandas as pd\n",
    "import re\n",
    "from collections import Counter\n",
    "\n",
    "import joblib\n",
    "import warnings\n",
    "from sklearn.model_selection import train_test_split\n",
    "warnings.filterwarnings('ignore')"
   ]
  },
  {
   "cell_type": "code",
   "execution_count": 3,
   "metadata": {},
   "outputs": [],
   "source": [
    "query_df = joblib.load(\"./data/pickles/query_df.pkl\")"
   ]
  },
  {
   "attachments": {},
   "cell_type": "markdown",
   "metadata": {},
   "source": [
    "## Data Extract Transform Load Clean"
   ]
  },
  {
   "attachments": {},
   "cell_type": "markdown",
   "metadata": {},
   "source": [
    "A python script was written to download the data using Spotify's API.\n",
    "\n",
    "**./data_download_scripts/Harry_Neal_Spotify_MoodGrid_automated_playlist_download.py**"
   ]
  },
  {
   "attachments": {},
   "cell_type": "markdown",
   "metadata": {},
   "source": [
    "Instructions on obtaining a Spotify API acces token can be found here:\n",
    "\n",
    "https://developer.spotify.com/documentation/web-api"
   ]
  },
  {
   "attachments": {},
   "cell_type": "markdown",
   "metadata": {},
   "source": [
    "Public user playlists were searched using key search terms under one of four umbrella moods - Happy, Sad, Energetic & Chilled.\n",
    "\n",
    "Features were extracted from various different API endpoints.\n",
    "\n",
    "- Get playlist names from search term\n",
    "- Get playlist tracks\n",
    "- Get artist genres of each artist in the playlist\n",
    "- Get audio features of each artist in playlist\n",
    "\n",
    "The combination of these API calls resulted in the Spotify API rate limit being hit regularly.  To avoid regular slowdown of the script, an exception was added to fill the genre with an empty string if a 429 error was found.  This resulted in many empty values for genre.\n",
    "\n",
    "Values for track ID for each mood were stored in a dictonary in order to quickly skip over duplicate songs, rather than waste time writing and removing duplicates later.\n",
    "\n",
    "Track information such as 'Artist', 'Track Name'  and audio features were downloaded from separate API calls \n",
    "\n",
    "Inspiration for the data download script was taken from the following:\n",
    "https://github.com/plamere/playlistminer/blob/master/scripts/crawl.py"
   ]
  },
  {
   "cell_type": "markdown",
   "metadata": {},
   "source": [
    "The key words searched and their associated moods can be found below"
   ]
  },
  {
   "cell_type": "code",
   "execution_count": 4,
   "metadata": {},
   "outputs": [
    {
     "data": {
      "text/plain": [
       "MultiIndex([(     'adrenaline', 'energetic'),\n",
       "            (     'aggressive', 'energetic'),\n",
       "            (       'angriest',       'sad'),\n",
       "            (          'angry',       'sad'),\n",
       "            (        'anguish',       'sad'),\n",
       "            (      'anguished',       'sad'),\n",
       "            (          'beach',     'chill'),\n",
       "            (          'bliss',     'happy'),\n",
       "            (       'blissful',     'happy'),\n",
       "            (           'calm',     'chill'),\n",
       "            (       'carefree',     'happy'),\n",
       "            (       'cheerful',     'happy'),\n",
       "            (          'chill',     'chill'),\n",
       "            (        'chilled',     'chill'),\n",
       "            (       'chilling',     'chill'),\n",
       "            (      'contented',     'happy'),\n",
       "            (         'crying',       'sad'),\n",
       "            (    'death metal',       'sad'),\n",
       "            (        'depress',       'sad'),\n",
       "            (        'despair',       'sad'),\n",
       "            (           'easy',     'chill'),\n",
       "            (        'ecstasy',     'happy'),\n",
       "            (       'ecstatic',     'happy'),\n",
       "            (      'energetic', 'energetic'),\n",
       "            (       'euphoric',     'happy'),\n",
       "            (     'frustrated',       'sad'),\n",
       "            (          'grief',       'sad'),\n",
       "            (       'happiest',     'happy'),\n",
       "            (          'happy',     'happy'),\n",
       "            (           'hard', 'energetic'),\n",
       "            (          'heavy', 'energetic'),\n",
       "            (      'heavy sad',       'sad'),\n",
       "            (    'high energy', 'energetic'),\n",
       "            (    'high octane', 'energetic'),\n",
       "            (           'hurt',       'sad'),\n",
       "            (         'joyous',     'happy'),\n",
       "            (         'lively', 'energetic'),\n",
       "            (     'melancholy',       'sad'),\n",
       "            (         'mellow',     'chill'),\n",
       "            (       'mosh pit', 'energetic'),\n",
       "            ('most depressing',       'sad'),\n",
       "            (       'mournful',       'sad'),\n",
       "            (       'peaceful',     'happy'),\n",
       "            (       'positive',     'happy'),\n",
       "            (         'pumped', 'energetic'),\n",
       "            (          'relax',     'chill'),\n",
       "            (            'sad',       'sad'),\n",
       "            (        'screamo',       'sad'),\n",
       "            (           'soft',     'chill'),\n",
       "            (         'sunday',     'chill'),\n",
       "            (         'tragic',       'sad'),\n",
       "            (        'unhappy',       'sad'),\n",
       "            (         'upbeat',     'happy')],\n",
       "           names=['query', 'playlist_mood'])"
      ]
     },
     "execution_count": 4,
     "metadata": {},
     "output_type": "execute_result"
    }
   ],
   "source": [
    "query_df.index"
   ]
  },
  {
   "attachments": {},
   "cell_type": "markdown",
   "metadata": {},
   "source": [
    "## Data Cleaning"
   ]
  },
  {
   "attachments": {},
   "cell_type": "markdown",
   "metadata": {},
   "source": [
    "#### Deal with NaN values"
   ]
  },
  {
   "cell_type": "code",
   "execution_count": 5,
   "metadata": {},
   "outputs": [],
   "source": [
    "def print_NANs(dataframe):\n",
    "    ''' print sum of NaNs in a dataframe if not zero'''\n",
    "    nulls = dataframe.isna().sum()\n",
    "    nulls_vals = list(nulls)\n",
    "    nulls_keys = list(nulls.index)\n",
    "\n",
    "    for i in range(len(nulls_keys)):\n",
    "        if nulls_vals[i] > 0:\n",
    "            print(f\"{nulls_keys[i]} has {nulls_vals[i]} NaNs\")\n",
    "\n",
    "    if nulls.sum() == 0:\n",
    "        print(\"There are no NaN values\")\n",
    "\n",
    "def print_value_counts(dataframe, column):\n",
    "    vc = dataframe[column].value_counts()\n",
    "    vc_index = list(vc.index)\n",
    "    vc_counts = list(vc)\n",
    "    for i in range(len(vc_counts)):\n",
    "        print(f\"Dataset contains {vc_counts[i]} {vc_index[i]} songs\")"
   ]
  },
  {
   "attachments": {},
   "cell_type": "markdown",
   "metadata": {},
   "source": [
    "Load in the raw data"
   ]
  },
  {
   "cell_type": "code",
   "execution_count": 6,
   "metadata": {},
   "outputs": [],
   "source": [
    "# read in csv file from Spotify API script\n",
    "df_raw = pd.read_csv(\"./data/CSVs/1881pl_output.csv\")"
   ]
  },
  {
   "cell_type": "code",
   "execution_count": 7,
   "metadata": {},
   "outputs": [
    {
     "name": "stdout",
     "output_type": "stream",
     "text": [
      "Dataset contains 160514 tracks & 1691 playlists\n"
     ]
    }
   ],
   "source": [
    "print(f\"Dataset contains {df_raw.shape[0]} tracks & {len(df_raw['playlist_name'].unique())} playlists\")"
   ]
  },
  {
   "cell_type": "code",
   "execution_count": 8,
   "metadata": {},
   "outputs": [
    {
     "name": "stdout",
     "output_type": "stream",
     "text": [
      "track_name has 180 NaNs\n",
      "artists has 179 NaNs\n",
      "artist_genre has 103058 NaNs\n",
      "playlist_name has 693 NaNs\n"
     ]
    }
   ],
   "source": [
    "print_NANs(df_raw)"
   ]
  },
  {
   "attachments": {},
   "cell_type": "markdown",
   "metadata": {},
   "source": [
    "#### Check for duplicates"
   ]
  },
  {
   "attachments": {},
   "cell_type": "markdown",
   "metadata": {},
   "source": [
    "We are expecting duplicates from different playlist_moods, and for now we want to keep these.  However, we shouldn't have duplicates from the same mood as we built in a duplicate check into the data download script.  Let's check for duplicates anyway by removing 'playlist_name' and 'query', as we want to check if any songs have doubled-up across the entire mood, regardless of what query or playlist they are from."
   ]
  },
  {
   "cell_type": "code",
   "execution_count": 9,
   "metadata": {},
   "outputs": [],
   "source": [
    "df_dupcheck = df_raw.drop(columns=['playlist_name', 'query'])"
   ]
  },
  {
   "cell_type": "code",
   "execution_count": 10,
   "metadata": {},
   "outputs": [
    {
     "data": {
      "text/plain": [
       "49"
      ]
     },
     "execution_count": 10,
     "metadata": {},
     "output_type": "execute_result"
    }
   ],
   "source": [
    "df_dupcheck.duplicated().sum()"
   ]
  },
  {
   "attachments": {},
   "cell_type": "markdown",
   "metadata": {},
   "source": [
    "We have 49 duplicates that have slipped through the net.\n",
    "\n",
    "Let's take a quick look at these"
   ]
  },
  {
   "cell_type": "code",
   "execution_count": 11,
   "metadata": {},
   "outputs": [
    {
     "data": {
      "text/plain": [
       "This Is Angus & Julia Stone    98\n",
       "Name: playlist_name, dtype: int64"
      ]
     },
     "execution_count": 11,
     "metadata": {},
     "output_type": "execute_result"
    }
   ],
   "source": [
    "df_raw['playlist_name'][\n",
    "   df_dupcheck.duplicated(keep=False)\n",
    "].value_counts()"
   ]
  },
  {
   "cell_type": "code",
   "execution_count": 12,
   "metadata": {},
   "outputs": [
    {
     "data": {
      "text/plain": [
       "anguish      49\n",
       "anguished    49\n",
       "Name: query, dtype: int64"
      ]
     },
     "execution_count": 12,
     "metadata": {},
     "output_type": "execute_result"
    }
   ],
   "source": [
    "df_raw['query'][\n",
    "   df_dupcheck.duplicated(keep=False)\n",
    "].value_counts()"
   ]
  },
  {
   "attachments": {},
   "cell_type": "markdown",
   "metadata": {},
   "source": [
    "The duplicates all come from the same playlist 'This Is Angus & Julia Stone' and the query 'anguish/anguished'.  We can safely remove one of the duplicates of these."
   ]
  },
  {
   "cell_type": "code",
   "execution_count": 13,
   "metadata": {},
   "outputs": [],
   "source": [
    "df = df_raw[\n",
    "    ~df_dupcheck.duplicated()\n",
    "]"
   ]
  },
  {
   "attachments": {},
   "cell_type": "markdown",
   "metadata": {},
   "source": [
    "Sanity check duplicate removal"
   ]
  },
  {
   "cell_type": "code",
   "execution_count": 14,
   "metadata": {},
   "outputs": [
    {
     "data": {
      "text/plain": [
       "0"
      ]
     },
     "execution_count": 14,
     "metadata": {},
     "output_type": "execute_result"
    }
   ],
   "source": [
    "df.drop(columns=['playlist_name', 'query']).duplicated().sum()"
   ]
  },
  {
   "cell_type": "code",
   "execution_count": 15,
   "metadata": {},
   "outputs": [
    {
     "name": "stdout",
     "output_type": "stream",
     "text": [
      "Dataset contains 160465 tracks & 1691 playlists\n"
     ]
    }
   ],
   "source": [
    "print(f\"Dataset contains {df.shape[0]} tracks & {len(df['playlist_name'].unique())} playlists\")"
   ]
  },
  {
   "attachments": {},
   "cell_type": "markdown",
   "metadata": {},
   "source": [
    "Check NaNs again"
   ]
  },
  {
   "cell_type": "code",
   "execution_count": 16,
   "metadata": {},
   "outputs": [
    {
     "name": "stdout",
     "output_type": "stream",
     "text": [
      "track_name has 180 NaNs\n",
      "artists has 179 NaNs\n",
      "artist_genre has 103058 NaNs\n",
      "playlist_name has 693 NaNs\n"
     ]
    }
   ],
   "source": [
    "print_NANs(df)"
   ]
  },
  {
   "attachments": {},
   "cell_type": "markdown",
   "metadata": {},
   "source": [
    "The high number of NaNs present in artist_genre is immediately obvious.  This is a result of this column being filled with an empty string every time the Spotify rate limit was hit."
   ]
  },
  {
   "attachments": {},
   "cell_type": "markdown",
   "metadata": {},
   "source": [
    "The artist genres were fetched separately in a different script run later.  These will now be merged with our original dataset to further populate genre, as the genre of the song may be a good predictor of the mood of a song."
   ]
  },
  {
   "cell_type": "markdown",
   "metadata": {},
   "source": [
    "Load the separately grabbed genres and add them to a dataframe"
   ]
  },
  {
   "cell_type": "code",
   "execution_count": 17,
   "metadata": {},
   "outputs": [],
   "source": [
    "genre_data = joblib.load(\"./data/pickles/1881pl_genre_update.pkl\")\n",
    "\n",
    "genre_df = pd.DataFrame(genre_data)"
   ]
  },
  {
   "cell_type": "code",
   "execution_count": 18,
   "metadata": {},
   "outputs": [
    {
     "data": {
      "text/html": [
       "<div>\n",
       "<style scoped>\n",
       "    .dataframe tbody tr th:only-of-type {\n",
       "        vertical-align: middle;\n",
       "    }\n",
       "\n",
       "    .dataframe tbody tr th {\n",
       "        vertical-align: top;\n",
       "    }\n",
       "\n",
       "    .dataframe thead th {\n",
       "        text-align: right;\n",
       "    }\n",
       "</style>\n",
       "<table border=\"1\" class=\"dataframe\">\n",
       "  <thead>\n",
       "    <tr style=\"text-align: right;\">\n",
       "      <th></th>\n",
       "      <th>artist</th>\n",
       "      <th>genre</th>\n",
       "    </tr>\n",
       "  </thead>\n",
       "  <tbody>\n",
       "    <tr>\n",
       "      <th>0</th>\n",
       "      <td>Mr Mantega, Chill Select</td>\n",
       "      <td>[focus beats, lo-fi jazzhop]</td>\n",
       "    </tr>\n",
       "    <tr>\n",
       "      <th>1</th>\n",
       "      <td>DLJ, ØDYSSEE, Bastien Brison</td>\n",
       "      <td>[lo-fi beats]</td>\n",
       "    </tr>\n",
       "    <tr>\n",
       "      <th>2</th>\n",
       "      <td>Nowun</td>\n",
       "      <td>[lo-fi beats]</td>\n",
       "    </tr>\n",
       "  </tbody>\n",
       "</table>\n",
       "</div>"
      ],
      "text/plain": [
       "                         artist                         genre\n",
       "0      Mr Mantega, Chill Select  [focus beats, lo-fi jazzhop]\n",
       "1  DLJ, ØDYSSEE, Bastien Brison                 [lo-fi beats]\n",
       "2                         Nowun                 [lo-fi beats]"
      ]
     },
     "execution_count": 18,
     "metadata": {},
     "output_type": "execute_result"
    }
   ],
   "source": [
    "genre_df.head(3)"
   ]
  },
  {
   "cell_type": "code",
   "execution_count": 19,
   "metadata": {},
   "outputs": [
    {
     "data": {
      "text/html": [
       "<div>\n",
       "<style scoped>\n",
       "    .dataframe tbody tr th:only-of-type {\n",
       "        vertical-align: middle;\n",
       "    }\n",
       "\n",
       "    .dataframe tbody tr th {\n",
       "        vertical-align: top;\n",
       "    }\n",
       "\n",
       "    .dataframe thead th {\n",
       "        text-align: right;\n",
       "    }\n",
       "</style>\n",
       "<table border=\"1\" class=\"dataframe\">\n",
       "  <thead>\n",
       "    <tr style=\"text-align: right;\">\n",
       "      <th></th>\n",
       "      <th>track_id</th>\n",
       "      <th>track_name</th>\n",
       "      <th>artists</th>\n",
       "      <th>artist_genre</th>\n",
       "      <th>popularity</th>\n",
       "      <th>danceability</th>\n",
       "      <th>energy</th>\n",
       "      <th>key</th>\n",
       "      <th>loudness</th>\n",
       "      <th>mode</th>\n",
       "      <th>...</th>\n",
       "      <th>instrumentalness</th>\n",
       "      <th>liveness</th>\n",
       "      <th>valence</th>\n",
       "      <th>tempo</th>\n",
       "      <th>duration_ms</th>\n",
       "      <th>time_signature</th>\n",
       "      <th>explicit</th>\n",
       "      <th>playlist_mood</th>\n",
       "      <th>query</th>\n",
       "      <th>playlist_name</th>\n",
       "    </tr>\n",
       "  </thead>\n",
       "  <tbody>\n",
       "    <tr>\n",
       "      <th>0</th>\n",
       "      <td>6zSpb8dQRaw0M1dK8PBwQz</td>\n",
       "      <td>Cold Heart - PNAU Remix</td>\n",
       "      <td>Elton John, Dua Lipa, PNAU</td>\n",
       "      <td>['glam rock', 'mellow gold', 'piano rock']</td>\n",
       "      <td>85</td>\n",
       "      <td>0.796</td>\n",
       "      <td>0.798</td>\n",
       "      <td>1</td>\n",
       "      <td>-6.312</td>\n",
       "      <td>1</td>\n",
       "      <td>...</td>\n",
       "      <td>0.000042</td>\n",
       "      <td>0.0952</td>\n",
       "      <td>0.942</td>\n",
       "      <td>116.032</td>\n",
       "      <td>202735</td>\n",
       "      <td>4</td>\n",
       "      <td>False</td>\n",
       "      <td>happy</td>\n",
       "      <td>happy</td>\n",
       "      <td>Happy Beats</td>\n",
       "    </tr>\n",
       "    <tr>\n",
       "      <th>1</th>\n",
       "      <td>39JofJHEtg8I4fSyo7Imft</td>\n",
       "      <td>B.O.T.A. (Baddest Of Them All) - Edit</td>\n",
       "      <td>Eliza Rose, Interplanetary Criminal</td>\n",
       "      <td>['house']</td>\n",
       "      <td>81</td>\n",
       "      <td>0.736</td>\n",
       "      <td>0.906</td>\n",
       "      <td>0</td>\n",
       "      <td>-7.589</td>\n",
       "      <td>1</td>\n",
       "      <td>...</td>\n",
       "      <td>0.585000</td>\n",
       "      <td>0.1060</td>\n",
       "      <td>0.698</td>\n",
       "      <td>137.001</td>\n",
       "      <td>226627</td>\n",
       "      <td>4</td>\n",
       "      <td>False</td>\n",
       "      <td>happy</td>\n",
       "      <td>happy</td>\n",
       "      <td>Happy Beats</td>\n",
       "    </tr>\n",
       "    <tr>\n",
       "      <th>2</th>\n",
       "      <td>1bgKMxPQU7JIZEhNsM1vFs</td>\n",
       "      <td>Words (feat. Zara Larsson)</td>\n",
       "      <td>Alesso, Zara Larsson</td>\n",
       "      <td>['dance pop', 'edm', 'electro house', 'pop', '...</td>\n",
       "      <td>81</td>\n",
       "      <td>0.739</td>\n",
       "      <td>0.586</td>\n",
       "      <td>10</td>\n",
       "      <td>-5.079</td>\n",
       "      <td>0</td>\n",
       "      <td>...</td>\n",
       "      <td>0.000252</td>\n",
       "      <td>0.3080</td>\n",
       "      <td>0.444</td>\n",
       "      <td>124.026</td>\n",
       "      <td>142677</td>\n",
       "      <td>4</td>\n",
       "      <td>False</td>\n",
       "      <td>happy</td>\n",
       "      <td>happy</td>\n",
       "      <td>Happy Beats</td>\n",
       "    </tr>\n",
       "  </tbody>\n",
       "</table>\n",
       "<p>3 rows × 22 columns</p>\n",
       "</div>"
      ],
      "text/plain": [
       "                 track_id                             track_name  \\\n",
       "0  6zSpb8dQRaw0M1dK8PBwQz                Cold Heart - PNAU Remix   \n",
       "1  39JofJHEtg8I4fSyo7Imft  B.O.T.A. (Baddest Of Them All) - Edit   \n",
       "2  1bgKMxPQU7JIZEhNsM1vFs             Words (feat. Zara Larsson)   \n",
       "\n",
       "                               artists  \\\n",
       "0           Elton John, Dua Lipa, PNAU   \n",
       "1  Eliza Rose, Interplanetary Criminal   \n",
       "2                 Alesso, Zara Larsson   \n",
       "\n",
       "                                        artist_genre  popularity  \\\n",
       "0         ['glam rock', 'mellow gold', 'piano rock']          85   \n",
       "1                                          ['house']          81   \n",
       "2  ['dance pop', 'edm', 'electro house', 'pop', '...          81   \n",
       "\n",
       "   danceability  energy  key  loudness  mode  ...  instrumentalness  liveness  \\\n",
       "0         0.796   0.798    1    -6.312     1  ...          0.000042    0.0952   \n",
       "1         0.736   0.906    0    -7.589     1  ...          0.585000    0.1060   \n",
       "2         0.739   0.586   10    -5.079     0  ...          0.000252    0.3080   \n",
       "\n",
       "   valence    tempo  duration_ms  time_signature  explicit  playlist_mood  \\\n",
       "0    0.942  116.032       202735               4     False          happy   \n",
       "1    0.698  137.001       226627               4     False          happy   \n",
       "2    0.444  124.026       142677               4     False          happy   \n",
       "\n",
       "   query playlist_name  \n",
       "0  happy   Happy Beats  \n",
       "1  happy   Happy Beats  \n",
       "2  happy   Happy Beats  \n",
       "\n",
       "[3 rows x 22 columns]"
      ]
     },
     "execution_count": 19,
     "metadata": {},
     "output_type": "execute_result"
    }
   ],
   "source": [
    "df.head(3)"
   ]
  },
  {
   "attachments": {},
   "cell_type": "markdown",
   "metadata": {},
   "source": [
    "Left join df with genre_df on the artists/artist column"
   ]
  },
  {
   "cell_type": "code",
   "execution_count": 20,
   "metadata": {},
   "outputs": [],
   "source": [
    "merged_df = df.merge(genre_df, how='left', left_on='artists', right_on='artist')"
   ]
  },
  {
   "cell_type": "markdown",
   "metadata": {},
   "source": [
    "Fill NaN values of `artist_genre` with the new values of `genre`"
   ]
  },
  {
   "cell_type": "code",
   "execution_count": 21,
   "metadata": {},
   "outputs": [],
   "source": [
    "merged_df['artist_genre'] = merged_df['genre'].fillna(merged_df['artist_genre'])"
   ]
  },
  {
   "attachments": {},
   "cell_type": "markdown",
   "metadata": {},
   "source": [
    "Drop the `artist` and `genre` columns that came from genre_df, and write to a new df"
   ]
  },
  {
   "cell_type": "code",
   "execution_count": 22,
   "metadata": {},
   "outputs": [],
   "source": [
    "df = merged_df.drop(columns=['artist', 'genre'])"
   ]
  },
  {
   "cell_type": "code",
   "execution_count": 23,
   "metadata": {},
   "outputs": [
    {
     "name": "stdout",
     "output_type": "stream",
     "text": [
      "track_name has 180 NaNs\n",
      "artists has 179 NaNs\n",
      "artist_genre has 15 NaNs\n",
      "playlist_name has 693 NaNs\n"
     ]
    }
   ],
   "source": [
    "print_NANs(df)"
   ]
  },
  {
   "attachments": {},
   "cell_type": "markdown",
   "metadata": {},
   "source": [
    "By including the genres from the separate genre API script we have gone from >100k NaNs to 15 NaNs for `artist_genre`."
   ]
  },
  {
   "attachments": {},
   "cell_type": "markdown",
   "metadata": {},
   "source": [
    "Pickle the full raw dataset for use later"
   ]
  },
  {
   "cell_type": "code",
   "execution_count": 24,
   "metadata": {},
   "outputs": [
    {
     "data": {
      "text/plain": [
       "['./data/pickles/df_full_raw.pkl']"
      ]
     },
     "execution_count": 24,
     "metadata": {},
     "output_type": "execute_result"
    }
   ],
   "source": [
    "joblib.dump(df, \"./data/pickles/df_full_raw.pkl\")"
   ]
  },
  {
   "attachments": {},
   "cell_type": "markdown",
   "metadata": {},
   "source": [
    "### Perform train/test split"
   ]
  },
  {
   "attachments": {},
   "cell_type": "markdown",
   "metadata": {},
   "source": [
    "In order to prevent any data leakage, and information and knowledge about the test set influencing decisions made on the training set, we should split our data into a train set and test set upon input.\n",
    "\n",
    "This means our test set is kept as it would be found 'in the wild', and later we can apply the same pre-processing that is applied to the train set."
   ]
  },
  {
   "attachments": {},
   "cell_type": "markdown",
   "metadata": {},
   "source": [
    "**Split X and y**"
   ]
  },
  {
   "cell_type": "code",
   "execution_count": 25,
   "metadata": {},
   "outputs": [
    {
     "data": {
      "text/plain": [
       "Index(['track_id', 'track_name', 'artists', 'artist_genre', 'popularity',\n",
       "       'danceability', 'energy', 'key', 'loudness', 'mode', 'speechiness',\n",
       "       'acousticness', 'instrumentalness', 'liveness', 'valence', 'tempo',\n",
       "       'duration_ms', 'time_signature', 'explicit', 'playlist_mood', 'query',\n",
       "       'playlist_name'],\n",
       "      dtype='object')"
      ]
     },
     "execution_count": 25,
     "metadata": {},
     "output_type": "execute_result"
    }
   ],
   "source": [
    "df.columns"
   ]
  },
  {
   "attachments": {},
   "cell_type": "markdown",
   "metadata": {},
   "source": [
    "Our target variable is `playlist_mood`, so let's split on this column, where X is all other features"
   ]
  },
  {
   "cell_type": "code",
   "execution_count": 26,
   "metadata": {},
   "outputs": [],
   "source": [
    "y = df['playlist_mood']\n",
    "X = df.drop(columns='playlist_mood')"
   ]
  },
  {
   "attachments": {},
   "cell_type": "markdown",
   "metadata": {},
   "source": [
    "Split test and train in a 80/20% split, stratifying on 'y' to ensure we keep the same proportions of playlist_mood between the input dataset and the split dataset."
   ]
  },
  {
   "cell_type": "code",
   "execution_count": 27,
   "metadata": {},
   "outputs": [],
   "source": [
    "X_train, X_test, y_train, y_test = train_test_split(X, y, test_size=0.2, random_state=42, stratify=y)"
   ]
  },
  {
   "attachments": {},
   "cell_type": "markdown",
   "metadata": {},
   "source": [
    "Output the raw test and train datasets"
   ]
  },
  {
   "cell_type": "code",
   "execution_count": 28,
   "metadata": {},
   "outputs": [
    {
     "data": {
      "text/plain": [
       "['./data/pickles/y_train_raw.pkl']"
      ]
     },
     "execution_count": 28,
     "metadata": {},
     "output_type": "execute_result"
    }
   ],
   "source": [
    "joblib.dump(X_test, \"./data/pickles/X_test_raw.pkl\")\n",
    "joblib.dump(y_test, \"./data/pickles/y_test_raw.pkl\")\n",
    "joblib.dump(X_train, \"./data/pickles/X_train_raw.pkl\")\n",
    "joblib.dump(y_train, \"./data/pickles/y_train_raw.pkl\")\n"
   ]
  },
  {
   "attachments": {},
   "cell_type": "markdown",
   "metadata": {},
   "source": [
    "Recombine X_train and y_train for cleaning and pre-processing"
   ]
  },
  {
   "cell_type": "code",
   "execution_count": 29,
   "metadata": {},
   "outputs": [],
   "source": [
    "# perform a left join and reset the index\n",
    "df = (X_train.merge(y_train, how='left', left_index=True, right_index=True)).reset_index(drop=True)\n",
    "\n",
    "# perform a left join and reset the index\n",
    "df_test = (X_test.merge(y_test, how='left', left_index=True, right_index=True)).reset_index(drop=True)"
   ]
  },
  {
   "attachments": {},
   "cell_type": "markdown",
   "metadata": {},
   "source": [
    "Output the raw test and train dataframes for later modelling"
   ]
  },
  {
   "cell_type": "code",
   "execution_count": 30,
   "metadata": {},
   "outputs": [
    {
     "data": {
      "text/plain": [
       "['./data/pickles/df_train_raw.pkl']"
      ]
     },
     "execution_count": 30,
     "metadata": {},
     "output_type": "execute_result"
    }
   ],
   "source": [
    "joblib.dump(df_test, \"./data/pickles/df_test_raw.pkl\")\n",
    "joblib.dump(df, \"./data/pickles/df_train_raw.pkl\")"
   ]
  },
  {
   "attachments": {},
   "cell_type": "markdown",
   "metadata": {},
   "source": [
    "Check NaN values of the dataset"
   ]
  },
  {
   "cell_type": "code",
   "execution_count": 31,
   "metadata": {},
   "outputs": [
    {
     "name": "stdout",
     "output_type": "stream",
     "text": [
      "track_name has 147 NaNs\n",
      "artists has 146 NaNs\n",
      "artist_genre has 12 NaNs\n",
      "playlist_name has 547 NaNs\n"
     ]
    }
   ],
   "source": [
    "print_NANs(df)"
   ]
  },
  {
   "attachments": {},
   "cell_type": "markdown",
   "metadata": {},
   "source": [
    "Investigate NaN track and artist"
   ]
  },
  {
   "cell_type": "code",
   "execution_count": 32,
   "metadata": {},
   "outputs": [
    {
     "data": {
      "text/html": [
       "<div>\n",
       "<style scoped>\n",
       "    .dataframe tbody tr th:only-of-type {\n",
       "        vertical-align: middle;\n",
       "    }\n",
       "\n",
       "    .dataframe tbody tr th {\n",
       "        vertical-align: top;\n",
       "    }\n",
       "\n",
       "    .dataframe thead th {\n",
       "        text-align: right;\n",
       "    }\n",
       "</style>\n",
       "<table border=\"1\" class=\"dataframe\">\n",
       "  <thead>\n",
       "    <tr style=\"text-align: right;\">\n",
       "      <th></th>\n",
       "      <th>track_id</th>\n",
       "      <th>track_name</th>\n",
       "      <th>artists</th>\n",
       "      <th>artist_genre</th>\n",
       "      <th>popularity</th>\n",
       "      <th>danceability</th>\n",
       "      <th>energy</th>\n",
       "      <th>key</th>\n",
       "      <th>loudness</th>\n",
       "      <th>mode</th>\n",
       "      <th>...</th>\n",
       "      <th>instrumentalness</th>\n",
       "      <th>liveness</th>\n",
       "      <th>valence</th>\n",
       "      <th>tempo</th>\n",
       "      <th>duration_ms</th>\n",
       "      <th>time_signature</th>\n",
       "      <th>explicit</th>\n",
       "      <th>query</th>\n",
       "      <th>playlist_name</th>\n",
       "      <th>playlist_mood</th>\n",
       "    </tr>\n",
       "  </thead>\n",
       "  <tbody>\n",
       "    <tr>\n",
       "      <th>15334</th>\n",
       "      <td>67UzeF97qWMpXfwZYJftTO</td>\n",
       "      <td>NaN</td>\n",
       "      <td>NaN</td>\n",
       "      <td>[australian psych, neo-psychedelic]</td>\n",
       "      <td>0</td>\n",
       "      <td>0.4850</td>\n",
       "      <td>0.925</td>\n",
       "      <td>1</td>\n",
       "      <td>-5.856</td>\n",
       "      <td>0</td>\n",
       "      <td>...</td>\n",
       "      <td>0.010300</td>\n",
       "      <td>0.0482</td>\n",
       "      <td>0.574</td>\n",
       "      <td>107.916</td>\n",
       "      <td>297857</td>\n",
       "      <td>3</td>\n",
       "      <td>False</td>\n",
       "      <td>high octane</td>\n",
       "      <td>High Octane  songs</td>\n",
       "      <td>energetic</td>\n",
       "    </tr>\n",
       "    <tr>\n",
       "      <th>4445</th>\n",
       "      <td>4PZQGu0VYDGkj9xqcIpFeO</td>\n",
       "      <td>NaN</td>\n",
       "      <td>NaN</td>\n",
       "      <td>[australian psych, neo-psychedelic]</td>\n",
       "      <td>0</td>\n",
       "      <td>0.4690</td>\n",
       "      <td>0.573</td>\n",
       "      <td>2</td>\n",
       "      <td>-6.263</td>\n",
       "      <td>1</td>\n",
       "      <td>...</td>\n",
       "      <td>0.000043</td>\n",
       "      <td>0.1170</td>\n",
       "      <td>0.244</td>\n",
       "      <td>141.720</td>\n",
       "      <td>270881</td>\n",
       "      <td>4</td>\n",
       "      <td>False</td>\n",
       "      <td>blissful</td>\n",
       "      <td>Blissful Bollywood🥰 #2</td>\n",
       "      <td>happy</td>\n",
       "    </tr>\n",
       "    <tr>\n",
       "      <th>29219</th>\n",
       "      <td>7q7kUnhGYdocY7Bn4fC34g</td>\n",
       "      <td>NaN</td>\n",
       "      <td>NaN</td>\n",
       "      <td>[australian psych, neo-psychedelic]</td>\n",
       "      <td>0</td>\n",
       "      <td>0.4390</td>\n",
       "      <td>0.911</td>\n",
       "      <td>6</td>\n",
       "      <td>-4.096</td>\n",
       "      <td>1</td>\n",
       "      <td>...</td>\n",
       "      <td>0.553000</td>\n",
       "      <td>0.2880</td>\n",
       "      <td>0.782</td>\n",
       "      <td>181.499</td>\n",
       "      <td>164455</td>\n",
       "      <td>4</td>\n",
       "      <td>True</td>\n",
       "      <td>heavy sad</td>\n",
       "      <td>heavy stone make sad brain voice quiet 💪😤</td>\n",
       "      <td>sad</td>\n",
       "    </tr>\n",
       "    <tr>\n",
       "      <th>14892</th>\n",
       "      <td>4RLGpC5pvisS0py1wJ8OF4</td>\n",
       "      <td>NaN</td>\n",
       "      <td>Cubenssi</td>\n",
       "      <td>[chill breakcore]</td>\n",
       "      <td>11</td>\n",
       "      <td>0.0809</td>\n",
       "      <td>0.519</td>\n",
       "      <td>3</td>\n",
       "      <td>-13.918</td>\n",
       "      <td>0</td>\n",
       "      <td>...</td>\n",
       "      <td>0.936000</td>\n",
       "      <td>0.1390</td>\n",
       "      <td>0.378</td>\n",
       "      <td>76.219</td>\n",
       "      <td>106668</td>\n",
       "      <td>3</td>\n",
       "      <td>False</td>\n",
       "      <td>depress</td>\n",
       "      <td>DEPRESSIVE BREAKCORE&gt;&gt;&gt;</td>\n",
       "      <td>sad</td>\n",
       "    </tr>\n",
       "    <tr>\n",
       "      <th>107456</th>\n",
       "      <td>6JHm7Da8ZX0KA5xZhXiaB2</td>\n",
       "      <td>NaN</td>\n",
       "      <td>NaN</td>\n",
       "      <td>[australian psych, neo-psychedelic]</td>\n",
       "      <td>0</td>\n",
       "      <td>0.5430</td>\n",
       "      <td>0.723</td>\n",
       "      <td>1</td>\n",
       "      <td>-5.326</td>\n",
       "      <td>0</td>\n",
       "      <td>...</td>\n",
       "      <td>0.000000</td>\n",
       "      <td>0.0738</td>\n",
       "      <td>0.292</td>\n",
       "      <td>145.779</td>\n",
       "      <td>336037</td>\n",
       "      <td>4</td>\n",
       "      <td>False</td>\n",
       "      <td>blissful</td>\n",
       "      <td>Blissful Bollywood🥰 #2</td>\n",
       "      <td>happy</td>\n",
       "    </tr>\n",
       "  </tbody>\n",
       "</table>\n",
       "<p>5 rows × 22 columns</p>\n",
       "</div>"
      ],
      "text/plain": [
       "                      track_id track_name   artists  \\\n",
       "15334   67UzeF97qWMpXfwZYJftTO        NaN       NaN   \n",
       "4445    4PZQGu0VYDGkj9xqcIpFeO        NaN       NaN   \n",
       "29219   7q7kUnhGYdocY7Bn4fC34g        NaN       NaN   \n",
       "14892   4RLGpC5pvisS0py1wJ8OF4        NaN  Cubenssi   \n",
       "107456  6JHm7Da8ZX0KA5xZhXiaB2        NaN       NaN   \n",
       "\n",
       "                               artist_genre  popularity  danceability  energy  \\\n",
       "15334   [australian psych, neo-psychedelic]           0        0.4850   0.925   \n",
       "4445    [australian psych, neo-psychedelic]           0        0.4690   0.573   \n",
       "29219   [australian psych, neo-psychedelic]           0        0.4390   0.911   \n",
       "14892                     [chill breakcore]          11        0.0809   0.519   \n",
       "107456  [australian psych, neo-psychedelic]           0        0.5430   0.723   \n",
       "\n",
       "        key  loudness  mode  ...  instrumentalness  liveness  valence  \\\n",
       "15334     1    -5.856     0  ...          0.010300    0.0482    0.574   \n",
       "4445      2    -6.263     1  ...          0.000043    0.1170    0.244   \n",
       "29219     6    -4.096     1  ...          0.553000    0.2880    0.782   \n",
       "14892     3   -13.918     0  ...          0.936000    0.1390    0.378   \n",
       "107456    1    -5.326     0  ...          0.000000    0.0738    0.292   \n",
       "\n",
       "          tempo  duration_ms  time_signature  explicit        query  \\\n",
       "15334   107.916       297857               3     False  high octane   \n",
       "4445    141.720       270881               4     False     blissful   \n",
       "29219   181.499       164455               4      True    heavy sad   \n",
       "14892    76.219       106668               3     False      depress   \n",
       "107456  145.779       336037               4     False     blissful   \n",
       "\n",
       "                                    playlist_name playlist_mood  \n",
       "15334                          High Octane  songs     energetic  \n",
       "4445                       Blissful Bollywood🥰 #2         happy  \n",
       "29219   heavy stone make sad brain voice quiet 💪😤           sad  \n",
       "14892                     DEPRESSIVE BREAKCORE>>>           sad  \n",
       "107456                     Blissful Bollywood🥰 #2         happy  \n",
       "\n",
       "[5 rows x 22 columns]"
      ]
     },
     "execution_count": 32,
     "metadata": {},
     "output_type": "execute_result"
    }
   ],
   "source": [
    "df[\n",
    "    df['track_name'].isna()\n",
    "].sample(5, random_state=77)"
   ]
  },
  {
   "attachments": {},
   "cell_type": "markdown",
   "metadata": {},
   "source": [
    "NaN track name and artist appear to line up, are null for genre too, and have popularity of zero.  We don't necessarily need track name and artist name but we have enough data to not worry about dropping ~150 rows out of 150000.\n",
    "\n",
    "Drop the NaN artists."
   ]
  },
  {
   "cell_type": "code",
   "execution_count": 33,
   "metadata": {},
   "outputs": [],
   "source": [
    "df = df[\n",
    "    df['artists'].notna()\n",
    "]"
   ]
  },
  {
   "cell_type": "code",
   "execution_count": 34,
   "metadata": {},
   "outputs": [
    {
     "name": "stdout",
     "output_type": "stream",
     "text": [
      "track_name has 1 NaNs\n",
      "artist_genre has 12 NaNs\n",
      "playlist_name has 546 NaNs\n"
     ]
    }
   ],
   "source": [
    "print_NANs(df)"
   ]
  },
  {
   "attachments": {},
   "cell_type": "markdown",
   "metadata": {},
   "source": [
    "We have 1 NaN left in track name, therefore we must have dropped the same rows for artist and track names. Let's drop the one remaining."
   ]
  },
  {
   "cell_type": "code",
   "execution_count": 35,
   "metadata": {},
   "outputs": [
    {
     "name": "stdout",
     "output_type": "stream",
     "text": [
      "artist_genre has 12 NaNs\n",
      "playlist_name has 546 NaNs\n"
     ]
    }
   ],
   "source": [
    "df = df[\n",
    "    df['track_name'].notna()\n",
    "]\n",
    "print_NANs(df)"
   ]
  },
  {
   "attachments": {},
   "cell_type": "markdown",
   "metadata": {},
   "source": [
    "Check some examples of the NaN values in playlist_name"
   ]
  },
  {
   "cell_type": "code",
   "execution_count": 36,
   "metadata": {},
   "outputs": [
    {
     "data": {
      "text/html": [
       "<div>\n",
       "<style scoped>\n",
       "    .dataframe tbody tr th:only-of-type {\n",
       "        vertical-align: middle;\n",
       "    }\n",
       "\n",
       "    .dataframe tbody tr th {\n",
       "        vertical-align: top;\n",
       "    }\n",
       "\n",
       "    .dataframe thead th {\n",
       "        text-align: right;\n",
       "    }\n",
       "</style>\n",
       "<table border=\"1\" class=\"dataframe\">\n",
       "  <thead>\n",
       "    <tr style=\"text-align: right;\">\n",
       "      <th></th>\n",
       "      <th>track_id</th>\n",
       "      <th>track_name</th>\n",
       "      <th>artists</th>\n",
       "      <th>artist_genre</th>\n",
       "      <th>popularity</th>\n",
       "      <th>danceability</th>\n",
       "      <th>energy</th>\n",
       "      <th>key</th>\n",
       "      <th>loudness</th>\n",
       "      <th>mode</th>\n",
       "      <th>...</th>\n",
       "      <th>instrumentalness</th>\n",
       "      <th>liveness</th>\n",
       "      <th>valence</th>\n",
       "      <th>tempo</th>\n",
       "      <th>duration_ms</th>\n",
       "      <th>time_signature</th>\n",
       "      <th>explicit</th>\n",
       "      <th>query</th>\n",
       "      <th>playlist_name</th>\n",
       "      <th>playlist_mood</th>\n",
       "    </tr>\n",
       "  </thead>\n",
       "  <tbody>\n",
       "    <tr>\n",
       "      <th>120897</th>\n",
       "      <td>0eH2eHURaXUP15D8gQlfjx</td>\n",
       "      <td>LoveGame</td>\n",
       "      <td>Lady Gaga</td>\n",
       "      <td>[art pop, dance pop, pop]</td>\n",
       "      <td>73</td>\n",
       "      <td>0.894</td>\n",
       "      <td>0.678</td>\n",
       "      <td>6</td>\n",
       "      <td>-5.611</td>\n",
       "      <td>0</td>\n",
       "      <td>...</td>\n",
       "      <td>0.000002</td>\n",
       "      <td>0.317</td>\n",
       "      <td>0.8440</td>\n",
       "      <td>105.024</td>\n",
       "      <td>216333</td>\n",
       "      <td>4</td>\n",
       "      <td>False</td>\n",
       "      <td>beach</td>\n",
       "      <td>NaN</td>\n",
       "      <td>chill</td>\n",
       "    </tr>\n",
       "    <tr>\n",
       "      <th>99814</th>\n",
       "      <td>6lTG1xmx6XMtQYOSLjZG5V</td>\n",
       "      <td>Spectre</td>\n",
       "      <td>A.C. XZA</td>\n",
       "      <td>[]</td>\n",
       "      <td>2</td>\n",
       "      <td>0.781</td>\n",
       "      <td>0.490</td>\n",
       "      <td>11</td>\n",
       "      <td>-8.982</td>\n",
       "      <td>0</td>\n",
       "      <td>...</td>\n",
       "      <td>0.749000</td>\n",
       "      <td>0.112</td>\n",
       "      <td>0.1370</td>\n",
       "      <td>132.935</td>\n",
       "      <td>138998</td>\n",
       "      <td>4</td>\n",
       "      <td>True</td>\n",
       "      <td>angriest</td>\n",
       "      <td>NaN</td>\n",
       "      <td>sad</td>\n",
       "    </tr>\n",
       "    <tr>\n",
       "      <th>60786</th>\n",
       "      <td>0NjW4SKY3gbfl2orl1p8hr</td>\n",
       "      <td>IFHY (feat. Pharrell)</td>\n",
       "      <td>Tyler, The Creator, Pharrell Williams</td>\n",
       "      <td>[hip hop, rap]</td>\n",
       "      <td>72</td>\n",
       "      <td>0.358</td>\n",
       "      <td>0.715</td>\n",
       "      <td>7</td>\n",
       "      <td>-6.181</td>\n",
       "      <td>1</td>\n",
       "      <td>...</td>\n",
       "      <td>0.000000</td>\n",
       "      <td>0.581</td>\n",
       "      <td>0.2750</td>\n",
       "      <td>85.478</td>\n",
       "      <td>319253</td>\n",
       "      <td>4</td>\n",
       "      <td>True</td>\n",
       "      <td>beach</td>\n",
       "      <td>NaN</td>\n",
       "      <td>chill</td>\n",
       "    </tr>\n",
       "    <tr>\n",
       "      <th>35860</th>\n",
       "      <td>1EryAkZ0VHstC6haIxVBiE</td>\n",
       "      <td>Sextape</td>\n",
       "      <td>Deftones</td>\n",
       "      <td>[alternative metal, nu metal, rap metal, rock,...</td>\n",
       "      <td>75</td>\n",
       "      <td>0.367</td>\n",
       "      <td>0.634</td>\n",
       "      <td>5</td>\n",
       "      <td>-6.475</td>\n",
       "      <td>1</td>\n",
       "      <td>...</td>\n",
       "      <td>0.075900</td>\n",
       "      <td>0.116</td>\n",
       "      <td>0.0964</td>\n",
       "      <td>89.981</td>\n",
       "      <td>241533</td>\n",
       "      <td>4</td>\n",
       "      <td>False</td>\n",
       "      <td>crying</td>\n",
       "      <td>NaN</td>\n",
       "      <td>sad</td>\n",
       "    </tr>\n",
       "    <tr>\n",
       "      <th>103100</th>\n",
       "      <td>7hbb8vRcx3VICc1Yy6lnp8</td>\n",
       "      <td>NO TVS ALLOWED</td>\n",
       "      <td>Mibhova, Phouelisi</td>\n",
       "      <td>[]</td>\n",
       "      <td>26</td>\n",
       "      <td>0.659</td>\n",
       "      <td>0.494</td>\n",
       "      <td>7</td>\n",
       "      <td>-8.378</td>\n",
       "      <td>1</td>\n",
       "      <td>...</td>\n",
       "      <td>0.000000</td>\n",
       "      <td>0.255</td>\n",
       "      <td>0.3920</td>\n",
       "      <td>75.027</td>\n",
       "      <td>104000</td>\n",
       "      <td>4</td>\n",
       "      <td>False</td>\n",
       "      <td>crying</td>\n",
       "      <td>NaN</td>\n",
       "      <td>sad</td>\n",
       "    </tr>\n",
       "  </tbody>\n",
       "</table>\n",
       "<p>5 rows × 22 columns</p>\n",
       "</div>"
      ],
      "text/plain": [
       "                      track_id             track_name  \\\n",
       "120897  0eH2eHURaXUP15D8gQlfjx               LoveGame   \n",
       "99814   6lTG1xmx6XMtQYOSLjZG5V                Spectre   \n",
       "60786   0NjW4SKY3gbfl2orl1p8hr  IFHY (feat. Pharrell)   \n",
       "35860   1EryAkZ0VHstC6haIxVBiE                Sextape   \n",
       "103100  7hbb8vRcx3VICc1Yy6lnp8         NO TVS ALLOWED   \n",
       "\n",
       "                                      artists  \\\n",
       "120897                              Lady Gaga   \n",
       "99814                                A.C. XZA   \n",
       "60786   Tyler, The Creator, Pharrell Williams   \n",
       "35860                                Deftones   \n",
       "103100                     Mibhova, Phouelisi   \n",
       "\n",
       "                                             artist_genre  popularity  \\\n",
       "120897                          [art pop, dance pop, pop]          73   \n",
       "99814                                                  []           2   \n",
       "60786                                      [hip hop, rap]          72   \n",
       "35860   [alternative metal, nu metal, rap metal, rock,...          75   \n",
       "103100                                                 []          26   \n",
       "\n",
       "        danceability  energy  key  loudness  mode  ...  instrumentalness  \\\n",
       "120897         0.894   0.678    6    -5.611     0  ...          0.000002   \n",
       "99814          0.781   0.490   11    -8.982     0  ...          0.749000   \n",
       "60786          0.358   0.715    7    -6.181     1  ...          0.000000   \n",
       "35860          0.367   0.634    5    -6.475     1  ...          0.075900   \n",
       "103100         0.659   0.494    7    -8.378     1  ...          0.000000   \n",
       "\n",
       "        liveness  valence    tempo  duration_ms  time_signature  explicit  \\\n",
       "120897     0.317   0.8440  105.024       216333               4     False   \n",
       "99814      0.112   0.1370  132.935       138998               4      True   \n",
       "60786      0.581   0.2750   85.478       319253               4      True   \n",
       "35860      0.116   0.0964   89.981       241533               4     False   \n",
       "103100     0.255   0.3920   75.027       104000               4     False   \n",
       "\n",
       "           query  playlist_name playlist_mood  \n",
       "120897     beach            NaN         chill  \n",
       "99814   angriest            NaN           sad  \n",
       "60786      beach            NaN         chill  \n",
       "35860     crying            NaN           sad  \n",
       "103100    crying            NaN           sad  \n",
       "\n",
       "[5 rows x 22 columns]"
      ]
     },
     "execution_count": 36,
     "metadata": {},
     "output_type": "execute_result"
    }
   ],
   "source": [
    "df[\n",
    "    df['playlist_name'].isna()\n",
    "].sample(5, random_state=11)"
   ]
  },
  {
   "attachments": {},
   "cell_type": "markdown",
   "metadata": {},
   "source": [
    "There's nothing about these songs to suggest we should drop them"
   ]
  },
  {
   "cell_type": "code",
   "execution_count": 37,
   "metadata": {},
   "outputs": [],
   "source": [
    "pl_nans = df[\n",
    "    df['playlist_name'].isna()\n",
    "]"
   ]
  },
  {
   "cell_type": "code",
   "execution_count": 38,
   "metadata": {},
   "outputs": [
    {
     "data": {
      "text/plain": [
       "upbeat      156\n",
       "screamo     110\n",
       "angriest     93\n",
       "beach        89\n",
       "pumped       39\n",
       "crying       24\n",
       "angry        18\n",
       "sad          17\n",
       "Name: query, dtype: int64"
      ]
     },
     "execution_count": 38,
     "metadata": {},
     "output_type": "execute_result"
    }
   ],
   "source": [
    "pl_nans['query'].value_counts()"
   ]
  },
  {
   "attachments": {},
   "cell_type": "markdown",
   "metadata": {},
   "source": [
    "Grouping the tracks with null values for playlist name by query, we see there examples for 8 different queries.  It seems likely that these originate from one playlist for each query, and the playlist name was not written"
   ]
  },
  {
   "cell_type": "code",
   "execution_count": 39,
   "metadata": {},
   "outputs": [
    {
     "data": {
      "text/html": [
       "<div>\n",
       "<style scoped>\n",
       "    .dataframe tbody tr th:only-of-type {\n",
       "        vertical-align: middle;\n",
       "    }\n",
       "\n",
       "    .dataframe tbody tr th {\n",
       "        vertical-align: top;\n",
       "    }\n",
       "\n",
       "    .dataframe thead th {\n",
       "        text-align: right;\n",
       "    }\n",
       "</style>\n",
       "<table border=\"1\" class=\"dataframe\">\n",
       "  <thead>\n",
       "    <tr style=\"text-align: right;\">\n",
       "      <th></th>\n",
       "      <th>track_id</th>\n",
       "      <th>track_name</th>\n",
       "      <th>artists</th>\n",
       "      <th>artist_genre</th>\n",
       "      <th>popularity</th>\n",
       "      <th>danceability</th>\n",
       "      <th>energy</th>\n",
       "      <th>key</th>\n",
       "      <th>loudness</th>\n",
       "      <th>mode</th>\n",
       "      <th>...</th>\n",
       "      <th>instrumentalness</th>\n",
       "      <th>liveness</th>\n",
       "      <th>valence</th>\n",
       "      <th>tempo</th>\n",
       "      <th>duration_ms</th>\n",
       "      <th>time_signature</th>\n",
       "      <th>explicit</th>\n",
       "      <th>query</th>\n",
       "      <th>playlist_name</th>\n",
       "      <th>playlist_mood</th>\n",
       "    </tr>\n",
       "  </thead>\n",
       "  <tbody>\n",
       "    <tr>\n",
       "      <th>1817</th>\n",
       "      <td>4BYejINgfZF0qKDMEH2cim</td>\n",
       "      <td>Picture To Burn</td>\n",
       "      <td>Taylor Swift</td>\n",
       "      <td>[pop]</td>\n",
       "      <td>60</td>\n",
       "      <td>0.658</td>\n",
       "      <td>0.877</td>\n",
       "      <td>7</td>\n",
       "      <td>-2.098</td>\n",
       "      <td>1</td>\n",
       "      <td>...</td>\n",
       "      <td>0.000000</td>\n",
       "      <td>0.0962</td>\n",
       "      <td>0.821</td>\n",
       "      <td>105.586</td>\n",
       "      <td>173067</td>\n",
       "      <td>4</td>\n",
       "      <td>False</td>\n",
       "      <td>angry</td>\n",
       "      <td>NaN</td>\n",
       "      <td>sad</td>\n",
       "    </tr>\n",
       "    <tr>\n",
       "      <th>6540</th>\n",
       "      <td>1Bx0zEdVjkFlV27iKaePug</td>\n",
       "      <td>Man Down</td>\n",
       "      <td>Rihanna</td>\n",
       "      <td>[barbadian pop, pop, urban contemporary]</td>\n",
       "      <td>70</td>\n",
       "      <td>0.470</td>\n",
       "      <td>0.904</td>\n",
       "      <td>0</td>\n",
       "      <td>-4.024</td>\n",
       "      <td>0</td>\n",
       "      <td>...</td>\n",
       "      <td>0.000000</td>\n",
       "      <td>0.0491</td>\n",
       "      <td>0.557</td>\n",
       "      <td>155.788</td>\n",
       "      <td>267000</td>\n",
       "      <td>4</td>\n",
       "      <td>True</td>\n",
       "      <td>angry</td>\n",
       "      <td>NaN</td>\n",
       "      <td>sad</td>\n",
       "    </tr>\n",
       "    <tr>\n",
       "      <th>27316</th>\n",
       "      <td>4fixebDZAVToLbUCuEloa2</td>\n",
       "      <td>Womanizer</td>\n",
       "      <td>Britney Spears</td>\n",
       "      <td>[dance pop, pop]</td>\n",
       "      <td>76</td>\n",
       "      <td>0.724</td>\n",
       "      <td>0.695</td>\n",
       "      <td>11</td>\n",
       "      <td>-5.226</td>\n",
       "      <td>1</td>\n",
       "      <td>...</td>\n",
       "      <td>0.000000</td>\n",
       "      <td>0.0889</td>\n",
       "      <td>0.235</td>\n",
       "      <td>139.000</td>\n",
       "      <td>224400</td>\n",
       "      <td>4</td>\n",
       "      <td>False</td>\n",
       "      <td>angry</td>\n",
       "      <td>NaN</td>\n",
       "      <td>sad</td>\n",
       "    </tr>\n",
       "    <tr>\n",
       "      <th>29753</th>\n",
       "      <td>0RP1kqoSPkVXsKiQNhMKzV</td>\n",
       "      <td>mad woman</td>\n",
       "      <td>Taylor Swift</td>\n",
       "      <td>[pop]</td>\n",
       "      <td>64</td>\n",
       "      <td>0.593</td>\n",
       "      <td>0.700</td>\n",
       "      <td>3</td>\n",
       "      <td>-9.016</td>\n",
       "      <td>1</td>\n",
       "      <td>...</td>\n",
       "      <td>0.000007</td>\n",
       "      <td>0.1160</td>\n",
       "      <td>0.451</td>\n",
       "      <td>141.898</td>\n",
       "      <td>237267</td>\n",
       "      <td>4</td>\n",
       "      <td>True</td>\n",
       "      <td>angry</td>\n",
       "      <td>NaN</td>\n",
       "      <td>sad</td>\n",
       "    </tr>\n",
       "    <tr>\n",
       "      <th>46343</th>\n",
       "      <td>7aonAWn0J0AJ47ZU9WHCXC</td>\n",
       "      <td>INFERNO</td>\n",
       "      <td>Sub Urban, Bella Poarch</td>\n",
       "      <td>[modern indie pop]</td>\n",
       "      <td>66</td>\n",
       "      <td>0.820</td>\n",
       "      <td>0.611</td>\n",
       "      <td>9</td>\n",
       "      <td>-5.020</td>\n",
       "      <td>0</td>\n",
       "      <td>...</td>\n",
       "      <td>0.000025</td>\n",
       "      <td>0.0684</td>\n",
       "      <td>0.637</td>\n",
       "      <td>127.883</td>\n",
       "      <td>133134</td>\n",
       "      <td>4</td>\n",
       "      <td>False</td>\n",
       "      <td>angry</td>\n",
       "      <td>NaN</td>\n",
       "      <td>sad</td>\n",
       "    </tr>\n",
       "  </tbody>\n",
       "</table>\n",
       "<p>5 rows × 22 columns</p>\n",
       "</div>"
      ],
      "text/plain": [
       "                     track_id       track_name                  artists  \\\n",
       "1817   4BYejINgfZF0qKDMEH2cim  Picture To Burn             Taylor Swift   \n",
       "6540   1Bx0zEdVjkFlV27iKaePug         Man Down                  Rihanna   \n",
       "27316  4fixebDZAVToLbUCuEloa2        Womanizer           Britney Spears   \n",
       "29753  0RP1kqoSPkVXsKiQNhMKzV        mad woman             Taylor Swift   \n",
       "46343  7aonAWn0J0AJ47ZU9WHCXC          INFERNO  Sub Urban, Bella Poarch   \n",
       "\n",
       "                                   artist_genre  popularity  danceability  \\\n",
       "1817                                      [pop]          60         0.658   \n",
       "6540   [barbadian pop, pop, urban contemporary]          70         0.470   \n",
       "27316                          [dance pop, pop]          76         0.724   \n",
       "29753                                     [pop]          64         0.593   \n",
       "46343                        [modern indie pop]          66         0.820   \n",
       "\n",
       "       energy  key  loudness  mode  ...  instrumentalness  liveness  valence  \\\n",
       "1817    0.877    7    -2.098     1  ...          0.000000    0.0962    0.821   \n",
       "6540    0.904    0    -4.024     0  ...          0.000000    0.0491    0.557   \n",
       "27316   0.695   11    -5.226     1  ...          0.000000    0.0889    0.235   \n",
       "29753   0.700    3    -9.016     1  ...          0.000007    0.1160    0.451   \n",
       "46343   0.611    9    -5.020     0  ...          0.000025    0.0684    0.637   \n",
       "\n",
       "         tempo  duration_ms  time_signature  explicit  query  playlist_name  \\\n",
       "1817   105.586       173067               4     False  angry            NaN   \n",
       "6540   155.788       267000               4      True  angry            NaN   \n",
       "27316  139.000       224400               4     False  angry            NaN   \n",
       "29753  141.898       237267               4      True  angry            NaN   \n",
       "46343  127.883       133134               4     False  angry            NaN   \n",
       "\n",
       "      playlist_mood  \n",
       "1817            sad  \n",
       "6540            sad  \n",
       "27316           sad  \n",
       "29753           sad  \n",
       "46343           sad  \n",
       "\n",
       "[5 rows x 22 columns]"
      ]
     },
     "execution_count": 39,
     "metadata": {},
     "output_type": "execute_result"
    }
   ],
   "source": [
    "pl_nans[\n",
    "    pl_nans['query'] == \"angry\"].head()"
   ]
  },
  {
   "attachments": {},
   "cell_type": "markdown",
   "metadata": {},
   "source": [
    "We don't necessarily need playlist_name for any analysis, only for quality checking that the tracks are in the correct mood.  The examples we have seen appear to match the query in terms of mood by ear, so let's give the NaN values a name that matches the query. "
   ]
  },
  {
   "cell_type": "code",
   "execution_count": 40,
   "metadata": {},
   "outputs": [],
   "source": [
    "df['playlist_name'].fillna(df['query'], inplace=True)"
   ]
  },
  {
   "cell_type": "code",
   "execution_count": 41,
   "metadata": {},
   "outputs": [
    {
     "name": "stdout",
     "output_type": "stream",
     "text": [
      "artist_genre has 12 NaNs\n"
     ]
    }
   ],
   "source": [
    "print_NANs(df)"
   ]
  },
  {
   "cell_type": "code",
   "execution_count": 42,
   "metadata": {},
   "outputs": [
    {
     "data": {
      "text/plain": [
       "[]                                                                          16402\n",
       "[]                                                                           5557\n",
       "[pop]                                                                        1550\n",
       "['lo-fi beats']                                                              1065\n",
       "[drift phonk]                                                                 761\n",
       "                                                                            ...  \n",
       "[irish folk, irish neo-traditional]                                             1\n",
       "[alternative metal, alternative rock, neo mellow, pop rock, post-grunge]        1\n",
       "[dubstep, gaming dubstep, psybass]                                              1\n",
       "['australian dance']                                                            1\n",
       "['indonesian jazz', 'indonesian pop', 'indonesian singer-songwriter']           1\n",
       "Name: artist_genre, Length: 13403, dtype: int64"
      ]
     },
     "execution_count": 42,
     "metadata": {},
     "output_type": "execute_result"
    }
   ],
   "source": [
    "df['artist_genre'].value_counts()"
   ]
  },
  {
   "attachments": {},
   "cell_type": "markdown",
   "metadata": {},
   "source": [
    "The only remaining NaNs are from artist_genre where the Spotify API had some sort of http error (e.g. 400).  Checking the value counts we see that the most common occurrence in genre is a string of an empty list '[]', which is populated when a genre cannot be found.\n",
    "\n",
    "Therefore we should fill the NaN values with the same empty list string, as they are essentially missing genre too."
   ]
  },
  {
   "cell_type": "code",
   "execution_count": 43,
   "metadata": {},
   "outputs": [
    {
     "data": {
      "text/html": [
       "<div>\n",
       "<style scoped>\n",
       "    .dataframe tbody tr th:only-of-type {\n",
       "        vertical-align: middle;\n",
       "    }\n",
       "\n",
       "    .dataframe tbody tr th {\n",
       "        vertical-align: top;\n",
       "    }\n",
       "\n",
       "    .dataframe thead th {\n",
       "        text-align: right;\n",
       "    }\n",
       "</style>\n",
       "<table border=\"1\" class=\"dataframe\">\n",
       "  <thead>\n",
       "    <tr style=\"text-align: right;\">\n",
       "      <th></th>\n",
       "      <th>track_id</th>\n",
       "      <th>track_name</th>\n",
       "      <th>artists</th>\n",
       "      <th>artist_genre</th>\n",
       "      <th>popularity</th>\n",
       "      <th>danceability</th>\n",
       "      <th>energy</th>\n",
       "      <th>key</th>\n",
       "      <th>loudness</th>\n",
       "      <th>mode</th>\n",
       "      <th>...</th>\n",
       "      <th>instrumentalness</th>\n",
       "      <th>liveness</th>\n",
       "      <th>valence</th>\n",
       "      <th>tempo</th>\n",
       "      <th>duration_ms</th>\n",
       "      <th>time_signature</th>\n",
       "      <th>explicit</th>\n",
       "      <th>query</th>\n",
       "      <th>playlist_name</th>\n",
       "      <th>playlist_mood</th>\n",
       "    </tr>\n",
       "  </thead>\n",
       "  <tbody>\n",
       "    <tr>\n",
       "      <th>1430</th>\n",
       "      <td>1J0oCWx3OcL0SsFB45ejlL</td>\n",
       "      <td>Nba Youngboy Whap Whap (Remix)</td>\n",
       "      <td>tnv_30</td>\n",
       "      <td>NaN</td>\n",
       "      <td>0</td>\n",
       "      <td>0.800</td>\n",
       "      <td>0.803</td>\n",
       "      <td>6</td>\n",
       "      <td>-8.619</td>\n",
       "      <td>0</td>\n",
       "      <td>...</td>\n",
       "      <td>0.000093</td>\n",
       "      <td>0.0993</td>\n",
       "      <td>0.6060</td>\n",
       "      <td>107.172</td>\n",
       "      <td>208538</td>\n",
       "      <td>4</td>\n",
       "      <td>True</td>\n",
       "      <td>aggressive</td>\n",
       "      <td>nbayoungboy (Aggressive) 💚</td>\n",
       "      <td>energetic</td>\n",
       "    </tr>\n",
       "    <tr>\n",
       "      <th>13531</th>\n",
       "      <td>73TWeCvTA60pPnvEjqol86</td>\n",
       "      <td>Орлеанская дева, действие I: No. 6, Гимн \"Царь...</td>\n",
       "      <td>Irina Arkhipova, Андрей Соколов, Виктор Селива...</td>\n",
       "      <td>NaN</td>\n",
       "      <td>9</td>\n",
       "      <td>0.249</td>\n",
       "      <td>0.335</td>\n",
       "      <td>8</td>\n",
       "      <td>-13.966</td>\n",
       "      <td>1</td>\n",
       "      <td>...</td>\n",
       "      <td>0.005590</td>\n",
       "      <td>0.1220</td>\n",
       "      <td>0.0402</td>\n",
       "      <td>110.075</td>\n",
       "      <td>392440</td>\n",
       "      <td>3</td>\n",
       "      <td>False</td>\n",
       "      <td>unhappy</td>\n",
       "      <td>POV: You're an unhappy muse on Mount Parnassus</td>\n",
       "      <td>sad</td>\n",
       "    </tr>\n",
       "    <tr>\n",
       "      <th>57220</th>\n",
       "      <td>1CCDIow4pPYyJYzhtTUYz2</td>\n",
       "      <td>RAW SHIT (feat. Migos)</td>\n",
       "      <td>DaBaby, Migos</td>\n",
       "      <td>NaN</td>\n",
       "      <td>54</td>\n",
       "      <td>0.874</td>\n",
       "      <td>0.714</td>\n",
       "      <td>5</td>\n",
       "      <td>-4.946</td>\n",
       "      <td>1</td>\n",
       "      <td>...</td>\n",
       "      <td>0.000000</td>\n",
       "      <td>0.3560</td>\n",
       "      <td>0.8500</td>\n",
       "      <td>130.046</td>\n",
       "      <td>216678</td>\n",
       "      <td>4</td>\n",
       "      <td>True</td>\n",
       "      <td>pumped</td>\n",
       "      <td>Pumped up songs</td>\n",
       "      <td>energetic</td>\n",
       "    </tr>\n",
       "  </tbody>\n",
       "</table>\n",
       "<p>3 rows × 22 columns</p>\n",
       "</div>"
      ],
      "text/plain": [
       "                     track_id  \\\n",
       "1430   1J0oCWx3OcL0SsFB45ejlL   \n",
       "13531  73TWeCvTA60pPnvEjqol86   \n",
       "57220  1CCDIow4pPYyJYzhtTUYz2   \n",
       "\n",
       "                                              track_name  \\\n",
       "1430                      Nba Youngboy Whap Whap (Remix)   \n",
       "13531  Орлеанская дева, действие I: No. 6, Гимн \"Царь...   \n",
       "57220                             RAW SHIT (feat. Migos)   \n",
       "\n",
       "                                                 artists artist_genre  \\\n",
       "1430                                              tnv_30          NaN   \n",
       "13531  Irina Arkhipova, Андрей Соколов, Виктор Селива...          NaN   \n",
       "57220                                      DaBaby, Migos          NaN   \n",
       "\n",
       "       popularity  danceability  energy  key  loudness  mode  ...  \\\n",
       "1430            0         0.800   0.803    6    -8.619     0  ...   \n",
       "13531           9         0.249   0.335    8   -13.966     1  ...   \n",
       "57220          54         0.874   0.714    5    -4.946     1  ...   \n",
       "\n",
       "       instrumentalness  liveness  valence    tempo  duration_ms  \\\n",
       "1430           0.000093    0.0993   0.6060  107.172       208538   \n",
       "13531          0.005590    0.1220   0.0402  110.075       392440   \n",
       "57220          0.000000    0.3560   0.8500  130.046       216678   \n",
       "\n",
       "       time_signature  explicit       query  \\\n",
       "1430                4      True  aggressive   \n",
       "13531               3     False     unhappy   \n",
       "57220               4      True      pumped   \n",
       "\n",
       "                                        playlist_name playlist_mood  \n",
       "1430                       nbayoungboy (Aggressive) 💚     energetic  \n",
       "13531  POV: You're an unhappy muse on Mount Parnassus           sad  \n",
       "57220                                 Pumped up songs     energetic  \n",
       "\n",
       "[3 rows x 22 columns]"
      ]
     },
     "execution_count": 43,
     "metadata": {},
     "output_type": "execute_result"
    }
   ],
   "source": [
    "df[\n",
    "    df['artist_genre'].isna()\n",
    "].head(3)"
   ]
  },
  {
   "cell_type": "code",
   "execution_count": 44,
   "metadata": {},
   "outputs": [],
   "source": [
    "df = df.fillna(\"[]\")"
   ]
  },
  {
   "attachments": {},
   "cell_type": "markdown",
   "metadata": {},
   "source": [
    "Check NaNs again"
   ]
  },
  {
   "cell_type": "code",
   "execution_count": 45,
   "metadata": {},
   "outputs": [
    {
     "name": "stdout",
     "output_type": "stream",
     "text": [
      "There are no NaN values\n"
     ]
    }
   ],
   "source": [
    "print_NANs(df)"
   ]
  },
  {
   "attachments": {},
   "cell_type": "markdown",
   "metadata": {},
   "source": [
    "We have successfully removed/filled all NaN values."
   ]
  },
  {
   "attachments": {},
   "cell_type": "markdown",
   "metadata": {},
   "source": [
    "### Checking Playlist appropriate to Mood"
   ]
  },
  {
   "attachments": {},
   "cell_type": "markdown",
   "metadata": {},
   "source": [
    "Now let's dig deeper into the playlist names and whether they are appropriate for the chosen query or mood."
   ]
  },
  {
   "attachments": {},
   "cell_type": "markdown",
   "metadata": {},
   "source": [
    "First, to get an overall sense of the playlist names and what has been added with which query, let's create a dictionary of queries and playlists"
   ]
  },
  {
   "cell_type": "code",
   "execution_count": 46,
   "metadata": {},
   "outputs": [
    {
     "name": "stdout",
     "output_type": "stream",
     "text": [
      "sad ['Sad 90s', 'Lonely Sad Mix', 'Depressing Rap 😭', 'crying myself to sleep', 'SAD', 'Sad viral tik tok Songs', 'Overthinking🥀🖤', 'Best of Sadar Bahar', 'Sad Rock 🤘', 'Sad hours: Punjabi', 'sad songs for sad breakups', 'Sad Corridos♥️', 'sad hour', 'Sad songs to cry your heart out to 😭💔', '#SadCuhHours 🥺', 'sad girl starter pack', 'sad songs 2023 😢 crying and depressing music', 'sad songs everyone knows', 'Sad Indie', 'Bhojpuri Sad Song 😭😣', 'sad', 'sad rap vibes 2023', '💔😭Sad Songs For Crying At 3am😭💔', 'Sad Songs 🥺', 'sad sierreño', 'sad tik tok songs 2023 / 2022', 'sad girl country', 'sad country songs to cry to.', 'NF saddest songs ;(', 'Sad Soul', 'Sad Covers', 'Moody Sad Mix', 'sad spanish Songs to cry in the corner of your room bebe', 'Sad Songs', 'Sad 80s', 'Slow sad songs to fall asleep to', 'Sad Crying Mix', 'sad lofi', 'Sad Classical', 'Sad 00s', 'Sad Boi Hours', 'Sad Love Song Mix', 'sad song club', \"taylor swift but you're sad.\", 'Sadboy', 'sad instrumentals for sad nights', 'sad ?', 'Sad songs for the boys 🍻💊', 'Heartbroken Sad Mix']\n",
      "upbeat ['Upbeat Mix', 'Upbeat Christian Songs 2023 ', 'Upbeat HipHop/Rap ', \"Upbeat 80's 🆕\", 'Upbeat Indie Folk', 'upbeat', 'Upbeat Pop Hits 2022', 'Dinner Party Upbeat Mix', 'Focus Upbeat Mix', 'Workout Pop Upbeat Mix', 'Energy Booster: Country', 'Upbeat Disney Songs', 'Upbeat Jazz Mix', 'Upbeat Classic Rock', 'Upbeat Clean Office Music', 'Upbeat lofi', 'Upbeat Clean Songs😀', 'Upbeat Worship Songs 2023', 'Upbeat Christian Music Playlist', 'Upbeat Jazz', 'Upbeat Country Mix', 'Feel Good Jazz', 'energetic upbeat lofi 🍉', 'UPBEAT EDM GYM HYPE', 'Clean Upbeat Office Playlist - updated weekly', 'Upbeat Oldies but Goodies ', 'Upbeat Gospel Music', 'School Appropriate Upbeat Songs', 'Upbeat kids worship', 'Clean and Upbeat Kids Playlist', 'Christian Pop Upbeat Mix', 'Motivation Workout Upbeat Mix', '🐴Clean Upbeat Country🐴', 'Upbeat Background Instrumentals 🌼', 'upbeat songs everyone knows ', 'Energy Booster: Indie', 'Upbeat Blues', 'upbeat indie pop ☀️', 'Yoga Flow Upbeat Mix', 'Instrumental Upbeat Mix', 'Running Pop Upbeat Mix', 'Happy Dance Upbeat Mix', 'UPBEAT WORSHIP', 'Upbeat', 'Upbeat yoga flow', 'Morning Upbeat Mix', 'upbeat songs that everyone knows']\n",
      "negative ['Negative crap! :P', 'negative effects of ashwagandha 😞😶', 'anxiety relief frequencies ✨🦋', 'Negative', 'This Is negatiiv OG', '⚡🌩️Negative Cloud🌩️⚡', 'Negative flash', 'Positive Vibes', 'C Negative', 'negative space ', 'Stay Negative', 'type o negative 🤭', '..Negative.. Nightmare sans kin playlist', 'This Is Negative Spectrum', 'Negative Splits Positive Vibes | BBRC', 'negative rizz', 'NEGATIVE', 'stay positive, test negative', '432 Hz', 'incelcore', 'Negative Chromosomes', 'Positive 🤌🏼 Negative', 'healing + cleansing frequencies ✨💚', 'This Is Type O Negative', 'Negative XP all songs', 'This Is Negami', 'This Is Negative XP', 'Negative, Sir', 'negative.', 'This Is Negrita', 'Negative Days Negative Nights', 'negative cloud 🌩️', 'This Is Negative', 'Negative Rizz', 'This Is Negative Approach', 'Negative Space', 'This Is Les Négresses Vertes', 'This Is NEGAPHONE', 'Negative Creep', '☆ negative rizz anthem ☆', 'This Is Negativland', 'NEGATIVES', 'The Negative Mind']\n",
      "easy [\"Easy Listening - Classic's & Oldies \", 'Easy 90s', 'Top Easy Listening Songs', 'Easy like Sunday morning', 'Easy Listening Soft Rock', 'This Is Eastghost', 'Classic easy rock', 'Easy Listening for Work', 'Totally Stress Free', 'Easy Listening Mix', 'Easy 60s', 'This Is Ea$y Money', 'This Is Easy M', 'Classic Easy Listening', 'Easy Mornings', 'Easy Listening Instrumentals', 'Easy Jazz', 'Easy Rider', 'This Is Easy', '1970s/80s Easy Listening', 'This Is Easygoing', 'Easy A Soundtrack', 'Easy 10s', 'Free & Easy', 'This Is Easy Rider', 'Easy Country 🧡', 'Easy', 'Easy Acoustic', '70s Easy Listening Mix', 'R&B Easy Loving', 'Sunday Morning Easy Listening Mix', 'Easy Classical', 'Easy 70s', 'Sunny Day', 'This Is EAZYBAKED', 'Easy 80s', 'This Is Easy Giant', 'Chill Easy', 'This Is Easy-S', 'This Is Easy Star All-Stars', 'This Is The Easybeats', '80s easy listening', 'Light & Easy', 'This Is E.sy Kennenga', 'Easy 00s', 'Unwind 00s', 'Unwind 10s', 'Unwind 80s']\n",
      "screamo ['screamo', 'screaming at the top of my lungs', 'SCREAMING MUSIC👿👹🖤', 'This Is Scrop', 'SCREAMING THE LYRICS', 'Screamo/Post-Hardcore/Metalcore/Emocore', 'Heavy/Screamo Workout', 'Screamo/Emoviolence/Skramz', 'screamo gym', 'screaming', 'Screamo Music', 'Screamo EDM', 'This Is Screeching Weasel', 'This Is Screaming Trees', 'Screaming gym hype🔥🔥🔥', 'This Is ScReamout', 'Screamo Mix', 'love or hate emo rock', 'Emo Forever']\n",
      "energetic ['Energetic Morning 🐣☕️', 'Energy Booster: Dance', 'energetic upbeat lofi 🍉', 'happy/energetic music', 'Energy Release', 'Energetic Focus', 'energetic/happy songs', 'This Is Enege', 'No Lyrics | Energetic Focus ⚡️', 'SFW: Energetic Office Mix', 'Energetic Upbeat lofi ', 'Energy Booster: Pop', 'Kpop Workout/Energetic Playlist💪🎵', 'Energetic Run', 'Energy Booster: R&B', 'Energy Booster: Country', 'Energy Booster: Hip-Hop', 'Energy Booster: Metal', 'Energetic Classical Mix', 'Energetic Focus Classical Mix', 'Energy Booster: Rock', 'Motivation Mix', 'Energy Booster: Indie', 'Morning Energetic Songs', 'energetic running (160-165 BPM)', 'This Is Energun', 'Energetic Morning Mix', 'Energetic Reflections', 'energetic study music ', 'Energetic Instrumental Music Mix', 'Energy Booster: K-Pop', 'Energetic Jazz', 'Energetic Pop Music Playlist ⚡', 'Energetic Focus Mix', 'Energetic Yoga Flow', 'Relax with Energetica Natura', 'Energetic punjabi song', 'Energetic bhajans', 'Energetic Indie Rock Mix', 'This Is Energumeno', 'Energetic Rock Mix', 'Energetic Mix', 'Energetic Jazz Mix', 'Energetic bhajan 🚩', 'Energetic Happy Mix', 'Energetic Rap Mix', 'Energetic study', 'Energetic', 'Energetic Worship', 'Motivational + energetic']\n",
      "carefree ['Carefree Songs', 'CareFree 🇮🇹', 'Fun/Carefree/Dance', ' .carefreeliving', 'Old YouTube Music (2005-2012)', 'kevin macleod bangers 💯', 'Carefree Mix', 'Carefree🦋', 'Carefree', 'carefree', \"70's Love Hits\", 'carefree white girls club', 'Spring Break', 'Carefree Alleycats Flybaits Headwind', 'Backyard BBQ', 'carefree ', 'Carefree Summer Vibes', 'carefree summer', 'This Is Carefree', 'carefree girly ']\n",
      "euphoric ['Techno 2023 | Euphoric Techno Top 100 | Afterdark | Down the Rabbit Hole by Markus Schulz', 'Zyzz Euphoric Hardstyle ', 'Euphoric Hardstyle ', 'Euphorically Ascending', 'Euphoric hardstyle', 'euphoric ', \"Geo's Euphoric tunes\", '♥️Electronic/Euphoric♥️', 'Euphoric ', 'Euphoric destiny', 'Euphoric', 'euphoric', 'Euphoric&Nostalgic Tunes', 'Euphoric Superstars 🖤💙✨', 'Euphoric 🌈', 'euphoric.', 'euphorick random songs playlist', 'Euphoric Destruction', 'Euphoric songs ', 'Alex Eubank 🔱 EUPHORIC WORKOUT • Gym & Aesthetics', 'EuphoricBeatz', 'Euphoric nostalgia', 'euphoric house', 'euphoric🦇', 'Euphoric Techno', 'Euphoric Palpitations ', 'Euphoric 💙', 'Euphoric drive', 'euphoric vibes', 'EUPHORIC', 'Euphoric Hardstyle🎶🔥', 'Euphoric Hardcore', 'Euphoric Asshats ', '23 Euphoric', 'Melodic & Euphoric', 'EuphoricVibes', 'Euphoric Tunes', 'Litty Titty Euphoric EDM', 'euphoric☁️', 'the euphoric playlist', 'euphoric 🦄💟', 'Happy, Euphoric ', 'EuphoricEuphoria.', 'Euphoric Partying', 'Euphoric feelings ', 'Euphoric 🧚🏻\\u200d♀️', 'Euphoric hysteria ', '⭐️euphoric⭐️']\n",
      "dynamic ['Dynamic Yoga Flows 🤸🏼\\u200d♀️', 'Dynamic Rehab Center', 'Dynamic Duo!', 'dynamic duo 💗', 'Dynamic Unit', 'Dynamic Morning', 'dynamic', 'The dynamic Trio', 'Dynamics', 'dynamic duo', 'Dynamic_Terra', 'Dynamic Sleep', 'Dynamic music', 'Dynamic Piano', 'sun and moon dynamic ☼☽', 'DYNAMIC DUO', 'Dynamic Duo😝', 'This Is Dynazty', 'Dynamic Duo ', 'Dynamic rock playlist', 'This Is Dynamic Music', 'Dynamic tríos 👌💯', 'Dynamic Yoga', 'This Is Duo Dinamico', 'Dynamic Slatts Pt3', 'This Is The Dynamics', 'This Is Bynomic', 'This Is Dinamicos Jrs', 'Dynamic', 'This Is Dynamic Illusion', 'This Is Major Dynamic', 'DYNAMIC YOGA BEATS', 'Dynamic slattt$$', \"This Is It's Dynamite\", 'This Is Dinamita Pa Los Pollos', 'This Is Dynasty Electric', 'This Is Dyna', 'This Is Dynamix', 'This Is Dynamicduo', 'This Is Dynasty', 'Dynamic Pilates ', 'This Is Dynamite Deluxe', 'This Is Dramatic', 'This Is Dramatic Ink', 'Dynamic Instrumental Music ', 'Dynamic Classical Music For Work', 'dynamic slatt$$$ 3.5 (donkey fart, gtb tezz, davi_dynamic)', 'Dynamic  Team 🔥💃', 'dynamic slatt$$$ pt2']\n",
      "high energy ['High Energy Workout Mix', 'High Energy EDM | Dance | Workout', 'Clean workout- high energy', 'High Energy Music 2023', 'divine feminine energy 🧿', 'HIGH ENERGY RAP HYPE 🔥 HIPHOP WORKOUT', 'Energy Cleanse', 'High Energy HipHop', 'high energy pop hits', 'High energy indie rock ', 'HIGH ENERGY DANCE MUSIC', 'Patrick Miller (High Energy)', 'CAFFEINE FLOW // high energy focus music for studying, reading, coding, writing, working', 'High Energy Jazz', 'Workout 2023 🔥 Exercise Music 🔥 Best Dance Music 🔥 Best Dance Pop 🔥 High Energy 🔥 Cardio 🔥', 'High Energy Pop Mix', 'THE MOST HYPE RAP SONGS EVER 🔥🔥', 'High Energy Cardio Dance Workout Mix', 'High energy Christian workout music', 'Higher Energy Music x Fall4Mour', 'Hype High Energy Mix', 'Energy Booster: Latin', 'High Energy Mix', 'high vibrational energy', 'Rock Me Up', 'High Energy Focus Instrumental', 'High Energy Dance Mix', 'Disco High Energy', 'This Is Energy', '♨️ OFFICE ENERGY 2023 ♨️ WORK MUSIC ♨️ HIGH ENERGY ♨️', '80s High Energy Disco Mix', 'High Energy 80s', 'Techno Workout', 'High Energy 80s songs', 'High Energyyyyy', 'High Energy Worship Music', 'high energy taylor swift', 'High Energy Metal Mix', 'Euphoric Energy', 'High Energy Rock Mix', 'Gym Beats', 'High Energy😎']\n",
      "soft ['Gentle', 'Soft Morning', 'Soft Instrumental', 'This Is Soft Cell', 'slow soft music to fall asleep to 😴', 'SOFTBALL PREGAME 2022‼️', 'Soft Rock Greatest Hits', 'Soft Instrumental Jazz', 'Soft Girl Era🧘🏽\\u200d♀️💕\\U0001faf6🏽', 'Soft 00s', 'bts soft playlist, all soft songs', 'This Is Softheart', 'soft rnb 🧸🤍🏹', 'soft jazz (study)', 'Soft Rock Drive', 'This Is softy', 'Soft 60s', 'Soft Jazz', 'Soft 90s', 'softcore vibes - the neighbourhood ', 'softly', 'This Is SOFT PLAY', 'Soft 10s', 'Peaceful Pop', 'Soft Love Song Mix', 'Soft Indie Mix', 'This Is Soft Machine', '🥎SOFTBALL HYPE🥎(clean)', 'Soft Rock Classics', 'This Is Soft Lipa', 'Soft 50s', 'Soft Rock', 'Soft & Slow', 'This Is Solfeggio', 'Soft Christian Instrumental Music', 'Soft music to read to', '80s Soft Rock', 'SOFTBALL WALK UPS(100% CLEAN)', 'Sanfter Pop', 'This Is The Soft Moon', 'This Is Soft', 'Soft Pop Mix', '70s Soft Rock', 'Soft Rock Songs 70s 80s 90s Ever', 'Soft Pop Hits', 'Soft Pop']\n",
      "pumped ['Pumped up Music 😎🔥😈', 'Best Hockey Songs To Stay Pumped Up!  (Clean)', 'Pumped up Christian music ', 'Pumped Up Gym Workout Songs', 'pumped', 'PUMPED UP COUNTRY', 'Pump Up Mix', 'PUMPED UP 80s JAMS FOR THE GYM', 'Pumped up 😈💪🏼', 'Pumped', 'Pumped up kicks type beat', 'Pumped Up Hits', 'Date Night - Get Pumped', 'Pumped Up Workout Mix', 'GET PUMPED THE FUCK UP 😤', 'Pumped up Rap ⛓🦍💯', 'Pumped Up EDM', 'Music to get me pumped upppppp', 'Pumped up songs', 'Pump it Up ', 'pumped up for the pump', 'Barça Matchday: El Clásico', 'pumped up songs clean🥎🏀💪', 'Pumped Pop', 'Pumped workout music']\n",
      "beach ['This Is The Beach Boys', 'BEACH COUNTRY', 'Beach Music 2023', 'This Is Beak>', 'This Is Beach Boii', 'Beach Playlist 2023 🌴 ', 'Breezy Acoustic', 'beach', 'Beach Vibes', 'Beach Playlist/Good Vibes 🏝 ', 'Beach Reggae Mix', 'Beach Sunsets', 'Beach House | Summer Vibes 2023', 'The Beach Boys Radio', 'This Is Beach Fossils', 'Beach Music 2023 🌴 Summer Vibes', 'This Is The Beaches', 'Classic Beach Music', 'This Is Beach Weather', 'beach songs everyone knows 🏄\\u200d♂', 'Surf Rock Sunshine', 'This Is Beach Chillout Music', 'Beach Mix']\n",
      "ecstasy ['Ecstasy, PA Vectrex Musik', 'Ecstasy', 'Ecstasy 🦋', 'EcstasyTunes', ' Ecstasy', 'ecstasy nights', 'ecstasy', 'Ecstasy ', 'songs of ecstasy', 'This Is Excision', 'feels like ecstasy ', 'ecstasy ', 'Ecstasy 🎧', 'Emitting Ecstasy ', 'Ecstasy \\U0001fae7🔮', '“Ecstasy”']\n",
      "joyous ['This Is Joy Orbison', 'Joyous Rock Mix', 'Joyous Celebration 1997 to 2020', 'This Is Jolly Abraham', 'This Is Jocus', 'Joyeux anniversaire !', 'Joyous celebration hlala nami', 'This Is Jyotsna Radhakrishnan', 'This Is The Joy Formidable', 'Joyous 70s Mix', 'This Is Joy Tobing', 'Joyous celebration-Siyakudumisa', 'I saw photo you look joyous', 'Forever Joyous', 'This Is Joyous Celebration', 'Joyous Classical Mix', 'Joyous Celebration 18', 'This Is Joywave', 'This Is joysad', 'Joyous Celebration — 19', 'Joyous 4']\n",
      "frustrated ['Let the frustration out‼️', 'Frustrated ', 'Silent rage and frustration ', 'Frustrated/Focused', 'frustrated', 'Frustrated', 'Frustrated screams', 'Songs to play when you’re annoyed <3', 'Upset Mix', 'pov: you’re sexually frustrated', 'annoyed by people', 'confused crying frustrated throwing up  ', 'Frustrated Sad Mix', 'Frustrated Mix', 'Frustrated Love Mix', 'mental breakdown but in a frustrated way!', 'Angry Mix', 'I’m frustrated crying', 'angry n frustrated crying', 'frustrated crying ', '\"I\\'m frustrated and it\\'s sexually\"']\n",
      "death metal ['Screaming Death Metal', 'Death Metal Classics', 'Death Metal', \"Death Metal [90's Classic Death Metal]\", 'Brutal Death Metal', 'Death Metal Old School', 'black metal 𖤐', 'Death Metal Fury', 'DEATH METAL TOP 100', 'DEATH METAL/GRINDCORE/BLACK METAL/DOOM DEATH ++', 'Black Metal Classics', 'Death metal gym shit😈😈', 'Death Metal Old School (1990-2000)', 'Death Metal Up your Ass!', 'Death Metal Dubstep Mix', 'Metal Mix', 'True Black Metal Mix', 'Thrash Metal Mix', '(Black) Metal', 'Death Metal 💯', 'Death Metal & Beyond', 'Death Metal Annihilation & Beyond', 'Death Metal Workout', 'Extreme Metal', 'Death Metal: um guia para começar a ouvir o estilo']\n",
      "depress ['anti-depressivo', 'ANTI-DEPRESSIVO⚡️🎧', 'Depression at 3 am', 'sad lofi beats to cry and sleep - depressing times', 'i’m depressed but not the “all i want” depressed i’m “how to never stop being sad” depressed', 'canzoni depresse✨🧸💔', 'Dépression Française 💔💔 | Rupture 2023', 'Depressed Country Music ', 'Depressing Songs', 'MTG  ANTI-DEPRESSÃO😵\\u200d💫😵\\u200d💫 ', 'Suicidal country', 'playlist dépressive 😭', 'DEPRESSIVE BREAKCORE>>>', 'tiktok depressed songs', 'Depression Slowly Killing Me', 'Depression Songs', 'Depression session ', 'Slow Sad Songs for 3AM Depression', 'Songs about depression & anxiety', 'Alone & Depressed', 'Depressed but angry depressed', 'Depressing Country Music', 'depressing songs for depressed people', 'sad music for crying hours and depressing times', 'Incomplete & Depressed ', 'sad songs for my depression 💔', 'Depressing Gym Music🏋️\\u200d♀️', 'This Is Depresszió', 'depression', 'This Is Depressing Lofi', 'depressed songs 2023 😢for depressing times', 'Depressed Songs for the Boys', 'This Is Depressing Songs', 'songs about suicide and depression ', 'Músicas para Depressão', 'Depressed Cowboy Shit', 'anti depressivo', 'depressed fr', 'Musica depressa. ❤', 'Depressed Rap Songs😭', 'Depression playlist (listen to when you feel sad or upset)', 'side effects', 'depressing songs that make me cry', 'Depressed.', 'Dark Sad Mix', 'Canzoni depresse inglesi 🖤🎶', 'depresso espresso ☕️', 'Depressing songs for the boys 😭 😭 😭 ']\n",
      "adrenaline ['an adrenaline rush in a playlist  ', 'This Is Acerina Y Su Danzonera', 'Adrenaline rush at 4 am', 'ADRENALINE RUSH😈', 'Adrenaline Pumping Workout Music', 'This Is Adrenaline', 'Adrenaline Rush😤', 'Adrenaline Songs', 'Adrenaline Pump📢', 'This Is Adrenalina', 'Adrenaline Mix', 'Adrenaline Boost ', 'This Is Aerolineas Federales', 'Adrenaline rush actually', 'Nitroboost', 'This Is Adriano', 'This Is Adriatique', 'Adrenaline HIP HOP / RAP', 'Adrenaline Workout', 'This Is Adrenaline Mob', 'This Is Azrael', 'adrenaline boost', 'Hardstyle Adrenaline! 2023', 'Adrenaline Junkie', 'This Is Arsenal Efectivo']\n",
      "despair ['despairinyoureyesss', 'despair', 'Despair', 'endless despair', 'L̶o̶v̶e̶ ̶I̶s̶ ̶T̶h̶e̶ ̶M̶o̶s̶t̶ ̶T̶w̶i̶s̶t̶e̶d̶ ̶C̶u̶r̶s̶e̶ ̶O̶f̶ ̶A̶l̶l̶', 'This Is Desperado', 'This Is Desperation Band', 'despair🥱', 'Songs of despair ', 'Sociological Despair', 'This Is Despair', 'Despair Loop', 'Despair.', 'phoebe bridgers complete collection of despair', 'Dark Sad Mix', '~✨existential despair✨~', 'Pride from despair', 'cause its not romantic i swear', 'DnD - Despair | RPG Fantasy Music | Tabletop D&D Series']\n",
      "relax ['Ambient Relaxation', 'Relaxing Jazz Piano', 'Read and Unwind', 'This Is Relaxing Music', 'Relaxing music for kids', 'Relaxing Dog Music 🐶 calm your dogs', 'Relaxing Playlist', 'Jazz Relax', 'Relaxing Piano Covers ', 'This Is Relax & Read', 'Relax In the Bath', 'Relaxing Music', 'Deep House Relax', 'Relaxing Beethoven', 'Relax & Unwind', 'relax', 'Relaxing Chopin', 'Relaxing Classical Guitar', 'Relaxing Massage', 'Relaxing Songs😌', 'Relaxing Bach', 'Peaceful Piano', 'Hanging Out & Relaxing', 'Skyrim Relaxing Ambience', 'Relaxing Ragas', 'Relax en casa', 'Relaxing Spanish Guitar', 'Relaxing Guitar Covers', 'Calming Classical', 'songs like relax my eyes', 'Calming Jazz', 'Spa Relaxing Music 2023', 'Relax & Chill 2023 🌴', 'Nature Relaxation', 'Relaxing Rap Music 💆\\u200d♂️', 'This Is Relax Music Therapy', 'Relaxing Christian music', 'Relaxing Classical', 'Chilled Pop Hits', 'Relaxing Piano Music 😌', 'relaxing music.', 'Relax en tu Cuarto', 'relaxing shower vibes', 'Relax 💆🏻\\u200d♀️', 'Relax & Be', 'Calm Music 2023 😌💖', 'Relaxing Mix']\n",
      "chilled ['Best of Chilled Pig ', 'Lazy Chill Afternoon', ' Chilled Cow Archive', 'chilled restaurant vibes', 'Chilled Cow - ChilledCow - Lofi Girl - lofi hip hop music - beats to relax/study to...\\t\\t\\t\\t\\t\\t\\t\\t', 'Chilled R&B', 'Chilled 80s', 'Chill + Atmospheric', 'Study lofi 📚', 'Dance Chill', 'Chill Folk', 'Chilled Jazz', 'Chilled 00s', 'Chill Rock', 'Chilled Hits', 'Chilled Reggae', 'Chilled Indie', 'Chilled Drum & Bass', 'Medieval Tavern Music', 'Chilled Focus', 'Chillhop Music 2023', 'Chill Vibes', 'Chilled Classics']\n",
      "happy ['Happy Classical Music', 'Happy Drive', 'happy love songs', 'Chill Happy Mix', 'Happy Days', 'calm happy songs', 'Happy Upbeat Vibes', 'This Is Happy Raikoti', 'Happy 80s', 'Happy - Kanye west Ft. Future', \"Children's songs 😊 Happy kids music\", 'Happy Folk', 'Happy Oye!', 'Happy songs everyone knows 😄 🙌', 'This Is Happy Tobi', 'This Is Happy Hour', 'Happy Dance', 'Happy Hour', 'HAPPY VIBES ONLY 😋', 'Happy Vibes 2023 ☀️', 'happy rainy day🌧🌈', 'Happy Songs ☺ (80s, 90s, 2000s, 2010s & 2020s)  ☺ Best Happy Mood ', 'Happy Morning Instrumentals', 'Happy Favorites', 'Happy Country Mix', 'Clean Happy Office Music', 'Wake Up Happy ☀️ Good Morning ', 'Happy Pop Hits', 'Happy Tunes', 'Feel Good Piano', 'Happy Hits!', 'Feel Good Classical', 'Feel Good Happy Mix', 'Happy Indie Mix', 'Happy Beats', 'This Is Happy Moppy Puppy', 'Happy Vibes ', 'Happy Diathesi ', 'This Is Happy House', 'happy vibes🦋', 'Happy Morning Mix', 'This Is Happy Birthday', 'This Is HappyDirt', 'Oh Happy Day!  ~ウェディング・ソング~', 'Happy Mix', 'Happy Jazz!', 'Wake Up Happy', 'This Is The Happy Losers', 'Happy Walking Mix', 'This Is Happy Tooth', 'This Is Happi', 'This Is The Happy Fits', 'Happy Birthday', 'light & happy classical music', 'Happy Pop', 'happy morning / feel good']\n",
      "mellow ['This Is Mellow Sonic', 'Mellow Rock Classics', 'Mellow Rap Mix', 'Mellow Evening Vibes🌻', 'Mellow Workout Vibes ', 'Mellow Music 2022', 'Soft 80s', 'Lowkey', 'Mellow Drive', 'Mellow Beats', 'Mellow House', \"Mellow '70s Gold\", 'Mellow 80s Gold', 'Mellow Rap 😌', 'Mellow Morning', 'Mellow Classics Drive', 'Mellow Gold Mix', 'Soft 70s', \"Mellow '90s Gold\", 'Mellow Bars', 'Mellow Rock Mix', 'This Is Mellow Soul', 'Mellow R&B Mix', 'This Is Mellow River', 'Mellow Classic Rock', 'This Is MeloMance', 'Mellow Lofi Morning', 'Indie Mellow', 'Mellow Favourites', 'mellow 🧘🏻\\u200d♀️🪴', 'This Is Mellow Mark', 'Mellow songs that feel like quicksand ', 'Bedroom Pop', 'Mellow Mood', 'Mellow & Folk', 'Mellow Evening', 'Your Favorite Coffeehouse', 'Neo Mellow Mix', 'Mellow Classics', 'Mellow Hip Hop Mix', 'This Is Mellodees', 'Mellow Pop', 'Mellow Cello', 'This Is Mellow', 'This Is MellowBite', 'This Is MELON', 'Mellow Meowsic', 'Mellow Mix', 'Chill Jazz Vibes 🎷 mellow jazz beats & jazzhop', 'MELLOW BARS - CHILL R&B - URBAN POP - NU RETRO - ALTERNATIVE - MIXTAPE']\n",
      "calm ['Keep Calm', 'This Is Calm Music', 'Calming Baby Music', 'Calming Acoustic', 'Atmospheric Piano', 'Calming Music for Anxiety / Stress / HSP (Instrumentals)', 'calming music | no lyrics', 'Calm music🧚🏻\\u200d♀️', 'Calm Celtic Harp', 'Soft Mix', 'Calming Sleep Music ', 'calm taylor :)', 'Calm', 'calm vibes', 'Calming Instrumental Covers', 'Calm Classroom Music', 'calm taylor swift', 'Selena Gomez - Calm Down', 'This Is calm boy', 'Harry Potter Calm Ambient Mix', 'healing sleep frequencies 🌕 calming music 2023', 'Calm Kids', 'Calm & Focused', 'Calm Down', 'calming ༉‧₊˚✧', 'Calming Christian', 'Calm Toddler Room ', 'Calm Before the Storm', 'Calm baby', 'This Is Calm', 'Dogs Pet Calming Mix', 'Calm Disney', 'This Is Calm.', 'Calm Classroom Playlist', 'Calm Pop Mix', 'Afrobeats Mix', 'Calm Down Remix- Rema & Selena Gomez', 'Calm Morning Mix', 'Calm and Collective ', 'Calm Shower Mix', 'Calming music with words 2022']\n",
      "hard ['Hard', 'Hardstyle 😡💪💪', 'Hardest $uicideBoy$ songs ', 'rap workout to go HARD to', 'This Is Harlej', 'Hard Rock Training/Workout', 'Hard Rock & Heavy Metal ', 'Hardstyle Bangers', 'Hardest rap songs ', 'Hard Bop Classics', \"Hard Rockin' Country\", 'INSANE PUMP UP SONGS', 'Hard Rock /Metal', 'Hardstyle Tren Twins', '’80s Hard Rock', 'This Is Ard Adz', 'Gym Hardstyle 2023 💪', 'this that murda music‼️🗣️', 'THIS THAT MURDA MUSIC💯💯', 'Hardstyle Adrenaline! 2023', 'This Is Hardo', 'Classic Hardcore', 'This Is Hardcore Superstar', 'Hardstyle Remix of Popular Songs ', 'This Is Hardwell', 'Hardest Babytron Tracks 🤐😵\\u200d💫😈', 'This Is The Hardkiss', 'HARD TECHNO 2023', 'Hard Rock Classics', 'Hardstyle Mix', 'Hardcore Rock Mix', 'This Is Hardstylez', 'This Is Hardeep Grewal', 'This Is Hard-FI', 'Hardy and Morgan Wallen', 'This Is KARD', 'HARDY Radio', 'Hard Hitters', 'This Is Hardline', 'This Is HARDY', 'This Is Françoise Hardy', 'This Is Hard Bass School', 'Hardcore Mix', 'Hard Rock', 'Party Hard', '🔥Hardest Bass Drops 2023', 'Hardstyle Remixes', 'HARDY: The Complete Collection', 'Anime Gym Hardstyle 🔥']\n",
      "peaceful ['Peaceful songs ', 'Peaceful Retreat', 'Calm', 'Peaceful Meditation', 'Peaceful Piano', 'Piano in the Background', 'peaceful\\U0001faac.', 'Peaceful Guitar', 'Peaceful Jazz Piano', 'Atmospheric Piano', 'Calming Classical', 'slow/peaceful songs ', 'Peaceful Mix']\n",
      "lively ['Lively Celtic/Irish Instrumental', 'Lovely Hindi songs', 'Lively hindi songs', 'Lively music', 'Lovely Day – Bill Withers', 'Lovely Day', 'Lively Instrumentals', 'Lovely 🥰 punjabi 😘 songs 😍', 'Lovely Songs (Hindi)', 'lovely.', 'This Is The Lively Ones', 'lovely classical music', 'Lovely', 'LIVELY SONGS', 'Lively Morning Mix', 'LIVELY CLASSICAL MUSIC', 'The Lovely Little Playlist', 'Instrumental Lively Mix', 'This Is Lovelyz', 'Lovely gym playlist 💀', 'This Is Lovely Nirman', 'Feel Good Classical', 'Lively praise and worship songs', 'Lively Jazz', 'Its gonna be a Lovely Day', 'Lively Worship Songs', 'Lively Praise & Worship', 'Lively Pop Mix', 'lovely lady may', 'lively bollywood ', 'Lively Rock Mix', 'Lively Tavern Music', 'Lovely piano music', 'lovely french songs', 'This Is Lively', 'Lively Jazz Mix', 'Lovely Day Radio', 'Lively Country  Music', 'This Is Lively.', 'This Is lovelytheband', 'Lively Jazz (Instrumental)', 'Lovely Tamil Songs', 'Lovely Day For a Riot', 'This Is Lovely Laura', 'Lovely Day playlist ', 'Lovely Lofi ❤️ - Romantic & Relaxing beats', 'Lively Jazzy Piano', 'Lovely – Twenty One Pilots', \"Billie - isn't it lovely\", 'Lovely X Kitna Bechain Hoke Tumse Mila']\n",
      "chilling ['Chilling Adventures of Sabrina - soundtrack seasons 1 - 4', 'Chilling🪐🏝', 'chilling & cleaning', 'chilling in my room at 3am :]', 'vibing in my room late at night', 'Chillings ', 'Chilling in my room 🌝', 'Chilling 👽', 'This Is Chilli Vanilli', 'Chilling love', 'Chilling Mix', 'sabrina spellman’s playlist', 'chilling in my room', 'chilling de', 'This Is Chillin Doggos', 'chilling bombing', 'chilling', 'chillin in my room 💋', 'This Is Chilli Vanilli 2', 'This Is Chillinit', 'Chillige Bässe', 'This Is Chillimi', \"Chillin' in the Name of\", \"Chillin' on a Dirt Road\"]\n",
      "heavy sad ['Non-Sad/Less Heavy ', 'heavy stone make sad brain voice quiet 💪😤', 'The Sad Boi Soundtrack', 'my ~sad~ lofi instrumentals', 'Lift Heavy Rock Keeps Sad Voice Away', '⚠️Really Sad songs⚠️', 'Sad songs about Suicide, Self harm, and Heartbreak', 'Heavy and Angry and Sad', 'Lifting heavy circles 🤝sad voices gone ', 'heavy metal broke my heart//sad', 'i lift heavy weight so i dont feel sad', 'Sad Demon shits (Gym)', 'heavy sadness vibe II', 'heavy sadness', 'sad n heavy', 'heavy rap gym playlist ', 'small body, heavy soul', 'Instrumental Guitar Popular Covers', 'Sad/heavy music :)', 'Sad Heavy metal', 'SÁD//Heavy Depression ', 'Heavy sad songs', 'Heavy sad', 'sad (bass heavy)']\n",
      "happiest ['Happiest King', 'Happiest Songs in the World', 'Happiest Place on Earth', 'happiest ', 'This Is BORN', 'Heardle Rewind', 'happiest songs of all time', 'WORLD’S HAPPIEST PLAYLIST', 'happiest songs ever', 'This Is 행복한자장가', '100 Happiest Songs from the 60s, 70s, 80s, 90s, 2ks', 'happiest songs', 'This Is Born', 'thankyou for the happiest year of my life', \"you're the headliner\", 'This Is Born Ruffians', \"Greatest Hits Radio - Top 300: UK's Happiest Songs\", 'The Happiest Songs Of All Time', 'The Happiest Girl C&E x You Never Know 5 Hrs', 'TOP 50 HAPPIEST SONGS', 'Happiest Baby', 'Wedding Party', 'THE HAPPIEST GIRL - BLACKPINK', 'Best year yet']\n",
      "blissful ['Blissful Bollywood🥰 #2', 'Blissful Pleaser', 'blissful undertones', 'This Is Relaxation Bliss', 'This Is Wishful Singing', 'blissful ignorance.', 'Dreampop', 'Blissful Lies', 'Blissful Existence', 'This Is BLESSED', 'Blissful mornings ', 'Blissfully happy 🌅🌸🤗', 'blissfully happy ', 'Meditate by the Ocean', 'Peaceful Sleep', 'This Is Blissful Dreams', 'blissful', 'blissful beach days', 'This Is Bliss', 'Blissful Soul', 'Blissful Chill']\n",
      "mosh pit ['mosh pit', 'Mosh Pit', 'Rock/Metal Mosh Pit', 'Emo’s Not Dead', 'towers mosh pit', 'Mosh pit', 'MOSH PIT. MOSH PIT.', 'The Mosh Pit', 'Music mosh pit', 'Punk Mosh Pit', 'THE MOSH PIT', 'Mosh Pit ', 'Moshpit Music🤬(HYPE SONGS)', 'Mosh Mix', 'MOSH PIT MONDAY!!! 💀🔥', 'mosh pit rap', 'MOSH PIT MUSIC', 'RAVEYARD (Hard Dance Mosh Pit)', 'Mosh pits ', 'This Is Moshpit Toddlers']\n",
      "crying ['Lekker huilen/crying😓❣️', 'Crying Songs - Crying Playlist - Sad Music 2022', 'Crying Hours 😪 (tamil) ', \"Who's Crying Now\", 'crying on the bathroom floor at 3am ', 'llorando en el club 🥲', 'Crying In The Gym', 'Screaming, Crying, Taylor Swift', 'This Is crying out to Hera, “Blah, blah, blah,', 'screaming crying and throwing up', 'men moaning whimpering and crying', 'Calm Star Wars for Study (or crying)', 'This Is Crying Nut', 'crying in the car by yourself', \"เธรดรวมเพลงเศร้า - It's 3am and you're crying.\", 'Classics For Crying', 'crying over my body, calories or whatever my eating disorder wants', 'screaming, crying, throwing up', 'crying in the shower with my thoughts', \"pov:you're broken on the floor and you are crying, crying\", 'crying on my birthday.', 'Sad songs for girls ❤️ (Crying music and depressing music)', 'This Is Drivin N Cryin', 'idk.', \"don't you feel like crying\", 'Slipping through my fingers type of crying', 'most gut-wrenching, screaming, crying songs', 'Sad Songs for crying hours  💔', 'Crying myself to sleep☆', 'crying at 2:08am staring at a wall wondering what i did wrong ', 'screaming, crying, sliding down the wall', 'crying on the dance floor', 'crying so hard rn', 'pov: you’re angry crying or sad screaming ', 'crying over a boy who doesn’t love you back ', 'zach bryan crying edition ', 'crying', 'Crying but in hindi songs', 'Songs to make your tears fall out over that boy/girl you’re crying about', 'crying because i’m a failure', \"i'm not crying. you are.\", 'crying over a boy who talks to 12 other girls the exact same way that he talks to me', 'Crying Mix']\n",
      "chill ['Chill for awhile', 'Chill Music 2023 ✨ Calm Aesthetic Vibes', 'chill songs everyone knows 🌙 relaxing music', 'Chillhop Radio 🐾 jazz/lofi hip hop beats to study/relax to | Study Music | Chillhop Music 2023', 'late night drives🏎️🍃', 'chill lofi study beats', 'Chill  Vibes 2023 🌙', 'Chill Rap songs 2023 😴🍃', 'This Is ChillVibes Girl', 'Chill Out Covers', 'Chill Out Music', 'Chillout Classics', 'Chill Rainy Day Mix', 'Chill R&B Mix', 'Chill Beats 💙 groove, relax', 'Smooth Jazz Chill', 'Chill Station', '| chill |', 'Chill House 2023', 'Chillhop', 'Chillstep 2023', 'Chill Out Jazz', 'Chill Tracks', 'chill r&b 🥰💫', 'Chill Mode: On', 'Chill Latino', 'Chill Covers', 'Chilled Dance Hits', 'Chill Total', 'Chill Rock Mix', 'Chill Mix', 'Chill Vibes', 'This Is Chill Out&Relax Pop', \"Chillin' on a Dirt Road\", 'Chill Pop', 'Chill Indie Mix', 'Chillout Lounge', 'Chilled Classical', 'Chill Hip Hop Mix', 'Chill Hits', 'This Is Chilly Gonzales', 'Chillhop Essentials Spring 2023', 'This Is ChillHop Cafe', 'Chilled Classical Covers', 'Chill', 'chill', 'Chill Gaming', 'This Is Chill Hip-Hop Beats', 'Chill Rap Mix']\n",
      "positive ['Morning Music |  Good Vibes Music | Positive Feelings | Coffee Music |', 'Uplifting Positive Songs', 'Positive Affirmations (10 Hours)', 'meditation music for positive energy ✨', 'Good Mornings - Happily Positive Music to Start The Day', 'Positive Uplifting Rap Vibes', 'Rise', \"Feelin' Good\", 'Meditative State of Mind', 'POSITIVE AFFIRMATIONS SONGS ', 'Positive Music for the Office (Mixed Genres)', 'This Is Positive Life Therapy Limited', 'Positive Affirmation Rap ', 'Negative Space', 'Positive Vibes Tamil', '528hz positive transformation ✨', 'Kids Upbeat Positive Music', '🌼 Happy Songs // Positive Vibes', 'This Is Positive Reggae Vibrations', 'Positive Music Hip Hop Mix', 'Positive Vibes Only', 'Positive Upbeat Christian', 'Positive Instrumentals | Uplifting, Morning Music, Warm & Cheerful', 'Positive Focus', 'Positive Music Morning Mix', '528 Hz Positive Energy', 'Body Positive Kids', 'Morning Meditation | Positive Energy Music', 'This Is Positive Music', 'Positive💜', 'Body Positive Mix', 'Positive Morning Vibrations', 'This Is Posij', '✨Positive affirmations playlist ✨', 'Good Vibes 2023 🌞 Happy Mood', 'Positive Upbeat Mix', 'This Is Positive Vibes', 'This Is Positive Thinking Specialist', 'Positive Mix', 'Positive Pop Mix', 'This Is Classically Positive Project', 'Positive Music 2023', 'Positive Workout Mix', 'Motivation Positive Morning Mix', 'Positive Vibes', 'This Is Position', 'Positive Music Mix', 'stay positive XD']\n",
      "most depressing ['most depressing songs recorded \\U0001faf6🏻', 'Painful, Depressing, and Mostly Country', 'Mostly depressing folk, country', 'Mostly depressing ', 'Mostly depressing 🙌🏽', 'Bobs most depressing stuff🐔🐽', 'Most Depressing Songs for Depressed People', 'Mostly depressing', 'mcr’s entire discography in the order of most danceable to most depressing', 'The most depressing playlist ', 'Most depressing girly playlist', '🎵 Most Emotional, Depressing & Tragic Attack on Titan Soundtracks | OST Playlist 🎵', 'Only the most depressing songs', 'Depressing in the most fantabulous way', 'most depressing Taylor Swift songs: a letter to bad days', 'the most depressing albums of all time', 'Most depressing songs 😭', 'MOST DEPRESSING JUICE WRLD SONGS', 'the most depressing music I’m aware of currently ', 'the most depressing lana songs! 😃 ', 'mcr’s entire discography from most danceable to most depressing', 'most depressing songs to ever exist', 'Most Depressing Radiohead Songs', 'The Most Depressing Songs Ever Recorded', 'the most depressing playlist you’ll probably ever listen to, but also made with love']\n",
      "aggressive ['Murder Rap 💯', 'AGGRESSIVE EDM', 'AGGRESSIVE PHONK', 'KILLER PHONK ¤ Aggressive PHONK ¤ GYM', 'aggressive kpop ', 'TRAP WORKOUT / AGGRESSIVE BASS', 'Aggressive Trap Mix', 'Aggressive Mix', 'AGGRESSIVE PHONK 😈🩸', 'Aggressive YoungBoy ', 'Phonk Music 2023 🔥 Aggressive Drift Phonk | Magic Phonk', 'AGRESSIVE RAP & DRILL', 'RAGE PHONK // AGGRESSIVE DARK PHONK', 'ANGRY / AGGRESSIVE HEAVY METAL (GYM/LIFTING/WORKOUT)', 'LOUD ANGRY RAP 🔇🔇', 'GYM PHONK 2023 😈 AGGRESSIVE WORKOUT PHONK MUSIC', 'AGGRESSIVE KOREAN RAP', 'Aggressive Love Songs', 'nbayoungboy (Aggressive) 💚', 'AGGRESSIVE PHONK 😈', '👹 AGGRESSIVE MUSIC 👹', 'aggressively running to taylor swift', 'AGGRESSIVE // TRAP METAL // SCREAM RAP // DEMON // .wav', '😈Agressive Rap😈', 'HARDEST NY DRILL', 'BADASS 😡 Aggressive Mix', 'GYM PHONK  🔱 AGGRESSIVE', 'loud aggressive rap music', 'Aggressive Metal Mix', 'Phonk Music 2023 💀 Aggressive Drift Phonk ', 'Aggressive Drill', 'Aggressive Rap Mix', 'aggressively sapphic pop bops', 'THE AGGRESSIVE WORKOUT MIX', 'AGGRESSIVE GAMING PHONKS.', 'aggressive classical music for very specific scenarios ', 'Aggressive Classical', '👺😡Aggressive nba young boy💯🤬', 'Aggressive Heavy Metal Mix', 'Aggressive Jazz', 'Aggressive ', 'Hype', 'Aggressive Hindi Music', 'Slash playlist 1', 'King Von | Aggressive 😤', 'Aggressive Inline (PS2)', 'Aggressive Workout Mix', 'NBA YB AGGRESSIVE ', 'AGGRESSIVE COUNTRY MUSIC🤬']\n",
      "melancholy ['Melancholy ', 'Melancholy LoFi', 'Melancholy Folk Mix', 'melancholy gamer 😔 sad lofi', 'This Is The Melachrino Strings and Orchestra', 'melancholy ', 'This Is The Melachrino Orchestra', 'Melancholy Instrumentals', 'Melantronic', 'Melancholy Rap Mix', 'Melancholy Mix', 'Melancholy Sleep Music', 'Melancholic Solitude ', 'This Is Piano Melancolía', 'This Is Mellow Thing', 'This Is The Melachrino Strings', 'This Is Melan', 'melancholy classical music for walking around the garden while its raining', 'This Is Melancholy', 'This Is Melany Thompson', 'Melancholy Sad Classical Mix', 'Melancholy Instrumental Mix', 'Love Melancholy Mix', 'Melancholy Sad Mix']\n",
      "hurt ['Hurts hindi songs', '💔😫Hurting🖤🤕', 'This Is Hurd', 'Hurt Country', 'This Is Hurts', 'hurts me too', 'This Is HurtadO Music', 'Hurt new jeans vibes<3', 'hurt - new jeans vibe', 'who hurt u?', 'Hurting 💔', 'HURT covers', '💔hurt💔', 'Hurt me and tell me “you’re mine”', 'Hurt Me So Good', 'Hurts when I remember and I never want to feel it again~', 'I’m hurting inside 💔']\n",
      "grief ['Songs About Death, Loss And Grief - folk, indie & pop', 'grief garden', 'This Is Grieg', '💔Christian Hope After Grief 💔', 'Grief Playlist', 'The Grief Playlist', 'grief songs🕊❤️\\u200d🩹', 'SONGS FOR GRIEF & LOSS', 'Grief, Lament, and Hope', 'overdosing on grief.', 'Memorial Songs/Songs for Grief', 'Baby Loss & Grief', 'Country mourning/grief songs', 'grief.', 'the mourning of a loss', 'Coping With Loss', 'moving away from home but make it the 7 stages of grief', 'Reflection', 'Songs for loss and grief ', 'Grieving the passing of a loved one', 'best friend breakups as told by the 5 stages of grief', 'Songs about grief and death', 'the angry stage of grief', 'carina deluca grief']\n",
      "angry ['This Is Angie Rose', 'ANGRY ASS MUSIC FOR LIFTING HEAVY ASS WEIGHTS 😈😈😈', 'XXX ANGRY LIFT', 'This Is Angry Apple', 'RAGE GYM 👹', 'abcdefu 🖕🏻 angry breakup songs', 'angry bitch music', 'pov: ur sadness turned to anger', 'This Is Angryoldogs', 'Angry Fucking Metal', 'Angry Rap Mix', 'Angry Workout Mix', 'Angry Running Mix', 'YoungBoy Angry 🤬', 'angry/sad vent songs', 'Angry Phonk', 'female rage but actual rage', 'angry girl workout playlist', 'angry', 'pissed off typa rap', 'unhinged female rage', 'angry.', 'angry woman', 'Angry Hard Rock Mix', 'Angry incline sprints ', 'Angry Breakup Mix', 'Angry XXX🔥🔊👑', 'angry songs for angry girls ', 'Angry Eminem', 'Angry Woman Playlist', 'Angry Sad Mix', 'angry workout music 😡😤', 'This Is The Angry Kids', 'Rage Mix', 'gym sends (angry)', 'Villain Mode', 'Better than revenge (angry)', 'angry female rage', 'This Is AnGy KoRe', 'Angry Rock Mix', 'Loud Angry Music⛓🥀🔪', 'Angry Mix', 'This Is Angrybaby', 'hell hath no fury like a southern woman scorned', 'This Is Angry Johnny and the Killbillies', 'Angry Metal Rock Mix', 'This Is Angry Children', 'angry taylor swift songs to scream to', 'angry taylor swift songs ']\n",
      "angriest ['world’s angriest white boy', 'Angriest rap', 'my angriest rap music', 'Angriest Workout', 'Angriest Music', 'angriest songs ever ', 'angriest most pissed off metal songs', 'Probably the angriest gym playlist', 'Angriest Workout Playlist on Planet Earth', 'Angriest Metal', 'This Is Agnostic Front', 'Angriest girl music of all time', 'angriest', 'The angriest playlist ', '20 of the angriest songs ever made', 'angriest creature ', 'ODIUM NERVOUS ANGRIEST BADNESS FUKDAXIT', \"fiona apple but it's the most relatable songs (the angriest and the saddest)\", 'The angriest playlist', 'The worlds angriest playlist', 'ANGRIEST MUSIC I HAVE', 'Angry Mix', 'gettin over him (angriest)', 'angriest playlist', 'This Is Angrybaby']\n",
      "sunday ['Sunday Funday', 'SUNDAY Morning Jazz', 'Sunday Brunch', 'Sunday LDS Hymns', 'Sunday Morning - Paris Cafe', 'This Is Jazz Sundays', 'This Is The Sundays', 'Sunday Chill  ☕ Morning Playlist', 'Sunday Set List', 'SUNDAY MORNING WORSHIP', 'sunday reset', 'This Is Sunday Vibes', 'This Is Sunday Without You', 'Sunday Sessions', 'This Is Zondagmorgenmuziek Klassiekers', 'This Is Sunday', 'Lazy Jazzy Sunday', 'Sunday Morning Easy Listening Mix', 'This Is Piano Sunday', 'Sunday 2023 🌞 ☕️', 'Sunday Morning Mix', 'This Is Sundy Best', 'Lazy Sunday', 'Sunday Evening Chill', 'Sunday Mood']\n",
      "heavy ['HEAVY SHOEGAZE', 'Heavy 🔥', 'GYM MUSIC - Heavy Lifting💪', 'Heavy Lifts & Perreo ', 'Heavy Shoegaze/Post-Shoegaze', 'Brutal Death Metal', 'Heavy Rain Sounds (10+ Hours) Rainstorm Sounds for Sleeping, Relaxing, Insomnia, Stress Relief', 'This Is The Heavy', 'Blood, Shred & Tears', 'EDM HEAVY BASS', 'Heavy Metal', 'This Is Heavy D', 'This Is Heavy Nopal', 'This Is Heavy Young Heathens', 'Heavy Gamers', 'Heavy Metal Classics', 'This Is Heavenly', 'This Is Heavy D & The Boyz', 'Metal Mix', 'Aggressive Heavy Metal Mix', 'Heavy Workout Metal Mix', 'This Is Heavy', 'Heavy BASS for the car', 'Heavy Rock Mix', 'Hard Rock /Metal']\n",
      "unhappy ['UNHAPPY CLUB', 'Unhappy Mix', 'unhappy', 'Unhappy men', 'Unhappy', 'UnHappy', 'stages of our unhappy relationship ', 'UnHappy 😮\\u200d💨', 'Unhappy ', 'Unhappy Ending.', \"POV: You're an unhappy muse on Mount Parnassus\", 'happily unhappy ', 'Extremely unhappy', 'unhappy ending', 'Unhappy hour😭❤️\\u200d🩹', 'This Is Happy Instrumentals', 'This Is Unhappybirthday', 'teef is unhappy', 'Unhappy [REFRAIN]', 'This Is Unruly Child', 'Unhappy love💔', 'This Is UNCHAIN', 'what falling out of love feels like', \"María Isabel - i hope you're very unhappy without me\", 'Melanie Martinez (Unreleased and Released Songs)', 'songs for when your sad, mad, and overall unhappy ', 'This Is Unlucky Morpheus', 'Unhappy Hour ', 'im unhappy', 'unHappy', 'all melanie martinez♡unreleased and released ', 'Upbeat/unhappy', 'Unhappy Refrain', 'wowaka']\n",
      "ecstatic ['Ecstatic Dance / 5 Rhythms', 'Ecstatic Dance by Desert Dwellers', 'Ecstatic Dance • free your body', 'ecstatic', 'This Is Xtatic', 'Ecstatic Dance - 🌞🌜🌝🌛', 'Ecstatic Dance', 'This Is Ecstatic', 'Ecstatic Rock', 'Ecstatic Dance - Tribal', 'This Is Exotic Skottie', 'This Is Exotic', 'This Is Eat Static', 'This Is Exactesy', 'This Is Exact']\n",
      "mournful ['Mournful Road-trip ', 'Mournful Music 🎶', 'Mournful-playlist', 'sad piano', 'Mournful', 'mournful melo', 'moon and mournful', 'mournful melancholy ', 'Mournful ballads', 'Mournful End', 'Mournful acoustic', 'Gorgeous and Mournful', 'Sad Instrumentals: From Moody to Mournful', 'Mournful, Melancholic & Moody Strings', 'Mournful Instrumental', 'Mournful tunes', 'Mournful Classical', 'mournful instrumentals', 'playlist for mournful minds', 'This Is Mourn']\n",
      "bliss ['K⭕️NKE - Deep House 🍸 20 Hours of Bliss', 'blissful', 'This Is Blessing Offor', 'Dreamy Vibes', 'Bliss nae 😭💖', 'bliss', 'Chillhop', 'This Is Bliss n Eso', 'This Is Bliss', 'Bliss (I Am the Light of My Soul)', 'This Is blesshoody', 'This Is Bliss Looper', '😇Blissful tamil songs💫', 'Blissful Beach Days', 'This Is Blai$y', 'Bliss Mix', 'This Is BLOSSOM DEARIE', 'This Is Moses Bliss', 'Coffee Shop Vibes ', 'Blissful Chill', 'blissful beach days', 'This Is Binaural Bliss', 'Written By Blush', 'This Is Blissful Dreams', 'This Is Jean-Michel Blais', 'This Is blessthefall', 'This Is Blessd', 'This Is Illbliss', 'This Is Blitz', 'Bliss ✨', \"Smooth N' Bliss\", 'Blissful Mind', 'Bliss the Musical: The Official Playlist', 'Blissful Soul', 'Bliss da ambi❗🦋', 'Bliss | Seven Lives ', 'This Is Blush', \"Blissy's Bangers\", 'This Is Plaisir de France', 'Bliss']\n",
      "high octane ['SOCA Workout 🏋🏽\\u200d♀️ ', 'High Octane Heroes', 'Higher Octane Cruising', 'High octane', 'High Octane', 'HIGH OCTANE TECH HOUSE ', 'HIGH OCTANE!!', 'High Octane Radio', 'Rocktane High Octane Rock', 'High Octane  songs', 'High Octane Workout', '🏎️   High Octane💨', 'High Octane Bangers', 'High Octane Racing', 'HIGH OCTANE GAMING', 'High Octane EDM/Rap/Metal']\n",
      "anguish ['This Is Angus & Julia Stone', 'Anguishhh', 'unhinged feminine anguish ', 'Гуляю  ANGUISH, EXILED, Elfass']\n",
      "tragic ['Tragic music', 'This Is The Trackoholics', 'This Is Tra$h', 'slowburn angst romance', 'This Is The Tractors', 'This Is Trag', 'the tragic romance in a gothic castle - crimson peak', 'This Is The Tragically Hip', 'This Is DavidTheTragic', 'The Tragically Hip: Greatest Hits', 'pov: the villain’s tragic love story', 'This Is Trágico Ballet', 'This Is The Trak Kartel', 'Trágic error', 'the tragic hero turns into a villain', 'Tragic classical', 'This Is Tragic Wolf', 'tragic love story dark academia vibes', 'Tragically hip ', 'This Is Traitors', 'Tragic love story ', 'tragic character backstory ', \"pov you're the tragic hero\", 'tragic villain playlist', 'This Is Tragédie']\n",
      "cheerful ['🌼✿Good vibes only✿🌼', 'Cheerful kpop songs', 'Happy Lofi Music 2023', 'Cheerful Jazz Mix', 'Cheerful Songs | Feel Good Music 🙂', 'Cheerful Bollywood', 'Cheerful Instrumental', 'Cheerful Classical Piano Mix', 'Cheerful songs to feel better', 'Cheerful Tamil songs :3', 'Cheerful Piano Jazz', 'Cheerful Piano ', 'Cheerful Classical Music', 'Cheerful Uplifting Mix', 'Cheerful Morning Mix', 'Cheerful Songs Hindi', 'Cheerful Happy Morning Mix', 'Cheerful lofi', 'Cheerful Indie Mix', 'Upbeat Background Instrumentals 🌼']\n",
      "sunny ['This Is Sonny Josz', 'SUNNY 強い気持ち・強い愛 (Songs from movie)', 'This Is Sunny Neji', 'Sunny Beach/Den glade viking', 'spring fling', 'This Is SUNNYSIDEMJ', 'This Is Sunny Side Up']\n",
      "contented ['Contentedness', '🫒🐛contented extremity 🐛🫒', 'Contented', \"just like the moon, I'm contented admiring you from afar.\"]\n",
      "anguished ['Music for the anguished.', 'This Is Angus Maude', 'Anguished', 'This Is Agnus Dei', 'This Is Ingested', 'This Is Angaza Singers', 'This Is Anointed', 'This Is The Unguided', 'Mil Phonk ', 'anguished']\n"
     ]
    }
   ],
   "source": [
    "# a list of all queries\n",
    "querylist = list(df['query'].unique())\n",
    "\n",
    "# add a list of unique playlist names to each query key\n",
    "pl_dict = {}\n",
    "for query in querylist:\n",
    "    pl_dict[query] = list(df[\n",
    "        df['query']== query]['playlist_name'].unique())\n",
    "\n",
    "# print the query and playlist list for an overview\n",
    "for query in pl_dict.keys():\n",
    "    print(query, pl_dict[query])"
   ]
  },
  {
   "attachments": {},
   "cell_type": "markdown",
   "metadata": {},
   "source": [
    "One risk of searching for moods based on queries is that we blindly add playlists that do not fit the mood, whether that is due to a difference in meaning or language of certain words, due to a search term finding a word that is close in Levenstein distance but different in meaning, or searching for playlists with the query name in the Artist name, when the mood of that Artist's music may be completely different to the desired result."
   ]
  },
  {
   "attachments": {},
   "cell_type": "markdown",
   "metadata": {},
   "source": [
    "First let's deal with the first example - where the query is in the Artist's name."
   ]
  },
  {
   "cell_type": "code",
   "execution_count": 47,
   "metadata": {},
   "outputs": [],
   "source": [
    "# lower case all playlist names for ease of cleaning\n",
    "df['playlist_name'] = df['playlist_name'].apply(str.lower)\n",
    "\n",
    "# define custom function to compare row by row whether an artist name is same as a query\n",
    "def artist_contains_query(row):\n",
    "    return (row['query'] in row['artists'].lower()) and (row['query'] in row['playlist_name'])\n",
    "\n",
    "# apply the custom function\n",
    "q_artist = df[df.apply(artist_contains_query, axis=1)]"
   ]
  },
  {
   "cell_type": "code",
   "execution_count": 48,
   "metadata": {},
   "outputs": [
    {
     "name": "stdout",
     "output_type": "stream",
     "text": [
      "There are 4963 tracks where the query is in the artist name\n"
     ]
    }
   ],
   "source": [
    "print(f\"There are {q_artist.shape[0]} tracks where the query is in the artist name\")"
   ]
  },
  {
   "attachments": {},
   "cell_type": "markdown",
   "metadata": {},
   "source": [
    "Checking examples of these we can see our function is doing what we want and selecting Artists whose name matches the query."
   ]
  },
  {
   "cell_type": "code",
   "execution_count": 49,
   "metadata": {},
   "outputs": [
    {
     "data": {
      "text/html": [
       "<div>\n",
       "<style scoped>\n",
       "    .dataframe tbody tr th:only-of-type {\n",
       "        vertical-align: middle;\n",
       "    }\n",
       "\n",
       "    .dataframe tbody tr th {\n",
       "        vertical-align: top;\n",
       "    }\n",
       "\n",
       "    .dataframe thead th {\n",
       "        text-align: right;\n",
       "    }\n",
       "</style>\n",
       "<table border=\"1\" class=\"dataframe\">\n",
       "  <thead>\n",
       "    <tr style=\"text-align: right;\">\n",
       "      <th></th>\n",
       "      <th>track_id</th>\n",
       "      <th>track_name</th>\n",
       "      <th>artists</th>\n",
       "      <th>artist_genre</th>\n",
       "      <th>popularity</th>\n",
       "      <th>danceability</th>\n",
       "      <th>energy</th>\n",
       "      <th>key</th>\n",
       "      <th>loudness</th>\n",
       "      <th>mode</th>\n",
       "      <th>...</th>\n",
       "      <th>instrumentalness</th>\n",
       "      <th>liveness</th>\n",
       "      <th>valence</th>\n",
       "      <th>tempo</th>\n",
       "      <th>duration_ms</th>\n",
       "      <th>time_signature</th>\n",
       "      <th>explicit</th>\n",
       "      <th>query</th>\n",
       "      <th>playlist_name</th>\n",
       "      <th>playlist_mood</th>\n",
       "    </tr>\n",
       "  </thead>\n",
       "  <tbody>\n",
       "    <tr>\n",
       "      <th>60476</th>\n",
       "      <td>19q4YtvaSA2K78v4sApTlP</td>\n",
       "      <td>Itihaas</td>\n",
       "      <td>Hardeep Grewal</td>\n",
       "      <td>[punjabi pop]</td>\n",
       "      <td>15</td>\n",
       "      <td>0.737</td>\n",
       "      <td>0.688</td>\n",
       "      <td>0</td>\n",
       "      <td>-4.112</td>\n",
       "      <td>0</td>\n",
       "      <td>...</td>\n",
       "      <td>0.000000</td>\n",
       "      <td>0.2320</td>\n",
       "      <td>0.477</td>\n",
       "      <td>84.961</td>\n",
       "      <td>203294</td>\n",
       "      <td>4</td>\n",
       "      <td>False</td>\n",
       "      <td>hard</td>\n",
       "      <td>this is hardeep grewal</td>\n",
       "      <td>energetic</td>\n",
       "    </tr>\n",
       "    <tr>\n",
       "      <th>23213</th>\n",
       "      <td>5qHYXcVvc9xsFB2uH7GpMN</td>\n",
       "      <td>Kokomo</td>\n",
       "      <td>The Beach Boys</td>\n",
       "      <td>[adult standards, baroque pop, classic rock, p...</td>\n",
       "      <td>72</td>\n",
       "      <td>0.682</td>\n",
       "      <td>0.635</td>\n",
       "      <td>0</td>\n",
       "      <td>-10.050</td>\n",
       "      <td>1</td>\n",
       "      <td>...</td>\n",
       "      <td>0.000000</td>\n",
       "      <td>0.1370</td>\n",
       "      <td>0.927</td>\n",
       "      <td>115.584</td>\n",
       "      <td>217693</td>\n",
       "      <td>4</td>\n",
       "      <td>False</td>\n",
       "      <td>beach</td>\n",
       "      <td>this is the beach boys</td>\n",
       "      <td>chill</td>\n",
       "    </tr>\n",
       "    <tr>\n",
       "      <th>59133</th>\n",
       "      <td>2Zyl9jW8HXHDAeIvga5JVK</td>\n",
       "      <td>A Lover Spurned</td>\n",
       "      <td>Soft Cell, Marc Almond</td>\n",
       "      <td>['new romantic', 'new wave', 'new wave pop', '...</td>\n",
       "      <td>18</td>\n",
       "      <td>0.683</td>\n",
       "      <td>0.526</td>\n",
       "      <td>4</td>\n",
       "      <td>-13.705</td>\n",
       "      <td>0</td>\n",
       "      <td>...</td>\n",
       "      <td>0.000288</td>\n",
       "      <td>0.0599</td>\n",
       "      <td>0.791</td>\n",
       "      <td>120.439</td>\n",
       "      <td>339893</td>\n",
       "      <td>4</td>\n",
       "      <td>False</td>\n",
       "      <td>soft</td>\n",
       "      <td>this is soft cell</td>\n",
       "      <td>chill</td>\n",
       "    </tr>\n",
       "    <tr>\n",
       "      <th>66395</th>\n",
       "      <td>6ofQC96SOJs38OeveivG3X</td>\n",
       "      <td>Still Dreaming</td>\n",
       "      <td>Calm</td>\n",
       "      <td>[nigerian pop]</td>\n",
       "      <td>8</td>\n",
       "      <td>0.742</td>\n",
       "      <td>0.181</td>\n",
       "      <td>9</td>\n",
       "      <td>-20.528</td>\n",
       "      <td>0</td>\n",
       "      <td>...</td>\n",
       "      <td>0.914000</td>\n",
       "      <td>0.1010</td>\n",
       "      <td>0.642</td>\n",
       "      <td>90.063</td>\n",
       "      <td>223431</td>\n",
       "      <td>4</td>\n",
       "      <td>False</td>\n",
       "      <td>calm</td>\n",
       "      <td>this is calm</td>\n",
       "      <td>chill</td>\n",
       "    </tr>\n",
       "    <tr>\n",
       "      <th>126109</th>\n",
       "      <td>3ZPF2C5503DJShSlTi2Bp5</td>\n",
       "      <td>The Girl With The Patent Leather Face</td>\n",
       "      <td>Soft Cell</td>\n",
       "      <td>[new romantic, new wave, new wave pop, synthpop]</td>\n",
       "      <td>13</td>\n",
       "      <td>0.394</td>\n",
       "      <td>0.510</td>\n",
       "      <td>2</td>\n",
       "      <td>-6.776</td>\n",
       "      <td>1</td>\n",
       "      <td>...</td>\n",
       "      <td>0.000005</td>\n",
       "      <td>0.0716</td>\n",
       "      <td>0.431</td>\n",
       "      <td>172.497</td>\n",
       "      <td>297131</td>\n",
       "      <td>4</td>\n",
       "      <td>False</td>\n",
       "      <td>soft</td>\n",
       "      <td>this is soft cell</td>\n",
       "      <td>chill</td>\n",
       "    </tr>\n",
       "  </tbody>\n",
       "</table>\n",
       "<p>5 rows × 22 columns</p>\n",
       "</div>"
      ],
      "text/plain": [
       "                      track_id                             track_name  \\\n",
       "60476   19q4YtvaSA2K78v4sApTlP                                Itihaas   \n",
       "23213   5qHYXcVvc9xsFB2uH7GpMN                                 Kokomo   \n",
       "59133   2Zyl9jW8HXHDAeIvga5JVK                        A Lover Spurned   \n",
       "66395   6ofQC96SOJs38OeveivG3X                         Still Dreaming   \n",
       "126109  3ZPF2C5503DJShSlTi2Bp5  The Girl With The Patent Leather Face   \n",
       "\n",
       "                       artists  \\\n",
       "60476           Hardeep Grewal   \n",
       "23213           The Beach Boys   \n",
       "59133   Soft Cell, Marc Almond   \n",
       "66395                     Calm   \n",
       "126109               Soft Cell   \n",
       "\n",
       "                                             artist_genre  popularity  \\\n",
       "60476                                       [punjabi pop]          15   \n",
       "23213   [adult standards, baroque pop, classic rock, p...          72   \n",
       "59133   ['new romantic', 'new wave', 'new wave pop', '...          18   \n",
       "66395                                      [nigerian pop]           8   \n",
       "126109   [new romantic, new wave, new wave pop, synthpop]          13   \n",
       "\n",
       "        danceability  energy  key  loudness  mode  ...  instrumentalness  \\\n",
       "60476          0.737   0.688    0    -4.112     0  ...          0.000000   \n",
       "23213          0.682   0.635    0   -10.050     1  ...          0.000000   \n",
       "59133          0.683   0.526    4   -13.705     0  ...          0.000288   \n",
       "66395          0.742   0.181    9   -20.528     0  ...          0.914000   \n",
       "126109         0.394   0.510    2    -6.776     1  ...          0.000005   \n",
       "\n",
       "        liveness  valence    tempo  duration_ms  time_signature  explicit  \\\n",
       "60476     0.2320    0.477   84.961       203294               4     False   \n",
       "23213     0.1370    0.927  115.584       217693               4     False   \n",
       "59133     0.0599    0.791  120.439       339893               4     False   \n",
       "66395     0.1010    0.642   90.063       223431               4     False   \n",
       "126109    0.0716    0.431  172.497       297131               4     False   \n",
       "\n",
       "        query           playlist_name playlist_mood  \n",
       "60476    hard  this is hardeep grewal     energetic  \n",
       "23213   beach  this is the beach boys         chill  \n",
       "59133    soft       this is soft cell         chill  \n",
       "66395    calm            this is calm         chill  \n",
       "126109   soft       this is soft cell         chill  \n",
       "\n",
       "[5 rows x 22 columns]"
      ]
     },
     "execution_count": 49,
     "metadata": {},
     "output_type": "execute_result"
    }
   ],
   "source": [
    "q_artist.sample(5, random_state=5)"
   ]
  },
  {
   "cell_type": "markdown",
   "metadata": {},
   "source": [
    "Drop all rows where query is in artist and playlist name"
   ]
  },
  {
   "cell_type": "code",
   "execution_count": 50,
   "metadata": {},
   "outputs": [],
   "source": [
    "df = df[\n",
    "    ~(df.apply(artist_contains_query, axis=1))\n",
    "]"
   ]
  },
  {
   "attachments": {},
   "cell_type": "markdown",
   "metadata": {},
   "source": [
    "There are a lot of instances of the search query bringing up an artist with a close Levenstein distance,\n",
    "e.g. 'Dynamic' query brings up the artist 'Dynasty'\n",
    "we want to remove these as they are generally unrelated to the mood, however we want to keep examples where the query is present e.g. 'Sad Taylor Swift"
   ]
  },
  {
   "cell_type": "code",
   "execution_count": 51,
   "metadata": {},
   "outputs": [
    {
     "name": "stdout",
     "output_type": "stream",
     "text": [
      "There are 3368 tracks where the artist is in the Playlist name, but not in the query\n"
     ]
    }
   ],
   "source": [
    "#define custom function to compare row by row whether an artist name is in the playlist name, but not in the query\n",
    "\n",
    "def playlist_contains_artist_not_query(row):\n",
    "    return ((row['artists'].lower() in row['playlist_name']) & (row['query'] not in row['playlist_name']))\n",
    "\n",
    "# apply custom function to each row of the DataFrame\n",
    "pl_artist_not_query = df[df.apply(playlist_contains_artist_not_query, axis=1)]\n",
    "\n",
    "print(f\"There are {pl_artist_not_query.shape[0]} tracks where the artist is in the Playlist name, but not in the query\")\n"
   ]
  },
  {
   "cell_type": "code",
   "execution_count": 52,
   "metadata": {},
   "outputs": [
    {
     "data": {
      "text/html": [
       "<div>\n",
       "<style scoped>\n",
       "    .dataframe tbody tr th:only-of-type {\n",
       "        vertical-align: middle;\n",
       "    }\n",
       "\n",
       "    .dataframe tbody tr th {\n",
       "        vertical-align: top;\n",
       "    }\n",
       "\n",
       "    .dataframe thead th {\n",
       "        text-align: right;\n",
       "    }\n",
       "</style>\n",
       "<table border=\"1\" class=\"dataframe\">\n",
       "  <thead>\n",
       "    <tr style=\"text-align: right;\">\n",
       "      <th></th>\n",
       "      <th>track_id</th>\n",
       "      <th>track_name</th>\n",
       "      <th>artists</th>\n",
       "      <th>artist_genre</th>\n",
       "      <th>popularity</th>\n",
       "      <th>danceability</th>\n",
       "      <th>energy</th>\n",
       "      <th>key</th>\n",
       "      <th>loudness</th>\n",
       "      <th>mode</th>\n",
       "      <th>...</th>\n",
       "      <th>instrumentalness</th>\n",
       "      <th>liveness</th>\n",
       "      <th>valence</th>\n",
       "      <th>tempo</th>\n",
       "      <th>duration_ms</th>\n",
       "      <th>time_signature</th>\n",
       "      <th>explicit</th>\n",
       "      <th>query</th>\n",
       "      <th>playlist_name</th>\n",
       "      <th>playlist_mood</th>\n",
       "    </tr>\n",
       "  </thead>\n",
       "  <tbody>\n",
       "    <tr>\n",
       "      <th>14120</th>\n",
       "      <td>0RIZcb4vPEcTdHRm7yDO6H</td>\n",
       "      <td>I Will Fly</td>\n",
       "      <td>Angaza Singers</td>\n",
       "      <td>['sda choir', 'swahili gospel']</td>\n",
       "      <td>2</td>\n",
       "      <td>0.779</td>\n",
       "      <td>0.517</td>\n",
       "      <td>10</td>\n",
       "      <td>-6.657</td>\n",
       "      <td>1</td>\n",
       "      <td>...</td>\n",
       "      <td>0.000000</td>\n",
       "      <td>0.3130</td>\n",
       "      <td>0.402</td>\n",
       "      <td>142.152</td>\n",
       "      <td>265418</td>\n",
       "      <td>4</td>\n",
       "      <td>False</td>\n",
       "      <td>anguished</td>\n",
       "      <td>this is angaza singers</td>\n",
       "      <td>sad</td>\n",
       "    </tr>\n",
       "    <tr>\n",
       "      <th>51125</th>\n",
       "      <td>0Ob1qDTsJtdDjLWnjHbOG0</td>\n",
       "      <td>Intricate - Original Mix</td>\n",
       "      <td>Energun</td>\n",
       "      <td>[dark trap, scream rap]</td>\n",
       "      <td>0</td>\n",
       "      <td>0.724</td>\n",
       "      <td>0.723</td>\n",
       "      <td>1</td>\n",
       "      <td>-15.407</td>\n",
       "      <td>1</td>\n",
       "      <td>...</td>\n",
       "      <td>0.789000</td>\n",
       "      <td>0.1110</td>\n",
       "      <td>0.329</td>\n",
       "      <td>128.014</td>\n",
       "      <td>438399</td>\n",
       "      <td>3</td>\n",
       "      <td>False</td>\n",
       "      <td>energetic</td>\n",
       "      <td>this is energun</td>\n",
       "      <td>energetic</td>\n",
       "    </tr>\n",
       "    <tr>\n",
       "      <th>56399</th>\n",
       "      <td>3rRvxAsZv2UkCfhb4lPC9o</td>\n",
       "      <td>Hasta el Día de Hoy</td>\n",
       "      <td>Dinamicos Jrs</td>\n",
       "      <td>[classic sierreno, corrido, corridos tumbados,...</td>\n",
       "      <td>38</td>\n",
       "      <td>0.816</td>\n",
       "      <td>0.739</td>\n",
       "      <td>8</td>\n",
       "      <td>-6.968</td>\n",
       "      <td>1</td>\n",
       "      <td>...</td>\n",
       "      <td>0.000014</td>\n",
       "      <td>0.0947</td>\n",
       "      <td>0.818</td>\n",
       "      <td>97.481</td>\n",
       "      <td>232100</td>\n",
       "      <td>4</td>\n",
       "      <td>False</td>\n",
       "      <td>dynamic</td>\n",
       "      <td>this is dinamicos jrs</td>\n",
       "      <td>energetic</td>\n",
       "    </tr>\n",
       "    <tr>\n",
       "      <th>85561</th>\n",
       "      <td>3kVZLGlzRZNE8GfNbN9gE1</td>\n",
       "      <td>Numb3rs</td>\n",
       "      <td>Xtatic</td>\n",
       "      <td>['kenyan alternative']</td>\n",
       "      <td>0</td>\n",
       "      <td>0.534</td>\n",
       "      <td>0.918</td>\n",
       "      <td>2</td>\n",
       "      <td>-6.502</td>\n",
       "      <td>1</td>\n",
       "      <td>...</td>\n",
       "      <td>0.873000</td>\n",
       "      <td>0.3680</td>\n",
       "      <td>0.264</td>\n",
       "      <td>145.989</td>\n",
       "      <td>401096</td>\n",
       "      <td>4</td>\n",
       "      <td>False</td>\n",
       "      <td>ecstatic</td>\n",
       "      <td>this is xtatic</td>\n",
       "      <td>happy</td>\n",
       "    </tr>\n",
       "    <tr>\n",
       "      <th>101712</th>\n",
       "      <td>58oJMzQsO51iocCocOhVDk</td>\n",
       "      <td>I Don't Want To Be A Freak (But I Can't Help M...</td>\n",
       "      <td>Dynasty</td>\n",
       "      <td>[norwegian pop]</td>\n",
       "      <td>0</td>\n",
       "      <td>0.725</td>\n",
       "      <td>0.896</td>\n",
       "      <td>5</td>\n",
       "      <td>-5.678</td>\n",
       "      <td>0</td>\n",
       "      <td>...</td>\n",
       "      <td>0.001100</td>\n",
       "      <td>0.0696</td>\n",
       "      <td>0.939</td>\n",
       "      <td>118.525</td>\n",
       "      <td>433880</td>\n",
       "      <td>4</td>\n",
       "      <td>False</td>\n",
       "      <td>dynamic</td>\n",
       "      <td>this is dynasty</td>\n",
       "      <td>energetic</td>\n",
       "    </tr>\n",
       "  </tbody>\n",
       "</table>\n",
       "<p>5 rows × 22 columns</p>\n",
       "</div>"
      ],
      "text/plain": [
       "                      track_id  \\\n",
       "14120   0RIZcb4vPEcTdHRm7yDO6H   \n",
       "51125   0Ob1qDTsJtdDjLWnjHbOG0   \n",
       "56399   3rRvxAsZv2UkCfhb4lPC9o   \n",
       "85561   3kVZLGlzRZNE8GfNbN9gE1   \n",
       "101712  58oJMzQsO51iocCocOhVDk   \n",
       "\n",
       "                                               track_name         artists  \\\n",
       "14120                                          I Will Fly  Angaza Singers   \n",
       "51125                            Intricate - Original Mix         Energun   \n",
       "56399                                 Hasta el Día de Hoy   Dinamicos Jrs   \n",
       "85561                                             Numb3rs          Xtatic   \n",
       "101712  I Don't Want To Be A Freak (But I Can't Help M...         Dynasty   \n",
       "\n",
       "                                             artist_genre  popularity  \\\n",
       "14120                     ['sda choir', 'swahili gospel']           2   \n",
       "51125                             [dark trap, scream rap]           0   \n",
       "56399   [classic sierreno, corrido, corridos tumbados,...          38   \n",
       "85561                              ['kenyan alternative']           0   \n",
       "101712                                    [norwegian pop]           0   \n",
       "\n",
       "        danceability  energy  key  loudness  mode  ...  instrumentalness  \\\n",
       "14120          0.779   0.517   10    -6.657     1  ...          0.000000   \n",
       "51125          0.724   0.723    1   -15.407     1  ...          0.789000   \n",
       "56399          0.816   0.739    8    -6.968     1  ...          0.000014   \n",
       "85561          0.534   0.918    2    -6.502     1  ...          0.873000   \n",
       "101712         0.725   0.896    5    -5.678     0  ...          0.001100   \n",
       "\n",
       "        liveness  valence    tempo  duration_ms  time_signature  explicit  \\\n",
       "14120     0.3130    0.402  142.152       265418               4     False   \n",
       "51125     0.1110    0.329  128.014       438399               3     False   \n",
       "56399     0.0947    0.818   97.481       232100               4     False   \n",
       "85561     0.3680    0.264  145.989       401096               4     False   \n",
       "101712    0.0696    0.939  118.525       433880               4     False   \n",
       "\n",
       "            query           playlist_name playlist_mood  \n",
       "14120   anguished  this is angaza singers           sad  \n",
       "51125   energetic         this is energun     energetic  \n",
       "56399     dynamic   this is dinamicos jrs     energetic  \n",
       "85561    ecstatic          this is xtatic         happy  \n",
       "101712    dynamic         this is dynasty     energetic  \n",
       "\n",
       "[5 rows x 22 columns]"
      ]
     },
     "execution_count": 52,
     "metadata": {},
     "output_type": "execute_result"
    }
   ],
   "source": [
    "pl_artist_not_query.sample(5, random_state=33)"
   ]
  },
  {
   "attachments": {},
   "cell_type": "markdown",
   "metadata": {},
   "source": [
    "Sanity check shows that our function is flagging the correct rows"
   ]
  },
  {
   "attachments": {},
   "cell_type": "markdown",
   "metadata": {},
   "source": [
    "Drop these tracks"
   ]
  },
  {
   "cell_type": "code",
   "execution_count": 53,
   "metadata": {},
   "outputs": [],
   "source": [
    "#drop all rows where artist is in playlist name but query is not\n",
    "df = df[\n",
    "    ~(df.apply(playlist_contains_artist_not_query, axis=1))\n",
    "]"
   ]
  },
  {
   "attachments": {},
   "cell_type": "markdown",
   "metadata": {},
   "source": [
    "A lot of the playlists that are unrelated to the mood come from the \"This is...\" artist playlists.\n",
    "create a custom function to drop these"
   ]
  },
  {
   "cell_type": "code",
   "execution_count": 54,
   "metadata": {},
   "outputs": [
    {
     "name": "stdout",
     "output_type": "stream",
     "text": [
      "There are 1194 tracks with 'This is...' in the playlist name\n"
     ]
    }
   ],
   "source": [
    "def this_is_identifier(row):\n",
    "    return ((\"this is\" in row['playlist_name']))\n",
    "\n",
    "pl_this_is = df[\n",
    "    (df.apply(this_is_identifier, axis=1))\n",
    "]\n",
    "\n",
    "print(f\"There are {pl_this_is.shape[0]} tracks with 'This is...' in the playlist name\")"
   ]
  },
  {
   "cell_type": "code",
   "execution_count": 55,
   "metadata": {},
   "outputs": [
    {
     "data": {
      "text/html": [
       "<div>\n",
       "<style scoped>\n",
       "    .dataframe tbody tr th:only-of-type {\n",
       "        vertical-align: middle;\n",
       "    }\n",
       "\n",
       "    .dataframe tbody tr th {\n",
       "        vertical-align: top;\n",
       "    }\n",
       "\n",
       "    .dataframe thead th {\n",
       "        text-align: right;\n",
       "    }\n",
       "</style>\n",
       "<table border=\"1\" class=\"dataframe\">\n",
       "  <thead>\n",
       "    <tr style=\"text-align: right;\">\n",
       "      <th></th>\n",
       "      <th>track_id</th>\n",
       "      <th>track_name</th>\n",
       "      <th>artists</th>\n",
       "      <th>artist_genre</th>\n",
       "      <th>popularity</th>\n",
       "      <th>danceability</th>\n",
       "      <th>energy</th>\n",
       "      <th>key</th>\n",
       "      <th>loudness</th>\n",
       "      <th>mode</th>\n",
       "      <th>...</th>\n",
       "      <th>instrumentalness</th>\n",
       "      <th>liveness</th>\n",
       "      <th>valence</th>\n",
       "      <th>tempo</th>\n",
       "      <th>duration_ms</th>\n",
       "      <th>time_signature</th>\n",
       "      <th>explicit</th>\n",
       "      <th>query</th>\n",
       "      <th>playlist_name</th>\n",
       "      <th>playlist_mood</th>\n",
       "    </tr>\n",
       "  </thead>\n",
       "  <tbody>\n",
       "    <tr>\n",
       "      <th>5521</th>\n",
       "      <td>2PZiLzbvaKNppzaBGvhPw3</td>\n",
       "      <td>Daily Duppy</td>\n",
       "      <td>Ard Adz, GRM Daily</td>\n",
       "      <td>[grime, uk alternative hip hop, uk hip hop]</td>\n",
       "      <td>31</td>\n",
       "      <td>0.608</td>\n",
       "      <td>0.5540</td>\n",
       "      <td>9</td>\n",
       "      <td>-8.544</td>\n",
       "      <td>1</td>\n",
       "      <td>...</td>\n",
       "      <td>0.000</td>\n",
       "      <td>0.2700</td>\n",
       "      <td>0.6510</td>\n",
       "      <td>139.214</td>\n",
       "      <td>178338</td>\n",
       "      <td>4</td>\n",
       "      <td>True</td>\n",
       "      <td>hard</td>\n",
       "      <td>this is ard adz</td>\n",
       "      <td>energetic</td>\n",
       "    </tr>\n",
       "    <tr>\n",
       "      <th>122554</th>\n",
       "      <td>2YMA7qrL7SyNafjrb8tcF5</td>\n",
       "      <td>Smile Back at Me</td>\n",
       "      <td>Mellow Thing, Erick Yung, Moonrock Mont, Eddy ...</td>\n",
       "      <td>[]</td>\n",
       "      <td>0</td>\n",
       "      <td>0.706</td>\n",
       "      <td>0.6190</td>\n",
       "      <td>8</td>\n",
       "      <td>-11.578</td>\n",
       "      <td>0</td>\n",
       "      <td>...</td>\n",
       "      <td>0.000</td>\n",
       "      <td>0.0797</td>\n",
       "      <td>0.1910</td>\n",
       "      <td>144.044</td>\n",
       "      <td>164212</td>\n",
       "      <td>4</td>\n",
       "      <td>True</td>\n",
       "      <td>melancholy</td>\n",
       "      <td>this is mellow thing</td>\n",
       "      <td>sad</td>\n",
       "    </tr>\n",
       "    <tr>\n",
       "      <th>28707</th>\n",
       "      <td>00shcLNgwxFoIWDCCiQB6i</td>\n",
       "      <td>Holberg Suite, Op. 40: 4. Air (Andante religioso)</td>\n",
       "      <td>Edvard Grieg, Academy of St. Martin in the Fie...</td>\n",
       "      <td>[classical, late romantic era, norwegian class...</td>\n",
       "      <td>23</td>\n",
       "      <td>0.168</td>\n",
       "      <td>0.0337</td>\n",
       "      <td>7</td>\n",
       "      <td>-24.257</td>\n",
       "      <td>0</td>\n",
       "      <td>...</td>\n",
       "      <td>0.861</td>\n",
       "      <td>0.1470</td>\n",
       "      <td>0.0339</td>\n",
       "      <td>67.446</td>\n",
       "      <td>406667</td>\n",
       "      <td>4</td>\n",
       "      <td>False</td>\n",
       "      <td>grief</td>\n",
       "      <td>this is grieg</td>\n",
       "      <td>sad</td>\n",
       "    </tr>\n",
       "    <tr>\n",
       "      <th>108357</th>\n",
       "      <td>4oVHVOiduNppLB19NpdeCS</td>\n",
       "      <td>La Chacha del Trompedario</td>\n",
       "      <td>Adriano, Paulina</td>\n",
       "      <td>[]</td>\n",
       "      <td>9</td>\n",
       "      <td>0.924</td>\n",
       "      <td>0.7020</td>\n",
       "      <td>3</td>\n",
       "      <td>-4.781</td>\n",
       "      <td>1</td>\n",
       "      <td>...</td>\n",
       "      <td>0.752</td>\n",
       "      <td>0.0541</td>\n",
       "      <td>0.9640</td>\n",
       "      <td>129.143</td>\n",
       "      <td>152200</td>\n",
       "      <td>4</td>\n",
       "      <td>False</td>\n",
       "      <td>adrenaline</td>\n",
       "      <td>this is adriano</td>\n",
       "      <td>energetic</td>\n",
       "    </tr>\n",
       "    <tr>\n",
       "      <th>88856</th>\n",
       "      <td>4PRKn6xgM6EAAPbUTNS2FF</td>\n",
       "      <td>Vinho Novo</td>\n",
       "      <td>Agnus Dei, Juliene</td>\n",
       "      <td>['brazilian ccm', 'musicas espiritas']</td>\n",
       "      <td>2</td>\n",
       "      <td>0.709</td>\n",
       "      <td>0.4310</td>\n",
       "      <td>11</td>\n",
       "      <td>-8.883</td>\n",
       "      <td>1</td>\n",
       "      <td>...</td>\n",
       "      <td>0.000</td>\n",
       "      <td>0.0526</td>\n",
       "      <td>0.7930</td>\n",
       "      <td>138.434</td>\n",
       "      <td>218040</td>\n",
       "      <td>4</td>\n",
       "      <td>False</td>\n",
       "      <td>anguished</td>\n",
       "      <td>this is agnus dei</td>\n",
       "      <td>sad</td>\n",
       "    </tr>\n",
       "  </tbody>\n",
       "</table>\n",
       "<p>5 rows × 22 columns</p>\n",
       "</div>"
      ],
      "text/plain": [
       "                      track_id  \\\n",
       "5521    2PZiLzbvaKNppzaBGvhPw3   \n",
       "122554  2YMA7qrL7SyNafjrb8tcF5   \n",
       "28707   00shcLNgwxFoIWDCCiQB6i   \n",
       "108357  4oVHVOiduNppLB19NpdeCS   \n",
       "88856   4PRKn6xgM6EAAPbUTNS2FF   \n",
       "\n",
       "                                               track_name  \\\n",
       "5521                                          Daily Duppy   \n",
       "122554                                   Smile Back at Me   \n",
       "28707   Holberg Suite, Op. 40: 4. Air (Andante religioso)   \n",
       "108357                          La Chacha del Trompedario   \n",
       "88856                                          Vinho Novo   \n",
       "\n",
       "                                                  artists  \\\n",
       "5521                                   Ard Adz, GRM Daily   \n",
       "122554  Mellow Thing, Erick Yung, Moonrock Mont, Eddy ...   \n",
       "28707   Edvard Grieg, Academy of St. Martin in the Fie...   \n",
       "108357                                   Adriano, Paulina   \n",
       "88856                                  Agnus Dei, Juliene   \n",
       "\n",
       "                                             artist_genre  popularity  \\\n",
       "5521          [grime, uk alternative hip hop, uk hip hop]          31   \n",
       "122554                                                 []           0   \n",
       "28707   [classical, late romantic era, norwegian class...          23   \n",
       "108357                                                 []           9   \n",
       "88856              ['brazilian ccm', 'musicas espiritas']           2   \n",
       "\n",
       "        danceability  energy  key  loudness  mode  ...  instrumentalness  \\\n",
       "5521           0.608  0.5540    9    -8.544     1  ...             0.000   \n",
       "122554         0.706  0.6190    8   -11.578     0  ...             0.000   \n",
       "28707          0.168  0.0337    7   -24.257     0  ...             0.861   \n",
       "108357         0.924  0.7020    3    -4.781     1  ...             0.752   \n",
       "88856          0.709  0.4310   11    -8.883     1  ...             0.000   \n",
       "\n",
       "        liveness  valence    tempo  duration_ms  time_signature  explicit  \\\n",
       "5521      0.2700   0.6510  139.214       178338               4      True   \n",
       "122554    0.0797   0.1910  144.044       164212               4      True   \n",
       "28707     0.1470   0.0339   67.446       406667               4     False   \n",
       "108357    0.0541   0.9640  129.143       152200               4     False   \n",
       "88856     0.0526   0.7930  138.434       218040               4     False   \n",
       "\n",
       "             query         playlist_name playlist_mood  \n",
       "5521          hard       this is ard adz     energetic  \n",
       "122554  melancholy  this is mellow thing           sad  \n",
       "28707        grief         this is grieg           sad  \n",
       "108357  adrenaline       this is adriano     energetic  \n",
       "88856    anguished     this is agnus dei           sad  \n",
       "\n",
       "[5 rows x 22 columns]"
      ]
     },
     "execution_count": 55,
     "metadata": {},
     "output_type": "execute_result"
    }
   ],
   "source": [
    "pl_this_is.sample(5, random_state = 1)"
   ]
  },
  {
   "cell_type": "markdown",
   "metadata": {},
   "source": [
    "Function passes the sanity check"
   ]
  },
  {
   "attachments": {},
   "cell_type": "markdown",
   "metadata": {},
   "source": [
    "Drop all tracks where playlist name is 'this is...'"
   ]
  },
  {
   "cell_type": "code",
   "execution_count": 56,
   "metadata": {},
   "outputs": [],
   "source": [
    "df = df[\n",
    "    ~(df.apply(this_is_identifier, axis=1))\n",
    "]"
   ]
  },
  {
   "attachments": {},
   "cell_type": "markdown",
   "metadata": {},
   "source": [
    "Re-print the queries and associated playlists "
   ]
  },
  {
   "cell_type": "code",
   "execution_count": 57,
   "metadata": {},
   "outputs": [
    {
     "name": "stdout",
     "output_type": "stream",
     "text": [
      "sad ['sad 90s', 'lonely sad mix', 'depressing rap 😭', 'crying myself to sleep', 'sad', 'sad viral tik tok songs', 'overthinking🥀🖤', 'best of sadar bahar', 'sad rock 🤘', 'sad hours: punjabi', 'sad songs for sad breakups', 'sad corridos♥️', 'sad hour', 'sad songs to cry your heart out to 😭💔', '#sadcuhhours 🥺', 'sad girl starter pack', 'sad songs 2023 😢 crying and depressing music', 'sad songs everyone knows', 'sad indie', 'bhojpuri sad song 😭😣', 'sad rap vibes 2023', 'sad songs 🥺', 'sad sierreño', '💔😭sad songs for crying at 3am😭💔', 'sad tik tok songs 2023 / 2022', 'sad girl country', 'sad country songs to cry to.', 'nf saddest songs ;(', 'sad soul', 'sad covers', 'sad spanish songs to cry in the corner of your room bebe', 'sad songs', 'sad 80s', 'slow sad songs to fall asleep to', 'sad crying mix', 'sad lofi', 'sad classical', 'sad 00s', 'sad boi hours', 'sad love song mix', 'sad song club', \"taylor swift but you're sad.\", 'sadboy', 'sad instrumentals for sad nights', 'sad ?', 'sad songs for the boys 🍻💊', 'moody sad mix', 'heartbroken sad mix']\n",
      "upbeat ['upbeat mix', 'upbeat christian songs 2023 ', 'upbeat hiphop/rap ', \"upbeat 80's 🆕\", 'upbeat indie folk', 'upbeat', 'upbeat pop hits 2022', 'dinner party upbeat mix', 'focus upbeat mix', 'workout pop upbeat mix', 'energy booster: country', 'upbeat disney songs', 'upbeat jazz mix', 'upbeat classic rock', 'upbeat clean office music', 'upbeat lofi', 'upbeat clean songs😀', 'upbeat worship songs 2023', 'upbeat christian music playlist', 'upbeat jazz', 'upbeat country mix', 'feel good jazz', 'energetic upbeat lofi 🍉', 'upbeat edm gym hype', 'clean upbeat office playlist - updated weekly', 'upbeat oldies but goodies ', 'upbeat gospel music', 'school appropriate upbeat songs', 'upbeat kids worship', 'clean and upbeat kids playlist', 'christian pop upbeat mix', 'motivation workout upbeat mix', '🐴clean upbeat country🐴', 'upbeat background instrumentals 🌼', 'upbeat songs everyone knows ', 'energy booster: indie', 'upbeat blues', 'upbeat indie pop ☀️', 'yoga flow upbeat mix', 'instrumental upbeat mix', 'running pop upbeat mix', 'happy dance upbeat mix', 'upbeat worship', 'upbeat yoga flow', 'morning upbeat mix', 'upbeat songs that everyone knows']\n",
      "negative ['negative crap! :p', 'negative effects of ashwagandha 😞😶', 'anxiety relief frequencies ✨🦋', 'negative', '⚡🌩️negative cloud🌩️⚡', 'negative flash', 'positive vibes', 'c negative', 'negative space ', 'stay negative', '..negative.. nightmare sans kin playlist', 'negative splits positive vibes | bbrc', 'negative rizz', 'stay positive, test negative', '432 hz', 'incelcore', 'negative chromosomes', 'positive 🤌🏼 negative', 'healing + cleansing frequencies ✨💚', 'negative, sir', 'negative.', 'negative days negative nights', 'negative cloud 🌩️', 'negative space', 'negative creep', '☆ negative rizz anthem ☆', 'negatives', 'the negative mind']\n",
      "easy [\"easy listening - classic's & oldies \", 'easy 90s', 'top easy listening songs', 'easy like sunday morning', 'easy listening soft rock', 'classic easy rock', 'easy listening for work', 'totally stress free', 'easy listening mix', 'easy 60s', 'classic easy listening', 'easy mornings', 'easy listening instrumentals', 'easy jazz', 'easy rider', '1970s/80s easy listening', 'easy a soundtrack', 'easy 10s', 'free & easy', 'easy country 🧡', 'easy', 'easy acoustic', '70s easy listening mix', 'r&b easy loving', 'sunday morning easy listening mix', 'easy classical', 'easy 70s', 'sunny day', 'easy 80s', 'chill easy', '80s easy listening', 'light & easy', 'easy 00s', 'unwind 00s', 'unwind 10s', 'unwind 80s']\n",
      "screamo ['screamo', 'screaming at the top of my lungs', 'screaming music👿👹🖤', 'screaming the lyrics', 'screamo/post-hardcore/metalcore/emocore', 'heavy/screamo workout', 'screamo/emoviolence/skramz', 'screamo gym', 'screaming', 'screamo music', 'screamo edm', 'screaming gym hype🔥🔥🔥', 'screamo mix', 'love or hate emo rock', 'emo forever']\n",
      "energetic ['energetic morning 🐣☕️', 'energy booster: dance', 'energetic upbeat lofi 🍉', 'happy/energetic music', 'energy release', 'energetic focus', 'energetic/happy songs', 'no lyrics | energetic focus ⚡️', 'sfw: energetic office mix', 'energetic upbeat lofi ', 'energy booster: pop', 'kpop workout/energetic playlist💪🎵', 'energetic run', 'energy booster: r&b', 'energy booster: country', 'energy booster: hip-hop', 'energy booster: metal', 'energetic classical mix', 'energetic focus classical mix', 'energy booster: rock', 'motivation mix', 'energy booster: indie', 'morning energetic songs', 'energetic running (160-165 bpm)', 'energetic morning mix', 'energetic reflections', 'energetic study music ', 'energetic instrumental music mix', 'energy booster: k-pop', 'energetic jazz', 'energetic pop music playlist ⚡', 'energetic focus mix', 'energetic yoga flow', 'relax with energetica natura', 'energetic punjabi song', 'energetic bhajans', 'energetic indie rock mix', 'energetic rock mix', 'energetic mix', 'energetic jazz mix', 'energetic bhajan 🚩', 'energetic happy mix', 'energetic rap mix', 'energetic study', 'energetic', 'energetic worship', 'motivational + energetic']\n",
      "carefree ['carefree songs', 'carefree 🇮🇹', 'fun/carefree/dance', ' .carefreeliving', 'old youtube music (2005-2012)', 'kevin macleod bangers 💯', 'carefree mix', 'carefree🦋', 'carefree', \"70's love hits\", 'carefree white girls club', 'spring break', 'carefree alleycats flybaits headwind', 'backyard bbq', 'carefree ', 'carefree summer vibes', 'carefree summer', 'carefree girly ']\n",
      "euphoric ['techno 2023 | euphoric techno top 100 | afterdark | down the rabbit hole by markus schulz', 'zyzz euphoric hardstyle ', 'euphoric hardstyle ', 'euphorically ascending', 'euphoric hardstyle', 'euphoric ', \"geo's euphoric tunes\", '♥️electronic/euphoric♥️', 'euphoric destiny', 'euphoric', 'euphoric&nostalgic tunes', 'euphoric superstars 🖤💙✨', 'euphoric 🌈', 'euphoric.', 'euphorick random songs playlist', 'euphoric destruction', 'euphoric songs ', 'alex eubank 🔱 euphoric workout • gym & aesthetics', 'euphoricbeatz', 'euphoric nostalgia', 'euphoric house', 'euphoric🦇', 'euphoric techno', 'euphoric palpitations ', 'euphoric 💙', 'euphoric drive', 'euphoric vibes', 'euphoric hardstyle🎶🔥', 'euphoric hardcore', 'euphoric asshats ', '23 euphoric', 'melodic & euphoric', 'euphoricvibes', 'euphoric tunes', 'litty titty euphoric edm', 'euphoric☁️', 'the euphoric playlist', 'euphoric 🦄💟', 'happy, euphoric ', 'euphoriceuphoria.', 'euphoric partying', 'euphoric feelings ', 'euphoric 🧚🏻\\u200d♀️', 'euphoric hysteria ', '⭐️euphoric⭐️']\n",
      "dynamic ['dynamic yoga flows 🤸🏼\\u200d♀️', 'dynamic rehab center', 'dynamic duo!', 'dynamic duo 💗', 'dynamic unit', 'dynamic morning', 'dynamic', 'the dynamic trio', 'dynamics', 'dynamic duo', 'dynamic_terra', 'dynamic sleep', 'dynamic music', 'dynamic piano', 'sun and moon dynamic ☼☽', 'dynamic duo😝', 'dynamic duo ', 'dynamic rock playlist', 'dynamic tríos 👌💯', 'dynamic yoga', 'dynamic slatts pt3', 'dynamic yoga beats', 'dynamic slattt$$', 'dynamic pilates ', 'dynamic instrumental music ', 'dynamic classical music for work', 'dynamic slatt$$$ 3.5 (donkey fart, gtb tezz, davi_dynamic)', 'dynamic  team 🔥💃', 'dynamic slatt$$$ pt2']\n",
      "high energy ['high energy workout mix', 'high energy edm | dance | workout', 'clean workout- high energy', 'high energy music 2023', 'divine feminine energy 🧿', 'high energy rap hype 🔥 hiphop workout', 'energy cleanse', 'high energy hiphop', 'high energy pop hits', 'high energy indie rock ', 'high energy dance music', 'patrick miller (high energy)', 'caffeine flow // high energy focus music for studying, reading, coding, writing, working', 'high energy jazz', 'workout 2023 🔥 exercise music 🔥 best dance music 🔥 best dance pop 🔥 high energy 🔥 cardio 🔥', 'high energy pop mix', 'the most hype rap songs ever 🔥🔥', 'high energy cardio dance workout mix', 'high energy christian workout music', 'higher energy music x fall4mour', 'hype high energy mix', 'energy booster: latin', 'high energy mix', 'high vibrational energy', 'rock me up', 'high energy focus instrumental', 'high energy dance mix', 'disco high energy', '♨️ office energy 2023 ♨️ work music ♨️ high energy ♨️', '80s high energy disco mix', 'high energy 80s', 'techno workout', 'high energy 80s songs', 'high energyyyyy', 'high energy worship music', 'high energy taylor swift', 'high energy metal mix', 'euphoric energy', 'high energy rock mix', 'gym beats', 'high energy😎']\n",
      "soft ['gentle', 'soft morning', 'soft instrumental', 'slow soft music to fall asleep to 😴', 'softball pregame 2022‼️', 'soft rock greatest hits', 'soft instrumental jazz', 'soft girl era🧘🏽\\u200d♀️💕\\U0001faf6🏽', 'soft 00s', 'bts soft playlist, all soft songs', 'soft rnb 🧸🤍🏹', 'soft jazz (study)', 'soft rock drive', 'soft 60s', 'soft jazz', 'soft 90s', 'softcore vibes - the neighbourhood ', 'softly', 'soft 10s', 'peaceful pop', 'soft love song mix', 'soft indie mix', '🥎softball hype🥎(clean)', 'soft rock classics', 'soft 50s', 'soft rock', 'soft & slow', 'soft christian instrumental music', 'soft music to read to', '80s soft rock', 'softball walk ups(100% clean)', 'sanfter pop', 'soft pop mix', '70s soft rock', 'soft rock songs 70s 80s 90s ever', 'soft pop hits', 'soft pop']\n",
      "pumped ['pumped up music 😎🔥😈', 'best hockey songs to stay pumped up!  (clean)', 'pumped up christian music ', 'pumped up gym workout songs', 'pumped', 'pumped up country', 'pump up mix', 'pumped up 80s jams for the gym', 'pumped up 😈💪🏼', 'pumped up kicks type beat', 'pumped up hits', 'date night - get pumped', 'pumped up workout mix', 'get pumped the fuck up 😤', 'pumped up rap ⛓🦍💯', 'pumped up edm', 'music to get me pumped upppppp', 'pumped up songs', 'pump it up ', 'pumped up for the pump', 'barça matchday: el clásico', 'pumped up songs clean🥎🏀💪', 'pumped pop', 'pumped workout music']\n",
      "ecstasy ['ecstasy, pa vectrex musik', 'ecstasy', 'ecstasy 🦋', 'ecstasytunes', ' ecstasy', 'ecstasy nights', 'ecstasy ', 'songs of ecstasy', 'feels like ecstasy ', 'ecstasy 🎧', 'emitting ecstasy ', 'ecstasy \\U0001fae7🔮', '“ecstasy”']\n",
      "frustrated ['let the frustration out‼️', 'frustrated ', 'silent rage and frustration ', 'frustrated/focused', 'frustrated', 'frustrated screams', 'songs to play when you’re annoyed <3', 'upset mix', 'pov: you’re sexually frustrated', 'annoyed by people', 'confused crying frustrated throwing up  ', 'frustrated sad mix', 'frustrated mix', 'frustrated love mix', 'mental breakdown but in a frustrated way!', 'angry mix', 'i’m frustrated crying', 'angry n frustrated crying', 'frustrated crying ', '\"i\\'m frustrated and it\\'s sexually\"']\n",
      "death metal ['screaming death metal', 'death metal classics', 'death metal', \"death metal [90's classic death metal]\", 'brutal death metal', 'death metal old school', 'black metal 𖤐', 'death metal fury', 'death metal top 100', 'death metal/grindcore/black metal/doom death ++', 'black metal classics', 'death metal gym shit😈😈', 'death metal old school (1990-2000)', 'death metal up your ass!', 'death metal dubstep mix', 'metal mix', 'true black metal mix', 'thrash metal mix', '(black) metal', 'death metal 💯', 'death metal & beyond', 'death metal annihilation & beyond', 'death metal workout', 'extreme metal', 'death metal: um guia para começar a ouvir o estilo']\n",
      "depress ['anti-depressivo', 'anti-depressivo⚡️🎧', 'depression at 3 am', 'sad lofi beats to cry and sleep - depressing times', 'i’m depressed but not the “all i want” depressed i’m “how to never stop being sad” depressed', 'canzoni depresse✨🧸💔', 'dépression française 💔💔 | rupture 2023', 'depressed country music ', 'depressing songs', 'mtg  anti-depressão😵\\u200d💫😵\\u200d💫 ', 'suicidal country', 'playlist dépressive 😭', 'depressive breakcore>>>', 'tiktok depressed songs', 'depression slowly killing me', 'depression songs', 'depression session ', 'slow sad songs for 3am depression', 'songs about depression & anxiety', 'alone & depressed', 'depressed but angry depressed', 'depressing country music', 'depressing songs for depressed people', 'sad music for crying hours and depressing times', 'incomplete & depressed ', 'sad songs for my depression 💔', 'depressing gym music🏋️\\u200d♀️', 'depression', 'depressed songs 2023 😢for depressing times', 'depressed songs for the boys', 'songs about suicide and depression ', 'músicas para depressão', 'depressed cowboy shit', 'anti depressivo', 'depressed fr', 'musica depressa. ❤', 'depressed rap songs😭', 'depression playlist (listen to when you feel sad or upset)', 'side effects', 'depressing songs that make me cry', 'depressed.', 'dark sad mix', 'canzoni depresse inglesi 🖤🎶', 'depresso espresso ☕️', 'depressing songs for the boys 😭 😭 😭 ']\n",
      "adrenaline ['an adrenaline rush in a playlist  ', 'adrenaline rush at 4 am', 'adrenaline rush😈', 'adrenaline pumping workout music', 'adrenaline rush😤', 'adrenaline songs', 'adrenaline pump📢', 'adrenaline mix', 'adrenaline boost ', 'adrenaline rush actually', 'nitroboost', 'adrenaline hip hop / rap', 'adrenaline workout', 'adrenaline boost', 'hardstyle adrenaline! 2023', 'adrenaline junkie']\n",
      "despair ['despairinyoureyesss', 'despair', 'endless despair', 'l̶o̶v̶e̶ ̶i̶s̶ ̶t̶h̶e̶ ̶m̶o̶s̶t̶ ̶t̶w̶i̶s̶t̶e̶d̶ ̶c̶u̶r̶s̶e̶ ̶o̶f̶ ̶a̶l̶l̶', 'despair🥱', 'songs of despair ', 'sociological despair', 'despair loop', 'despair.', 'phoebe bridgers complete collection of despair', 'dark sad mix', '~✨existential despair✨~', 'pride from despair', 'cause its not romantic i swear', 'dnd - despair | rpg fantasy music | tabletop d&d series']\n",
      "relax ['ambient relaxation', 'relaxing jazz piano', 'read and unwind', 'relaxing music for kids', 'relaxing dog music 🐶 calm your dogs', 'relaxing playlist', 'jazz relax', 'relaxing piano covers ', 'relax in the bath', 'relaxing music', 'deep house relax', 'relaxing beethoven', 'relax & unwind', 'relax', 'relaxing chopin', 'relaxing classical guitar', 'relaxing massage', 'relaxing songs😌', 'relaxing bach', 'peaceful piano', 'hanging out & relaxing', 'skyrim relaxing ambience', 'relaxing ragas', 'relax en casa', 'relaxing spanish guitar', 'relaxing guitar covers', 'calming classical', 'songs like relax my eyes', 'calming jazz', 'spa relaxing music 2023', 'relax & chill 2023 🌴', 'nature relaxation', 'relaxing rap music 💆\\u200d♂️', 'relaxing christian music', 'relaxing classical', 'chilled pop hits', 'relaxing piano music 😌', 'relaxing music.', 'relax en tu cuarto', 'relaxing shower vibes', 'relax 💆🏻\\u200d♀️', 'relax & be', 'calm music 2023 😌💖', 'relaxing mix']\n",
      "happy ['happy classical music', 'happy drive', 'happy love songs', 'chill happy mix', 'happy days', 'calm happy songs', 'happy upbeat vibes', 'happy 80s', 'happy - kanye west ft. future', \"children's songs 😊 happy kids music\", 'happy folk', 'happy oye!', 'happy songs everyone knows 😄 🙌', 'happy dance', 'happy hour', 'happy vibes only 😋', 'happy vibes 2023 ☀️', 'happy rainy day🌧🌈', 'happy songs ☺ (80s, 90s, 2000s, 2010s & 2020s)  ☺ best happy mood ', 'happy morning instrumentals', 'happy favorites', 'happy country mix', 'clean happy office music', 'wake up happy ☀️ good morning ', 'happy pop hits', 'happy tunes', 'feel good piano', 'happy hits!', 'feel good classical', 'feel good happy mix', 'happy indie mix', 'happy beats', 'happy vibes ', 'happy diathesi ', 'happy vibes🦋', 'happy morning mix', 'oh happy day!  ~ウェディング・ソング~', 'happy mix', 'happy jazz!', 'wake up happy', 'happy walking mix', 'happy birthday', 'light & happy classical music', 'happy pop', 'happy morning / feel good']\n",
      "calm ['keep calm', 'calming baby music', 'calming acoustic', 'atmospheric piano', 'calming music for anxiety / stress / hsp (instrumentals)', 'calming music | no lyrics', 'calm music🧚🏻\\u200d♀️', 'calm celtic harp', 'soft mix', 'calming sleep music ', 'calm taylor :)', 'calm', 'calm vibes', 'calming instrumental covers', 'calm classroom music', 'calm taylor swift', 'selena gomez - calm down', 'harry potter calm ambient mix', 'healing sleep frequencies 🌕 calming music 2023', 'calm kids', 'calm & focused', 'calm down', 'calming ༉‧₊˚✧', 'calming christian', 'calm toddler room ', 'calm before the storm', 'calm baby', 'dogs pet calming mix', 'calm disney', 'calm classroom playlist', 'calm pop mix', 'afrobeats mix', 'calm down remix- rema & selena gomez', 'calm morning mix', 'calm and collective ', 'calm shower mix', 'calming music with words 2022']\n",
      "hard ['hard', 'hardstyle 😡💪💪', 'hardest $uicideboy$ songs ', 'rap workout to go hard to', 'hard rock training/workout', 'hard rock & heavy metal ', 'hardstyle bangers', 'hardest rap songs ', 'hard bop classics', \"hard rockin' country\", 'insane pump up songs', 'hard rock /metal', '’80s hard rock', 'gym hardstyle 2023 💪', 'this that murda music‼️🗣️', 'this that murda music💯💯', 'hardstyle adrenaline! 2023', 'hardstyle tren twins', 'classic hardcore', 'hardstyle remix of popular songs ', 'hardest babytron tracks 🤐😵\\u200d💫😈', 'hard techno 2023', 'hard rock classics', 'hardstyle mix', 'hardcore rock mix', 'hardy and morgan wallen', 'hardy radio', 'hard hitters', 'hardcore mix', 'hard rock', 'party hard', '🔥hardest bass drops 2023', 'hardstyle remixes', 'anime gym hardstyle 🔥', 'hardy: the complete collection']\n",
      "peaceful ['peaceful songs ', 'peaceful retreat', 'calm', 'peaceful meditation', 'peaceful piano', 'piano in the background', 'peaceful\\U0001faac.', 'peaceful guitar', 'peaceful jazz piano', 'atmospheric piano', 'calming classical', 'slow/peaceful songs ', 'peaceful mix']\n",
      "lively ['lively celtic/irish instrumental', 'lovely hindi songs', 'lively hindi songs', 'lively music', 'lovely day – bill withers', 'lovely day', 'lively instrumentals', 'lovely 🥰 punjabi 😘 songs 😍', 'lovely songs (hindi)', 'lovely.', 'lovely classical music', 'lovely', 'lively songs', 'lively morning mix', 'lively classical music', 'the lovely little playlist', 'instrumental lively mix', 'lovely gym playlist 💀', 'feel good classical', 'lively praise and worship songs', 'lively jazz', 'its gonna be a lovely day', 'lively worship songs', 'lively praise & worship', 'lively pop mix', 'lovely lady may', 'lively bollywood ', 'lively rock mix', 'lively tavern music', 'lovely piano music', 'lovely french songs', 'lively jazz mix', 'lovely day radio', 'lively country  music', 'lively jazz (instrumental)', 'lovely tamil songs', 'lovely day for a riot', 'lovely day playlist ', 'lovely lofi ❤️ - romantic & relaxing beats', 'lively jazzy piano', \"billie - isn't it lovely\", 'lovely x kitna bechain hoke tumse mila']\n",
      "chilling ['chilling adventures of sabrina - soundtrack seasons 1 - 4', 'chilling🪐🏝', 'chilling & cleaning', 'chilling in my room at 3am :]', 'vibing in my room late at night', 'chillings ', 'chilling in my room 🌝', 'chilling 👽', 'chilling love', 'chilling mix', 'sabrina spellman’s playlist', 'chilling in my room', 'chilling de', 'chilling bombing', 'chilling', 'chillin in my room 💋', 'chillige bässe', \"chillin' in the name of\", \"chillin' on a dirt road\"]\n",
      "heavy sad ['non-sad/less heavy ', 'heavy stone make sad brain voice quiet 💪😤', 'the sad boi soundtrack', 'my ~sad~ lofi instrumentals', 'lift heavy rock keeps sad voice away', '⚠️really sad songs⚠️', 'sad songs about suicide, self harm, and heartbreak', 'heavy and angry and sad', 'lifting heavy circles 🤝sad voices gone ', 'heavy metal broke my heart//sad', 'i lift heavy weight so i dont feel sad', 'sad demon shits (gym)', 'heavy sadness vibe ii', 'heavy sadness', 'sad n heavy', 'heavy rap gym playlist ', 'small body, heavy soul', 'instrumental guitar popular covers', 'sad/heavy music :)', 'sad heavy metal', 'sád//heavy depression ', 'heavy sad songs', 'heavy sad', 'sad (bass heavy)']\n",
      "happiest ['happiest king', 'happiest songs in the world', 'happiest place on earth', 'happiest ', 'heardle rewind', 'happiest songs of all time', 'world’s happiest playlist', 'happiest songs ever', '100 happiest songs from the 60s, 70s, 80s, 90s, 2ks', 'happiest songs', 'thankyou for the happiest year of my life', \"you're the headliner\", \"greatest hits radio - top 300: uk's happiest songs\", 'the happiest songs of all time', 'the happiest girl c&e x you never know 5 hrs', 'top 50 happiest songs', 'happiest baby', 'wedding party', 'the happiest girl - blackpink', 'best year yet']\n",
      "blissful ['blissful bollywood🥰 #2', 'blissful pleaser', 'blissful undertones', 'blissful ignorance.', 'dreampop', 'blissful lies', 'blissful existence', 'blissful mornings ', 'blissfully happy 🌅🌸🤗', 'blissfully happy ', 'meditate by the ocean', 'peaceful sleep', 'blissful', 'blissful beach days', 'blissful soul', 'blissful chill']\n",
      "mosh pit ['mosh pit', 'rock/metal mosh pit', 'emo’s not dead', 'towers mosh pit', 'mosh pit. mosh pit.', 'the mosh pit', 'music mosh pit', 'punk mosh pit', 'mosh pit ', 'moshpit music🤬(hype songs)', 'mosh mix', 'mosh pit monday!!! 💀🔥', 'mosh pit rap', 'mosh pit music', 'raveyard (hard dance mosh pit)', 'mosh pits ']\n",
      "crying ['lekker huilen/crying😓❣️', 'crying songs - crying playlist - sad music 2022', 'crying hours 😪 (tamil) ', \"who's crying now\", 'crying on the bathroom floor at 3am ', 'llorando en el club 🥲', 'crying in the gym', 'screaming, crying, taylor swift', 'screaming crying and throwing up', 'men moaning whimpering and crying', 'calm star wars for study (or crying)', 'crying in the car by yourself', \"เธรดรวมเพลงเศร้า - it's 3am and you're crying.\", 'classics for crying', 'crying over my body, calories or whatever my eating disorder wants', 'screaming, crying, throwing up', 'crying in the shower with my thoughts', \"pov:you're broken on the floor and you are crying, crying\", 'crying on my birthday.', 'sad songs for girls ❤️ (crying music and depressing music)', 'idk.', \"don't you feel like crying\", 'slipping through my fingers type of crying', 'most gut-wrenching, screaming, crying songs', 'sad songs for crying hours  💔', 'crying myself to sleep☆', 'crying at 2:08am staring at a wall wondering what i did wrong ', 'screaming, crying, sliding down the wall', 'crying on the dance floor', 'crying so hard rn', 'pov: you’re angry crying or sad screaming ', 'crying over a boy who doesn’t love you back ', 'zach bryan crying edition ', 'crying', 'crying but in hindi songs', 'songs to make your tears fall out over that boy/girl you’re crying about', 'crying because i’m a failure', \"i'm not crying. you are.\", 'crying over a boy who talks to 12 other girls the exact same way that he talks to me', 'crying mix']\n",
      "chill ['chill for awhile', 'chill music 2023 ✨ calm aesthetic vibes', 'chill songs everyone knows 🌙 relaxing music', 'chillhop radio 🐾 jazz/lofi hip hop beats to study/relax to | study music | chillhop music 2023', 'late night drives🏎️🍃', 'chill lofi study beats', 'chill  vibes 2023 🌙', 'chill rap songs 2023 😴🍃', 'chill out covers', 'chill out music', 'chillout classics', 'chill rainy day mix', 'chill r&b mix', 'chill beats 💙 groove, relax', 'smooth jazz chill', 'chill station', '| chill |', 'chill house 2023', 'chillhop', 'chillstep 2023', 'chill out jazz', 'chill tracks', 'chill r&b 🥰💫', 'chill mode: on', 'chill latino', 'chill covers', 'chilled dance hits', 'chill total', 'chill rock mix', 'chill mix', 'chill vibes', \"chillin' on a dirt road\", 'chill pop', 'chill indie mix', 'chillout lounge', 'chilled classical', 'chill hip hop mix', 'chill hits', 'chillhop essentials spring 2023', 'chilled classical covers', 'chill', 'chill gaming', 'chill rap mix']\n",
      "beach ['beach country', 'beach music 2023', 'beach playlist 2023 🌴 ', 'breezy acoustic', 'beach', 'beach vibes', 'beach playlist/good vibes 🏝 ', 'beach reggae mix', 'beach sunsets', 'beach house | summer vibes 2023', 'the beach boys radio', 'beach music 2023 🌴 summer vibes', 'classic beach music', 'beach songs everyone knows 🏄\\u200d♂', 'surf rock sunshine', 'beach mix']\n",
      "mellow ['mellow rock classics', 'mellow rap mix', 'mellow evening vibes🌻', 'mellow workout vibes ', 'mellow music 2022', 'soft 80s', 'lowkey', 'mellow drive', 'mellow beats', 'mellow house', \"mellow '70s gold\", 'mellow 80s gold', 'mellow rap 😌', 'mellow morning', 'mellow classics drive', 'mellow gold mix', 'soft 70s', \"mellow '90s gold\", 'mellow bars', 'mellow rock mix', 'mellow r&b mix', 'mellow classic rock', 'mellow lofi morning', 'indie mellow', 'mellow favourites', 'mellow 🧘🏻\\u200d♀️🪴', 'mellow songs that feel like quicksand ', 'bedroom pop', 'mellow mood', 'mellow & folk', 'mellow evening', 'your favorite coffeehouse', 'neo mellow mix', 'mellow classics', 'mellow hip hop mix', 'mellow pop', 'mellow cello', 'mellow meowsic', 'mellow mix', 'chill jazz vibes 🎷 mellow jazz beats & jazzhop', 'mellow bars - chill r&b - urban pop - nu retro - alternative - mixtape']\n",
      "positive ['morning music |  good vibes music | positive feelings | coffee music |', 'uplifting positive songs', 'positive affirmations (10 hours)', 'meditation music for positive energy ✨', 'good mornings - happily positive music to start the day', 'positive uplifting rap vibes', 'rise', \"feelin' good\", 'meditative state of mind', 'positive affirmations songs ', 'positive music for the office (mixed genres)', 'positive affirmation rap ', 'negative space', 'positive vibes tamil', '528hz positive transformation ✨', 'kids upbeat positive music', '🌼 happy songs // positive vibes', 'positive music hip hop mix', 'positive vibes only', 'positive upbeat christian', 'positive instrumentals | uplifting, morning music, warm & cheerful', 'positive focus', 'positive music morning mix', '528 hz positive energy', 'body positive kids', 'morning meditation | positive energy music', 'positive💜', 'body positive mix', 'positive morning vibrations', '✨positive affirmations playlist ✨', 'good vibes 2023 🌞 happy mood', 'positive upbeat mix', 'positive mix', 'positive pop mix', 'positive music 2023', 'positive workout mix', 'motivation positive morning mix', 'positive vibes', 'positive music mix', 'stay positive xd']\n",
      "most depressing ['most depressing songs recorded \\U0001faf6🏻', 'painful, depressing, and mostly country', 'mostly depressing folk, country', 'mostly depressing ', 'mostly depressing 🙌🏽', 'bobs most depressing stuff🐔🐽', 'most depressing songs for depressed people', 'mostly depressing', 'mcr’s entire discography in the order of most danceable to most depressing', 'the most depressing playlist ', 'most depressing girly playlist', '🎵 most emotional, depressing & tragic attack on titan soundtracks | ost playlist 🎵', 'only the most depressing songs', 'depressing in the most fantabulous way', 'most depressing taylor swift songs: a letter to bad days', 'the most depressing albums of all time', 'most depressing songs 😭', 'most depressing juice wrld songs', 'the most depressing music i’m aware of currently ', 'the most depressing lana songs! 😃 ', 'mcr’s entire discography from most danceable to most depressing', 'most depressing songs to ever exist', 'most depressing radiohead songs', 'the most depressing songs ever recorded', 'the most depressing playlist you’ll probably ever listen to, but also made with love']\n",
      "chilled ['lazy chill afternoon', ' chilled cow archive', 'chilled restaurant vibes', 'chilled cow - chilledcow - lofi girl - lofi hip hop music - beats to relax/study to...\\t\\t\\t\\t\\t\\t\\t\\t', 'chilled r&b', 'chilled 80s', 'chill + atmospheric', 'study lofi 📚', 'dance chill', 'chill folk', 'chilled jazz', 'chilled 00s', 'chill rock', 'chilled hits', 'chilled reggae', 'chilled indie', 'chilled drum & bass', 'medieval tavern music', 'chilled focus', 'chillhop music 2023', 'chill vibes', 'chilled classics']\n",
      "joyous ['joyous rock mix', 'joyeux anniversaire !', 'joyous celebration hlala nami', 'joyous 70s mix', 'i saw photo you look joyous', 'joyous classical mix', 'joyous celebration 18', 'forever joyous', 'joyous 4']\n",
      "aggressive ['murder rap 💯', 'aggressive edm', 'aggressive phonk', 'killer phonk ¤ aggressive phonk ¤ gym', 'aggressive kpop ', 'trap workout / aggressive bass', 'aggressive trap mix', 'aggressive mix', 'aggressive phonk 😈🩸', 'aggressive youngboy ', 'phonk music 2023 🔥 aggressive drift phonk | magic phonk', 'agressive rap & drill', 'rage phonk // aggressive dark phonk', 'angry / aggressive heavy metal (gym/lifting/workout)', 'loud angry rap 🔇🔇', 'gym phonk 2023 😈 aggressive workout phonk music', 'aggressive korean rap', 'aggressive love songs', 'nbayoungboy (aggressive) 💚', 'aggressive phonk 😈', '👹 aggressive music 👹', 'aggressively running to taylor swift', 'aggressive // trap metal // scream rap // demon // .wav', '😈agressive rap😈', 'hardest ny drill', 'badass 😡 aggressive mix', 'gym phonk  🔱 aggressive', 'loud aggressive rap music', 'aggressive metal mix', 'phonk music 2023 💀 aggressive drift phonk ', 'aggressive drill', 'aggressive rap mix', 'aggressively sapphic pop bops', 'the aggressive workout mix', 'aggressive gaming phonks.', 'aggressive classical music for very specific scenarios ', 'aggressive classical', '👺😡aggressive nba young boy💯🤬', 'aggressive heavy metal mix', 'aggressive jazz', 'aggressive ', 'hype', 'aggressive hindi music', 'slash playlist 1', 'king von | aggressive 😤', 'aggressive inline (ps2)', 'aggressive workout mix', 'nba yb aggressive ', 'aggressive country music🤬']\n",
      "melancholy ['melancholy ', 'melancholy lofi', 'melancholy folk mix', 'melancholy gamer 😔 sad lofi', 'melancholy instrumentals', 'melantronic', 'melancholy rap mix', 'melancholy mix', 'melancholy sleep music', 'melancholic solitude ', 'melancholy classical music for walking around the garden while its raining', 'melancholy sad classical mix', 'melancholy instrumental mix', 'love melancholy mix', 'melancholy sad mix']\n",
      "hurt ['hurts hindi songs', '💔😫hurting🖤🤕', 'hurt country', 'hurts me too', 'hurt new jeans vibes<3', 'hurt - new jeans vibe', 'who hurt u?', 'hurting 💔', 'hurt covers', '💔hurt💔', 'hurt me and tell me “you’re mine”', 'hurt me so good', 'hurts when i remember and i never want to feel it again~', 'i’m hurting inside 💔']\n",
      "grief ['songs about death, loss and grief - folk, indie & pop', 'grief garden', '💔christian hope after grief 💔', 'grief playlist', 'the grief playlist', 'grief songs🕊❤️\\u200d🩹', 'songs for grief & loss', 'grief, lament, and hope', 'overdosing on grief.', 'memorial songs/songs for grief', 'baby loss & grief', 'country mourning/grief songs', 'grief.', 'the mourning of a loss', 'coping with loss', 'moving away from home but make it the 7 stages of grief', 'reflection', 'songs for loss and grief ', 'grieving the passing of a loved one', 'best friend breakups as told by the 5 stages of grief', 'songs about grief and death', 'the angry stage of grief', 'carina deluca grief']\n",
      "angriest ['world’s angriest white boy', 'angriest rap', 'my angriest rap music', 'angriest workout', 'angriest music', 'angriest songs ever ', 'angriest most pissed off metal songs', 'probably the angriest gym playlist', 'angriest workout playlist on planet earth', 'angriest metal', 'angriest girl music of all time', 'angriest', 'the angriest playlist ', '20 of the angriest songs ever made', 'angriest creature ', 'odium nervous angriest badness fukdaxit', \"fiona apple but it's the most relatable songs (the angriest and the saddest)\", 'the angriest playlist', 'the worlds angriest playlist', 'angriest music i have', 'angry mix', 'gettin over him (angriest)', 'angriest playlist']\n",
      "sunday ['sunday funday', 'sunday morning jazz', 'sunday brunch', 'sunday lds hymns', 'sunday morning - paris cafe', 'sunday chill  ☕ morning playlist', 'sunday set list', 'sunday morning worship', 'sunday reset', 'sunday sessions', 'lazy jazzy sunday', 'sunday morning easy listening mix', 'sunday 2023 🌞 ☕️', 'sunday morning mix', 'lazy sunday', 'sunday evening chill', 'sunday mood']\n",
      "heavy ['heavy shoegaze', 'heavy 🔥', 'gym music - heavy lifting💪', 'heavy lifts & perreo ', 'heavy shoegaze/post-shoegaze', 'brutal death metal', 'heavy rain sounds (10+ hours) rainstorm sounds for sleeping, relaxing, insomnia, stress relief', 'blood, shred & tears', 'edm heavy bass', 'heavy metal', 'heavy gamers', 'heavy metal classics', 'metal mix', 'aggressive heavy metal mix', 'heavy workout metal mix', 'heavy bass for the car', 'heavy rock mix', 'hard rock /metal']\n",
      "unhappy ['unhappy club', 'unhappy mix', 'unhappy', 'unhappy men', 'stages of our unhappy relationship ', 'unhappy 😮\\u200d💨', 'unhappy ', 'unhappy ending.', \"pov: you're an unhappy muse on mount parnassus\", 'happily unhappy ', 'extremely unhappy', 'unhappy ending', 'unhappy hour😭❤️\\u200d🩹', 'teef is unhappy', 'unhappy [refrain]', 'unhappy love💔', 'what falling out of love feels like', \"maría isabel - i hope you're very unhappy without me\", 'melanie martinez (unreleased and released songs)', 'songs for when your sad, mad, and overall unhappy ', 'unhappy hour ', 'im unhappy', 'upbeat/unhappy', 'unhappy refrain', 'wowaka', 'all melanie martinez♡unreleased and released ']\n",
      "ecstatic ['ecstatic dance / 5 rhythms', 'ecstatic dance by desert dwellers', 'ecstatic dance • free your body', 'ecstatic', 'ecstatic dance - 🌞🌜🌝🌛', 'ecstatic dance', 'ecstatic rock', 'ecstatic dance - tribal']\n",
      "mournful ['mournful road-trip ', 'mournful music 🎶', 'mournful-playlist', 'sad piano', 'mournful', 'mournful melo', 'moon and mournful', 'mournful melancholy ', 'mournful ballads', 'mournful end', 'mournful acoustic', 'gorgeous and mournful', 'sad instrumentals: from moody to mournful', 'mournful, melancholic & moody strings', 'mournful instrumental', 'mournful tunes', 'mournful classical', 'mournful instrumentals', 'playlist for mournful minds']\n",
      "angry ['angry ass music for lifting heavy ass weights 😈😈😈', 'xxx angry lift', 'rage gym 👹', 'abcdefu 🖕🏻 angry breakup songs', 'angry bitch music', 'pov: ur sadness turned to anger', 'angry fucking metal', 'angry rap mix', 'angry workout mix', 'angry running mix', 'youngboy angry 🤬', 'angry/sad vent songs', 'angry phonk', 'female rage but actual rage', 'angry girl workout playlist', 'angry', 'pissed off typa rap', 'unhinged female rage', 'angry.', 'angry woman', 'angry hard rock mix', 'angry incline sprints ', 'angry breakup mix', 'angry xxx🔥🔊👑', 'angry songs for angry girls ', 'angry eminem', 'angry woman playlist', 'angry sad mix', 'angry workout music 😡😤', 'rage mix', 'gym sends (angry)', 'villain mode', 'better than revenge (angry)', 'angry female rage', 'angry rock mix', 'loud angry music⛓🥀🔪', 'angry mix', 'hell hath no fury like a southern woman scorned', 'angry metal rock mix', 'angry taylor swift songs to scream to', 'angry taylor swift songs ']\n",
      "bliss ['k⭕️nke - deep house 🍸 20 hours of bliss', 'blissful', 'dreamy vibes', 'bliss nae 😭💖', 'bliss', 'chillhop', 'bliss (i am the light of my soul)', '😇blissful tamil songs💫', 'blissful beach days', 'bliss mix', 'coffee shop vibes ', 'blissful chill', 'written by blush', 'bliss ✨', \"smooth n' bliss\", 'blissful mind', 'blissful soul', 'bliss da ambi❗🦋', \"blissy's bangers\", 'bliss the musical: the official playlist']\n",
      "high octane ['soca workout 🏋🏽\\u200d♀️ ', 'high octane heroes', 'higher octane cruising', 'high octane', 'high octane tech house ', 'high octane!!', 'high octane radio', 'rocktane high octane rock', 'high octane  songs', 'high octane workout', '🏎️   high octane💨', 'high octane bangers', 'high octane racing', 'high octane gaming', 'high octane edm/rap/metal']\n",
      "tragic ['tragic music', 'slowburn angst romance', 'the tragic romance in a gothic castle - crimson peak', 'pov: the villain’s tragic love story', 'trágic error', 'the tragic hero turns into a villain', 'tragic classical', 'tragic love story dark academia vibes', 'tragic love story ', 'tragic character backstory ', \"pov you're the tragic hero\", 'tragic villain playlist']\n",
      "cheerful ['🌼✿good vibes only✿🌼', 'cheerful kpop songs', 'happy lofi music 2023', 'cheerful jazz mix', 'cheerful songs | feel good music 🙂', 'cheerful bollywood', 'cheerful instrumental', 'cheerful classical piano mix', 'cheerful songs to feel better', 'cheerful tamil songs :3', 'cheerful piano jazz', 'cheerful piano ', 'cheerful classical music', 'cheerful uplifting mix', 'cheerful morning mix', 'cheerful songs hindi', 'cheerful happy morning mix', 'cheerful lofi', 'cheerful indie mix', 'upbeat background instrumentals 🌼']\n",
      "contented ['contentedness', '🫒🐛contented extremity 🐛🫒', 'contented', \"just like the moon, i'm contented admiring you from afar.\"]\n",
      "sunny ['sunny 強い気持ち・強い愛 (songs from movie)', 'sunny beach/den glade viking', 'spring fling']\n",
      "anguished ['music for the anguished.', 'anguished', 'mil phonk ']\n",
      "anguish ['anguishhh', 'unhinged feminine anguish ', 'гуляю  anguish, exiled, elfass']\n"
     ]
    }
   ],
   "source": [
    "# a list of all queries\n",
    "querylist = list(df['query'].unique())\n",
    "\n",
    "# add a list of unique playlist names to each query key\n",
    "pl_dict = {}\n",
    "for query in querylist:\n",
    "    pl_dict[query] = list(df[\n",
    "        df['query']== query]['playlist_name'].unique())\n",
    "\n",
    "# print the query and playlist list for an overview\n",
    "for query in pl_dict.keys():\n",
    "    print(query, pl_dict[query])"
   ]
  },
  {
   "attachments": {},
   "cell_type": "markdown",
   "metadata": {},
   "source": [
    "Checking through the list and with a little deeper investigation via Spotify, we see a few examples that don't fit the mood of the query, but are not general enough to remove in bulk.  Let's remove some of these 'anomalies'"
   ]
  },
  {
   "cell_type": "code",
   "execution_count": 58,
   "metadata": {},
   "outputs": [
    {
     "name": "stdout",
     "output_type": "stream",
     "text": [
      "Lovely not lively: Removed 1414\n",
      "Heavy rain: Removed 172\n",
      "Anti-depression in depress: Removed 409\n",
      "Less heavy: Removed 366\n",
      "Sadar bahar: Removed 207\n",
      "Positive affirmations: Removed 261\n",
      "Negative query: Removed 3728\n",
      "Selena Gomez calm down: Removed 51\n",
      "Softball in soft: Removed 122\n",
      "Blackpink in happiest: Removed 17\n",
      "Dynamic: Removed 4437\n",
      "Euphoric destruction: Removed 228\n",
      "Sunny: Removed 115\n"
     ]
    }
   ],
   "source": [
    "rows_before = df.shape[0]\n",
    "\n",
    "# remove 'lovely' instead of 'lively' playlists\n",
    "df = df[\n",
    "    ~((df['playlist_name'].str.contains('lovely')) & (df['query']=='lively'))\n",
    "]\n",
    "\n",
    "rows_after = df.shape[0]\n",
    "print(f\"Lovely not lively: Removed {rows_before - rows_after}\")\n",
    "rows_before = rows_after\n",
    "\n",
    "# remove 'heavy rain' playlists\n",
    "df = df[\n",
    "    ~((df['playlist_name'].str.contains('heavy rain')))\n",
    "]\n",
    "\n",
    "rows_after = df.shape[0]\n",
    "print(f\"Heavy rain: Removed {rows_before - rows_after}\")\n",
    "rows_before = rows_after\n",
    "\n",
    "\n",
    "# # remove anti-depression playlists where query is 'depress'\n",
    "df = df[\n",
    "    ~(((df['playlist_name'].str.contains('anti-d')) | (df['playlist_name'].str.contains('anti d'))) & (df['query']=='depress'))\n",
    "]\n",
    "\n",
    "rows_after = df.shape[0]\n",
    "print(f\"Anti-depression in depress: Removed {rows_before - rows_after}\")\n",
    "rows_before = rows_after\n",
    "\n",
    "\n",
    "# # remove playlists that are referring to 'less' of the query e.g. 'less heavy'\n",
    "df = df[\n",
    "    ~(df['playlist_name'].str.contains('less'))\n",
    "]\n",
    "\n",
    "rows_after = df.shape[0]\n",
    "print(f\"Less heavy: Removed {rows_before - rows_after}\")\n",
    "rows_before = rows_after\n",
    "\n",
    "# remove 'sadar bahar' returned with 'sad'\n",
    "df = df[\n",
    "    ~((df['playlist_name'].str.contains('sadar bahar')) & (df['query']=='sad'))\n",
    "]\n",
    "\n",
    "rows_after = df.shape[0]\n",
    "print(f\"Sadar bahar: Removed {rows_before - rows_after}\")\n",
    "rows_before = rows_after\n",
    "\n",
    "\n",
    "# remove playlists that are 'positive affirmations' from 'positive' query\n",
    "df = df[\n",
    "    ~((df['playlist_name'].str.contains('positive affirmation')) & (df['query']=='positive'))\n",
    "]\n",
    "\n",
    "rows_after = df.shape[0]\n",
    "print(f\"Positive affirmations: Removed {rows_before - rows_after}\")\n",
    "rows_before = rows_after\n",
    "\n",
    "# remove playlists with 'negative' query as these generally don't fit the mood, e.g. negative space or negative rizz\n",
    "df = df[\n",
    "    ~(df['query']=='negative')\n",
    "]\n",
    "\n",
    "rows_after = df.shape[0]\n",
    "print(f\"Negative query: Removed {rows_before - rows_after}\")\n",
    "rows_before = rows_after\n",
    "\n",
    "# remove playlists with 'Selena Gomez - Calm Down' from 'calm' query\n",
    "df = df[\n",
    "    ~((df['playlist_name'].str.contains('selena gomez')) & (df['query']=='calm'))\n",
    "]\n",
    "\n",
    "rows_after = df.shape[0]\n",
    "print(f\"Selena Gomez calm down: Removed {rows_before - rows_after}\")\n",
    "rows_before = rows_after\n",
    "\n",
    "# remove 'softball' playlists from 'soft' query\n",
    "df = df[\n",
    "    ~((df['playlist_name'].str.contains('softball')) & (df['query']=='soft'))\n",
    "]\n",
    "\n",
    "rows_after = df.shape[0]\n",
    "print(f\"Softball in soft: Removed {rows_before - rows_after}\")\n",
    "rows_before = rows_after\n",
    "\n",
    "# remove 'Blackpink' playlists from 'happiest' query (they have a sad song called 'Happiest Girl')\n",
    "df = df[\n",
    "    ~((df['playlist_name'].str.contains('happiest girl')) & (df['query']=='happiest'))\n",
    "]\n",
    "\n",
    "rows_after = df.shape[0]\n",
    "print(f\"Blackpink in happiest: Removed {rows_before - rows_after}\")\n",
    "rows_before = rows_after\n",
    "\n",
    "# remove 'dynamic' playlists, which are generally unsuitable as a query\\\n",
    "#  e.g. 'dynamic duo' playlists named after the creators, or 'dynamic sleep' and 'dynamic yoga'\n",
    "df = df[\n",
    "    ~(df['query']=='dynamic')\n",
    "]\n",
    "\n",
    "rows_after = df.shape[0]\n",
    "print(f\"Dynamic: Removed {rows_before - rows_after}\")\n",
    "rows_before = rows_after\n",
    "\n",
    "# remove playlist 'euphoric destruction', which is a large 389 song playlist \\\n",
    "# that contains heavy metal, some of which is the opposite of happy \n",
    "df = df[\n",
    "    ~((df['playlist_name'].str.contains('destruction')) & (df['query']=='euphoric'))\n",
    "]\n",
    "\n",
    "rows_after = df.shape[0]\n",
    "print(f\"Euphoric destruction: Removed {rows_before - rows_after}\")\n",
    "rows_before = rows_after\n",
    "\n",
    "# remove 'sunny' query, as it has only returned songs from a movie or related to the location 'sunny beach'\n",
    "\n",
    "df = df[\n",
    "    ~(df['query']=='sunny')\n",
    "]\n",
    "\n",
    "rows_after = df.shape[0]\n",
    "print(f\"Sunny: Removed {rows_before - rows_after}\")\n",
    "rows_before = rows_after\n",
    "\n",
    "\n"
   ]
  },
  {
   "attachments": {},
   "cell_type": "markdown",
   "metadata": {},
   "source": [
    "Check for duplicates between opposite sides of the moodgrid, as this will be a good indicator of a bad playlist download.  For example if we have songs that are in a sad and a happy mood, then perhaps the playlist that the songs came from need to be investigated further.\n",
    "\n",
    "Start by splitting the dataframes into Happy+Sad and Energetic+Chilled\n"
   ]
  },
  {
   "cell_type": "code",
   "execution_count": 59,
   "metadata": {},
   "outputs": [],
   "source": [
    "df_HS = df[\n",
    "    (df['playlist_mood'] == 'happy') | ((df['playlist_mood'] == 'sad'))\n",
    "]\n",
    "\n",
    "df_EC = df[\n",
    "    (df['playlist_mood'] == 'energetic') | ((df['playlist_mood'] == 'chill'))\n",
    "]"
   ]
  },
  {
   "cell_type": "code",
   "execution_count": 60,
   "metadata": {},
   "outputs": [
    {
     "name": "stdout",
     "output_type": "stream",
     "text": [
      "There are 2610 duplicates between Happy and Sad\n"
     ]
    }
   ],
   "source": [
    "print(f\"There are {df_HS['track_id'].duplicated().sum()} duplicates between Happy and Sad\")"
   ]
  },
  {
   "cell_type": "code",
   "execution_count": 61,
   "metadata": {},
   "outputs": [
    {
     "name": "stdout",
     "output_type": "stream",
     "text": [
      "There are 1078 duplicates between Energetic and Chilled\n"
     ]
    }
   ],
   "source": [
    "print(f\"There are {df_EC['track_id'].duplicated().sum()} duplicates between Energetic and Chilled\")"
   ]
  },
  {
   "attachments": {},
   "cell_type": "markdown",
   "metadata": {},
   "source": [
    "Save all of the happy/sad duplicates to a new dataframe\n",
    "\n",
    "\n",
    "Do the same with energetic/chilled"
   ]
  },
  {
   "cell_type": "code",
   "execution_count": 62,
   "metadata": {},
   "outputs": [],
   "source": [
    "df_HS_duplicates = df_HS[\n",
    "    df_HS['track_id'].duplicated(False)\n",
    "]\n",
    "\n",
    "df_EC_duplicates = df_EC[\n",
    "    df_EC['track_id'].duplicated(False)\n",
    "]"
   ]
  },
  {
   "cell_type": "code",
   "execution_count": 63,
   "metadata": {},
   "outputs": [
    {
     "data": {
      "text/html": [
       "<div>\n",
       "<style scoped>\n",
       "    .dataframe tbody tr th:only-of-type {\n",
       "        vertical-align: middle;\n",
       "    }\n",
       "\n",
       "    .dataframe tbody tr th {\n",
       "        vertical-align: top;\n",
       "    }\n",
       "\n",
       "    .dataframe thead th {\n",
       "        text-align: right;\n",
       "    }\n",
       "</style>\n",
       "<table border=\"1\" class=\"dataframe\">\n",
       "  <thead>\n",
       "    <tr style=\"text-align: right;\">\n",
       "      <th></th>\n",
       "      <th>playlist_name</th>\n",
       "      <th>track_name</th>\n",
       "      <th>artists</th>\n",
       "    </tr>\n",
       "  </thead>\n",
       "  <tbody>\n",
       "    <tr>\n",
       "      <th>89192</th>\n",
       "      <td>canzoni depresse✨🧸💔</td>\n",
       "      <td>Io e Lei</td>\n",
       "      <td>Vago, Cifra149</td>\n",
       "    </tr>\n",
       "    <tr>\n",
       "      <th>44759</th>\n",
       "      <td>crying in the car by yourself</td>\n",
       "      <td>Mr. Perfectly Fine (Taylor’s Version) (From Th...</td>\n",
       "      <td>Taylor Swift</td>\n",
       "    </tr>\n",
       "    <tr>\n",
       "      <th>18027</th>\n",
       "      <td>sad rap vibes 2023</td>\n",
       "      <td>Real Shit (with benny blanco)</td>\n",
       "      <td>Juice WRLD, benny blanco</td>\n",
       "    </tr>\n",
       "    <tr>\n",
       "      <th>98063</th>\n",
       "      <td>happy drive</td>\n",
       "      <td>We Are Young (feat. Janelle Monáe)</td>\n",
       "      <td>fun., Janelle Monáe</td>\n",
       "    </tr>\n",
       "    <tr>\n",
       "      <th>30376</th>\n",
       "      <td>carefree</td>\n",
       "      <td>not my job anymore</td>\n",
       "      <td>Thomas Day</td>\n",
       "    </tr>\n",
       "  </tbody>\n",
       "</table>\n",
       "</div>"
      ],
      "text/plain": [
       "                       playlist_name  \\\n",
       "89192            canzoni depresse✨🧸💔   \n",
       "44759  crying in the car by yourself   \n",
       "18027             sad rap vibes 2023   \n",
       "98063                    happy drive   \n",
       "30376                       carefree   \n",
       "\n",
       "                                              track_name  \\\n",
       "89192                                           Io e Lei   \n",
       "44759  Mr. Perfectly Fine (Taylor’s Version) (From Th...   \n",
       "18027                      Real Shit (with benny blanco)   \n",
       "98063                 We Are Young (feat. Janelle Monáe)   \n",
       "30376                                 not my job anymore   \n",
       "\n",
       "                        artists  \n",
       "89192            Vago, Cifra149  \n",
       "44759              Taylor Swift  \n",
       "18027  Juice WRLD, benny blanco  \n",
       "98063       fun., Janelle Monáe  \n",
       "30376                Thomas Day  "
      ]
     },
     "execution_count": 63,
     "metadata": {},
     "output_type": "execute_result"
    }
   ],
   "source": [
    "df_HS_duplicates[['playlist_name', 'track_name', 'artists']].sample(5, random_state=1)"
   ]
  },
  {
   "cell_type": "code",
   "execution_count": 64,
   "metadata": {},
   "outputs": [
    {
     "data": {
      "text/html": [
       "<div>\n",
       "<style scoped>\n",
       "    .dataframe tbody tr th:only-of-type {\n",
       "        vertical-align: middle;\n",
       "    }\n",
       "\n",
       "    .dataframe tbody tr th {\n",
       "        vertical-align: top;\n",
       "    }\n",
       "\n",
       "    .dataframe thead th {\n",
       "        text-align: right;\n",
       "    }\n",
       "</style>\n",
       "<table border=\"1\" class=\"dataframe\">\n",
       "  <thead>\n",
       "    <tr style=\"text-align: right;\">\n",
       "      <th></th>\n",
       "      <th>playlist_name</th>\n",
       "      <th>track_name</th>\n",
       "      <th>artists</th>\n",
       "    </tr>\n",
       "  </thead>\n",
       "  <tbody>\n",
       "    <tr>\n",
       "      <th>112997</th>\n",
       "      <td>divine feminine energy 🧿</td>\n",
       "      <td>So It Goes</td>\n",
       "      <td>Mac Miller</td>\n",
       "    </tr>\n",
       "    <tr>\n",
       "      <th>95435</th>\n",
       "      <td>mellow rap 😌</td>\n",
       "      <td>Nasty Girl (feat. Diddy, Nelly, Jagged Edge &amp; ...</td>\n",
       "      <td>The Notorious B.I.G., Avery Storm, Diddy, Jagg...</td>\n",
       "    </tr>\n",
       "    <tr>\n",
       "      <th>64637</th>\n",
       "      <td>energy booster: hip-hop</td>\n",
       "      <td>Drip Too Hard (Lil Baby &amp; Gunna)</td>\n",
       "      <td>Lil Baby, Gunna</td>\n",
       "    </tr>\n",
       "    <tr>\n",
       "      <th>64415</th>\n",
       "      <td>high octane</td>\n",
       "      <td>L.A. Woman</td>\n",
       "      <td>The Doors</td>\n",
       "    </tr>\n",
       "    <tr>\n",
       "      <th>9820</th>\n",
       "      <td>chilled restaurant vibes</td>\n",
       "      <td>Stay</td>\n",
       "      <td>Zedd, Alessia Cara</td>\n",
       "    </tr>\n",
       "  </tbody>\n",
       "</table>\n",
       "</div>"
      ],
      "text/plain": [
       "                   playlist_name  \\\n",
       "112997  divine feminine energy 🧿   \n",
       "95435               mellow rap 😌   \n",
       "64637    energy booster: hip-hop   \n",
       "64415                high octane   \n",
       "9820    chilled restaurant vibes   \n",
       "\n",
       "                                               track_name  \\\n",
       "112997                                         So It Goes   \n",
       "95435   Nasty Girl (feat. Diddy, Nelly, Jagged Edge & ...   \n",
       "64637                    Drip Too Hard (Lil Baby & Gunna)   \n",
       "64415                                          L.A. Woman   \n",
       "9820                                                 Stay   \n",
       "\n",
       "                                                  artists  \n",
       "112997                                         Mac Miller  \n",
       "95435   The Notorious B.I.G., Avery Storm, Diddy, Jagg...  \n",
       "64637                                     Lil Baby, Gunna  \n",
       "64415                                           The Doors  \n",
       "9820                                   Zedd, Alessia Cara  "
      ]
     },
     "execution_count": 64,
     "metadata": {},
     "output_type": "execute_result"
    }
   ],
   "source": [
    "df_EC_duplicates[['playlist_name', 'track_name', 'artists']].sample(5, random_state=33)"
   ]
  },
  {
   "cell_type": "markdown",
   "metadata": {},
   "source": [
    "Investigating the duplicates we can see they are generally songs that could be quite subjective in their meaning and mood for different people.  Later we could investigate whether there are particular features of these songs that inform us about happiness and sadness, but for now we should drop songs with ambiguous feelings to give our model the best chance of predicting important features."
   ]
  },
  {
   "attachments": {},
   "cell_type": "markdown",
   "metadata": {},
   "source": [
    "Save the index of the duplicates and drop based on the index"
   ]
  },
  {
   "cell_type": "code",
   "execution_count": 65,
   "metadata": {},
   "outputs": [],
   "source": [
    "dup_index_HS = df_HS_duplicates.index\n",
    "dup_index_EC = df_EC_duplicates.index\n"
   ]
  },
  {
   "attachments": {},
   "cell_type": "markdown",
   "metadata": {},
   "source": [
    "Drop both versions of the duplicates, i.e. happy AND sad, as we want to exclude ambiguous songs"
   ]
  },
  {
   "cell_type": "code",
   "execution_count": 66,
   "metadata": {},
   "outputs": [
    {
     "name": "stdout",
     "output_type": "stream",
     "text": [
      "Dropped 5220 happy/sad duplicates\n",
      "Dropped 2156 energetic/chilled duplicates\n"
     ]
    }
   ],
   "source": [
    "rows_before = df.shape[0]\n",
    "df.drop(dup_index_HS, inplace=True)\n",
    "rows_after = df.shape[0]\n",
    "print(f\"Dropped {rows_before - rows_after} happy/sad duplicates\")\n",
    "\n",
    "rows_before = rows_after\n",
    "df.drop(dup_index_EC, inplace=True)\n",
    "rows_after = df.shape[0]\n",
    "print(f\"Dropped {rows_before - rows_after} energetic/chilled duplicates\")"
   ]
  },
  {
   "cell_type": "code",
   "execution_count": 67,
   "metadata": {},
   "outputs": [
    {
     "data": {
      "text/plain": [
       "happy        26982\n",
       "sad          26424\n",
       "chill        23306\n",
       "energetic    23085\n",
       "Name: playlist_mood, dtype: int64"
      ]
     },
     "execution_count": 67,
     "metadata": {},
     "output_type": "execute_result"
    }
   ],
   "source": [
    "df['playlist_mood'].value_counts()"
   ]
  },
  {
   "cell_type": "code",
   "execution_count": 68,
   "metadata": {},
   "outputs": [
    {
     "name": "stdout",
     "output_type": "stream",
     "text": [
      "sad ['sad 90s', 'lonely sad mix', 'depressing rap 😭', 'crying myself to sleep', 'sad', 'sad viral tik tok songs', 'overthinking🥀🖤', 'sad rock 🤘', 'sad hours: punjabi', 'sad songs for sad breakups', 'sad corridos♥️', 'sad hour', 'sad songs to cry your heart out to 😭💔', '#sadcuhhours 🥺', 'sad girl starter pack', 'sad songs 2023 😢 crying and depressing music', 'sad songs everyone knows', 'sad indie', 'bhojpuri sad song 😭😣', 'sad rap vibes 2023', 'sad sierreño', '💔😭sad songs for crying at 3am😭💔', 'sad tik tok songs 2023 / 2022', 'sad songs 🥺', 'sad girl country', 'sad country songs to cry to.', 'nf saddest songs ;(', 'sad soul', 'sad covers', 'sad spanish songs to cry in the corner of your room bebe', 'sad songs', 'sad 80s', 'slow sad songs to fall asleep to', 'sad lofi', 'sad classical', 'sad 00s', 'sad boi hours', 'sad song club', \"taylor swift but you're sad.\", 'sad crying mix', 'sadboy', 'sad instrumentals for sad nights', 'sad ?', 'sad songs for the boys 🍻💊', 'sad love song mix', 'moody sad mix', 'heartbroken sad mix']\n",
      "upbeat ['upbeat mix', 'upbeat christian songs 2023 ', 'upbeat indie folk', 'upbeat', 'upbeat pop hits 2022', 'dinner party upbeat mix', 'focus upbeat mix', 'workout pop upbeat mix', 'upbeat hiphop/rap ', 'energy booster: country', 'upbeat disney songs', 'upbeat jazz mix', 'upbeat classic rock', 'upbeat clean office music', 'upbeat lofi', 'upbeat clean songs😀', 'upbeat worship songs 2023', 'upbeat christian music playlist', 'upbeat jazz', 'upbeat country mix', 'feel good jazz', 'energetic upbeat lofi 🍉', 'upbeat edm gym hype', 'clean upbeat office playlist - updated weekly', 'upbeat oldies but goodies ', 'upbeat gospel music', 'school appropriate upbeat songs', 'upbeat kids worship', 'clean and upbeat kids playlist', 'christian pop upbeat mix', 'motivation workout upbeat mix', '🐴clean upbeat country🐴', 'upbeat background instrumentals 🌼', 'upbeat songs everyone knows ', 'energy booster: indie', \"upbeat 80's 🆕\", 'upbeat blues', 'yoga flow upbeat mix', 'upbeat indie pop ☀️', 'instrumental upbeat mix', 'running pop upbeat mix', 'happy dance upbeat mix', 'upbeat worship', 'upbeat yoga flow', 'morning upbeat mix', 'upbeat songs that everyone knows']\n",
      "easy [\"easy listening - classic's & oldies \", 'easy 90s', 'top easy listening songs', 'easy like sunday morning', 'easy listening soft rock', 'classic easy rock', 'totally stress free', 'easy listening mix', 'easy 60s', 'classic easy listening', 'easy mornings', 'easy listening instrumentals', 'easy jazz', 'easy rider', '1970s/80s easy listening', 'easy a soundtrack', 'easy 10s', 'free & easy', 'easy country 🧡', 'easy listening for work', 'easy', 'easy acoustic', '70s easy listening mix', 'r&b easy loving', 'sunday morning easy listening mix', 'easy classical', 'easy 70s', 'sunny day', 'easy 80s', 'chill easy', '80s easy listening', 'easy 00s', 'unwind 10s', 'unwind 00s', 'unwind 80s']\n",
      "screamo ['screamo', 'screaming music👿👹🖤', 'screaming the lyrics', 'screamo/post-hardcore/metalcore/emocore', 'screaming at the top of my lungs', 'heavy/screamo workout', 'screamo/emoviolence/skramz', 'screamo gym', 'screaming', 'screamo music', 'screamo edm', 'screaming gym hype🔥🔥🔥', 'screamo mix', 'love or hate emo rock', 'emo forever']\n",
      "energetic ['energetic morning 🐣☕️', 'energy booster: dance', 'energetic upbeat lofi 🍉', 'happy/energetic music', 'energy release', 'energetic focus', 'energetic/happy songs', 'no lyrics | energetic focus ⚡️', 'sfw: energetic office mix', 'energetic upbeat lofi ', 'energy booster: pop', 'kpop workout/energetic playlist💪🎵', 'energetic run', 'energy booster: r&b', 'energy booster: country', 'energy booster: hip-hop', 'energy booster: metal', 'energetic classical mix', 'energetic focus classical mix', 'energy booster: rock', 'motivation mix', 'morning energetic songs', 'energetic running (160-165 bpm)', 'energy booster: indie', 'energetic morning mix', 'energetic reflections', 'energetic study music ', 'energetic instrumental music mix', 'energy booster: k-pop', 'energetic jazz', 'energetic pop music playlist ⚡', 'energetic focus mix', 'energetic yoga flow', 'relax with energetica natura', 'energetic punjabi song', 'energetic bhajans', 'energetic indie rock mix', 'energetic rock mix', 'energetic mix', 'energetic jazz mix', 'energetic bhajan 🚩', 'energetic happy mix', 'energetic rap mix', 'energetic study', 'energetic', 'energetic worship', 'motivational + energetic']\n",
      "carefree ['carefree songs', 'carefree 🇮🇹', 'fun/carefree/dance', ' .carefreeliving', 'old youtube music (2005-2012)', 'kevin macleod bangers 💯', 'carefree mix', 'carefree🦋', 'carefree', \"70's love hits\", 'carefree white girls club', 'spring break', 'carefree alleycats flybaits headwind', 'backyard bbq', 'carefree ', 'carefree summer vibes', 'carefree summer']\n",
      "euphoric ['techno 2023 | euphoric techno top 100 | afterdark | down the rabbit hole by markus schulz', 'zyzz euphoric hardstyle ', 'euphoric hardstyle ', 'euphorically ascending', 'euphoric hardstyle', \"geo's euphoric tunes\", '♥️electronic/euphoric♥️', 'euphoric destiny', 'euphoric ', 'euphoric', 'euphoric superstars 🖤💙✨', 'euphoric 🌈', 'euphoric.', 'euphorick random songs playlist', 'euphoric songs ', 'alex eubank 🔱 euphoric workout • gym & aesthetics', 'euphoricbeatz', 'euphoric nostalgia', 'euphoric house', 'euphoric🦇', 'euphoric techno', 'euphoric palpitations ', 'euphoric 💙', 'euphoric drive', 'euphoric&nostalgic tunes', 'euphoric hardstyle🎶🔥', 'euphoric hardcore', '23 euphoric', 'melodic & euphoric', 'euphoricvibes', 'euphoric asshats ', 'euphoric tunes', 'litty titty euphoric edm', 'euphoric☁️', 'the euphoric playlist', 'euphoric 🦄💟', 'happy, euphoric ', 'euphoriceuphoria.', 'euphoric partying', 'euphoric feelings ', 'euphoric vibes', 'euphoric 🧚🏻\\u200d♀️', 'euphoric hysteria ', '⭐️euphoric⭐️']\n",
      "high energy ['high energy workout mix', 'high energy edm | dance | workout', 'clean workout- high energy', 'high energy music 2023', 'divine feminine energy 🧿', 'high energy rap hype 🔥 hiphop workout', 'energy cleanse', 'high energy hiphop', 'high energy pop hits', 'high energy indie rock ', 'high energy dance music', 'patrick miller (high energy)', 'caffeine flow // high energy focus music for studying, reading, coding, writing, working', 'high energy jazz', 'workout 2023 🔥 exercise music 🔥 best dance music 🔥 best dance pop 🔥 high energy 🔥 cardio 🔥', 'the most hype rap songs ever 🔥🔥', 'high energy cardio dance workout mix', 'high energy christian workout music', 'higher energy music x fall4mour', 'hype high energy mix', 'energy booster: latin', 'high energy mix', 'high vibrational energy', 'rock me up', 'high energy focus instrumental', 'high energy dance mix', 'disco high energy', '♨️ office energy 2023 ♨️ work music ♨️ high energy ♨️', '80s high energy disco mix', 'high energy 80s', 'techno workout', 'high energy 80s songs', 'high energyyyyy', 'high energy worship music', 'high energy taylor swift', 'high energy metal mix', 'euphoric energy', 'high energy rock mix', 'high energy pop mix', 'gym beats', 'high energy😎']\n",
      "soft ['gentle', 'soft morning', 'soft instrumental', 'slow soft music to fall asleep to 😴', 'soft rock greatest hits', 'soft instrumental jazz', 'soft girl era🧘🏽\\u200d♀️💕\\U0001faf6🏽', 'soft 00s', 'bts soft playlist, all soft songs', 'soft rnb 🧸🤍🏹', 'soft jazz (study)', 'soft rock drive', 'soft 60s', 'soft jazz', 'soft 90s', 'softcore vibes - the neighbourhood ', 'softly', 'soft 10s', 'peaceful pop', 'soft love song mix', 'soft indie mix', 'soft rock classics', 'soft 50s', 'soft rock', 'soft & slow', 'soft christian instrumental music', 'soft music to read to', '80s soft rock', 'sanfter pop', 'soft pop mix', '70s soft rock', 'soft rock songs 70s 80s 90s ever', 'soft pop hits', 'soft pop']\n",
      "pumped ['pumped up music 😎🔥😈', 'best hockey songs to stay pumped up!  (clean)', 'pumped up christian music ', 'pumped up gym workout songs', 'pumped', 'pumped up country', 'pump up mix', 'pumped up 80s jams for the gym', 'pumped up 😈💪🏼', 'pumped up kicks type beat', 'pumped up hits', 'pumped up workout mix', 'get pumped the fuck up 😤', 'pumped up rap ⛓🦍💯', 'pumped up edm', 'date night - get pumped', 'music to get me pumped upppppp', 'pumped up songs', 'pump it up ', 'pumped up for the pump', 'barça matchday: el clásico', 'pumped workout music', 'pumped up songs clean🥎🏀💪', 'pumped pop']\n",
      "ecstasy ['ecstasy, pa vectrex musik', 'ecstasy', 'ecstasy 🦋', 'ecstasytunes', ' ecstasy', 'ecstasy nights', 'ecstasy ', 'songs of ecstasy', 'feels like ecstasy ', 'ecstasy 🎧', 'emitting ecstasy ', 'ecstasy \\U0001fae7🔮', '“ecstasy”']\n",
      "death metal ['screaming death metal', 'death metal classics', 'death metal', \"death metal [90's classic death metal]\", 'brutal death metal', 'death metal old school', 'black metal 𖤐', 'death metal fury', 'death metal top 100', 'death metal/grindcore/black metal/doom death ++', 'black metal classics', 'death metal gym shit😈😈', 'death metal old school (1990-2000)', 'death metal up your ass!', 'death metal dubstep mix', 'metal mix', 'true black metal mix', 'thrash metal mix', '(black) metal', 'death metal 💯', 'death metal & beyond', 'death metal annihilation & beyond', 'death metal workout', 'extreme metal', 'death metal: um guia para começar a ouvir o estilo']\n",
      "adrenaline ['an adrenaline rush in a playlist  ', 'adrenaline rush😈', 'adrenaline pumping workout music', 'adrenaline rush😤', 'adrenaline songs', 'adrenaline pump📢', 'adrenaline rush at 4 am', 'adrenaline mix', 'adrenaline boost ', 'adrenaline rush actually', 'nitroboost', 'adrenaline hip hop / rap', 'adrenaline workout', 'adrenaline boost', 'hardstyle adrenaline! 2023', 'adrenaline junkie']\n",
      "despair ['despairinyoureyesss', 'despair', 'l̶o̶v̶e̶ ̶i̶s̶ ̶t̶h̶e̶ ̶m̶o̶s̶t̶ ̶t̶w̶i̶s̶t̶e̶d̶ ̶c̶u̶r̶s̶e̶ ̶o̶f̶ ̶a̶l̶l̶', 'despair🥱', 'songs of despair ', 'sociological despair', 'despair loop', 'despair.', 'phoebe bridgers complete collection of despair', 'dark sad mix', '~✨existential despair✨~', 'pride from despair', 'dnd - despair | rpg fantasy music | tabletop d&d series', 'cause its not romantic i swear']\n",
      "relax ['ambient relaxation', 'relaxing jazz piano', 'read and unwind', 'relaxing music for kids', 'relaxing dog music 🐶 calm your dogs', 'relaxing playlist', 'jazz relax', 'relaxing piano covers ', 'relax in the bath', 'relaxing music', 'deep house relax', 'relaxing beethoven', 'relax & unwind', 'relax', 'relaxing chopin', 'relaxing classical guitar', 'relaxing massage', 'relaxing songs😌', 'relaxing bach', 'peaceful piano', 'hanging out & relaxing', 'skyrim relaxing ambience', 'relaxing ragas', 'relax en casa', 'relaxing spanish guitar', 'relaxing guitar covers', 'calming classical', 'songs like relax my eyes', 'calming jazz', 'spa relaxing music 2023', 'relax & chill 2023 🌴', 'nature relaxation', 'relaxing rap music 💆\\u200d♂️', 'relaxing christian music', 'relaxing classical', 'relaxing piano music 😌', 'relaxing music.', 'relax en tu cuarto', 'relaxing shower vibes', 'chilled pop hits', 'relax & be', 'relax 💆🏻\\u200d♀️', 'calm music 2023 😌💖', 'relaxing mix']\n",
      "happy ['happy classical music', 'happy drive', 'happy love songs', 'chill happy mix', 'happy days', 'calm happy songs', 'happy 80s', 'happy - kanye west ft. future', \"children's songs 😊 happy kids music\", 'happy folk', 'happy oye!', 'happy songs everyone knows 😄 🙌', 'happy dance', 'happy hour', 'happy vibes only 😋', 'happy vibes 2023 ☀️', 'happy rainy day🌧🌈', 'happy songs ☺ (80s, 90s, 2000s, 2010s & 2020s)  ☺ best happy mood ', 'happy morning instrumentals', 'clean happy office music', 'wake up happy ☀️ good morning ', 'happy pop hits', 'happy tunes', 'feel good piano', 'happy favorites', 'happy hits!', 'happy upbeat vibes', 'feel good classical', 'feel good happy mix', 'happy indie mix', 'happy beats', 'happy vibes ', 'happy diathesi ', 'happy vibes🦋', 'happy morning mix', 'oh happy day!  ~ウェディング・ソング~', 'happy mix', 'happy jazz!', 'wake up happy', 'happy country mix', 'happy birthday', 'light & happy classical music', 'happy pop', 'happy walking mix', 'happy morning / feel good']\n",
      "calm ['keep calm', 'calming baby music', 'calming acoustic', 'atmospheric piano', 'calming music for anxiety / stress / hsp (instrumentals)', 'calming music | no lyrics', 'calm music🧚🏻\\u200d♀️', 'calm celtic harp', 'soft mix', 'calming sleep music ', 'calm taylor :)', 'calm', 'calm vibes', 'calming instrumental covers', 'calm classroom music', 'calm taylor swift', 'harry potter calm ambient mix', 'healing sleep frequencies 🌕 calming music 2023', 'calm kids', 'calm & focused', 'calm down', 'calming ༉‧₊˚✧', 'calming christian', 'calm toddler room ', 'calm before the storm', 'calm baby', 'dogs pet calming mix', 'calm disney', 'calm classroom playlist', 'calm pop mix', 'afrobeats mix', 'calm morning mix', 'calm and collective ', 'calm shower mix', 'calming music with words 2022']\n",
      "lively ['lively celtic/irish instrumental', 'lively hindi songs', 'lively instrumentals', 'lively songs', 'lively morning mix', 'lively classical music', 'instrumental lively mix', 'lively praise and worship songs', 'lively jazz', 'lively worship songs', 'lively praise & worship', 'lively pop mix', 'lively bollywood ', 'lively rock mix', 'lively tavern music', 'lively music', 'lively jazz mix', 'lively country  music', 'feel good classical', 'lively jazz (instrumental)', 'lively jazzy piano']\n",
      "chilling ['chilling adventures of sabrina - soundtrack seasons 1 - 4', 'chilling🪐🏝', 'chilling & cleaning', 'chilling in my room at 3am :]', 'vibing in my room late at night', 'chilling in my room 🌝', 'chilling 👽', 'chilling love', 'chilling mix', 'sabrina spellman’s playlist', 'chilling de', 'chillings ', 'chilling bombing', 'chilling', 'chillin in my room 💋', 'chilling in my room', 'chillige bässe', \"chillin' in the name of\", \"chillin' on a dirt road\"]\n",
      "happiest ['happiest king', 'happiest songs in the world', 'happiest place on earth', 'happiest ', 'heardle rewind', 'happiest songs of all time', 'world’s happiest playlist', 'happiest songs ever', '100 happiest songs from the 60s, 70s, 80s, 90s, 2ks', \"you're the headliner\", \"greatest hits radio - top 300: uk's happiest songs\", 'the happiest songs of all time', 'happiest songs', 'top 50 happiest songs', 'happiest baby', 'wedding party', 'thankyou for the happiest year of my life', 'best year yet']\n",
      "blissful ['blissful bollywood🥰 #2', 'blissful undertones', 'blissful ignorance.', 'dreampop', 'blissful lies', 'blissful pleaser', 'blissful existence', 'blissful mornings ', 'blissfully happy 🌅🌸🤗', 'blissfully happy ', 'meditate by the ocean', 'peaceful sleep', 'blissful', 'blissful beach days', 'blissful soul', 'blissful chill']\n",
      "mosh pit ['mosh pit', 'rock/metal mosh pit', 'emo’s not dead', 'towers mosh pit', 'mosh pit. mosh pit.', 'the mosh pit', 'music mosh pit', 'punk mosh pit', 'mosh pit ', 'moshpit music🤬(hype songs)', 'mosh mix', 'mosh pit monday!!! 💀🔥', 'mosh pit rap', 'mosh pit music', 'raveyard (hard dance mosh pit)', 'mosh pits ']\n",
      "crying ['lekker huilen/crying😓❣️', 'crying songs - crying playlist - sad music 2022', 'crying hours 😪 (tamil) ', \"who's crying now\", 'llorando en el club 🥲', 'crying in the gym', 'crying on the bathroom floor at 3am ', 'men moaning whimpering and crying', 'calm star wars for study (or crying)', 'crying in the car by yourself', \"เธรดรวมเพลงเศร้า - it's 3am and you're crying.\", 'screaming, crying, throwing up', 'screaming crying and throwing up', 'crying in the shower with my thoughts', 'crying on my birthday.', 'slipping through my fingers type of crying', 'most gut-wrenching, screaming, crying songs', 'sad songs for crying hours  💔', 'crying myself to sleep☆', 'crying at 2:08am staring at a wall wondering what i did wrong ', 'screaming, crying, sliding down the wall', 'idk.', 'sad songs for girls ❤️ (crying music and depressing music)', 'crying on the dance floor', 'crying so hard rn', 'pov: you’re angry crying or sad screaming ', 'crying over a boy who doesn’t love you back ', 'zach bryan crying edition ', 'crying', 'crying but in hindi songs', 'songs to make your tears fall out over that boy/girl you’re crying about', 'crying over my body, calories or whatever my eating disorder wants', \"pov:you're broken on the floor and you are crying, crying\", \"don't you feel like crying\", 'crying because i’m a failure', \"i'm not crying. you are.\", 'crying over a boy who talks to 12 other girls the exact same way that he talks to me', 'classics for crying', 'screaming, crying, taylor swift', 'crying mix']\n",
      "chill ['chill for awhile', 'chill music 2023 ✨ calm aesthetic vibes', 'chill songs everyone knows 🌙 relaxing music', 'chillhop radio 🐾 jazz/lofi hip hop beats to study/relax to | study music | chillhop music 2023', 'late night drives🏎️🍃', 'chill lofi study beats', 'chill  vibes 2023 🌙', 'chill rap songs 2023 😴🍃', 'chill out covers', 'chill out music', 'chillout classics', 'chill rainy day mix', 'chill r&b mix', 'chill beats 💙 groove, relax', 'smooth jazz chill', 'chill station', '| chill |', 'chill house 2023', 'chillhop', 'chillstep 2023', 'chill out jazz', 'chill tracks', 'chill r&b 🥰💫', 'chill mode: on', 'chill latino', 'chill covers', 'chilled dance hits', 'chill total', 'chill rock mix', 'chill mix', 'chill vibes', \"chillin' on a dirt road\", 'chill pop', 'chill indie mix', 'chillout lounge', 'chilled classical', 'chill hip hop mix', 'chill hits', 'chillhop essentials spring 2023', 'chilled classical covers', 'chill', 'chill gaming', 'chill rap mix']\n",
      "beach ['beach country', 'beach music 2023', 'beach playlist 2023 🌴 ', 'breezy acoustic', 'beach', 'beach vibes', 'beach playlist/good vibes 🏝 ', 'beach reggae mix', 'beach sunsets', 'beach house | summer vibes 2023', 'beach music 2023 🌴 summer vibes', 'classic beach music', 'the beach boys radio', 'beach songs everyone knows 🏄\\u200d♂', 'surf rock sunshine', 'beach mix']\n",
      "mellow ['mellow rock classics', 'mellow rap mix', 'mellow evening vibes🌻', 'mellow workout vibes ', 'soft 80s', 'lowkey', 'mellow drive', 'mellow beats', 'mellow house', \"mellow '70s gold\", 'mellow 80s gold', 'mellow rap 😌', 'mellow morning', 'mellow classics drive', 'mellow gold mix', 'soft 70s', \"mellow '90s gold\", 'mellow bars', 'mellow rock mix', 'mellow r&b mix', 'mellow classic rock', 'mellow lofi morning', 'indie mellow', 'mellow favourites', 'mellow 🧘🏻\\u200d♀️🪴', 'mellow songs that feel like quicksand ', 'bedroom pop', 'mellow mood', 'mellow evening', 'mellow music 2022', 'your favorite coffeehouse', 'neo mellow mix', 'mellow classics', 'mellow hip hop mix', 'mellow pop', 'mellow cello', 'mellow meowsic', 'mellow mix', 'chill jazz vibes 🎷 mellow jazz beats & jazzhop', 'mellow & folk', 'mellow bars - chill r&b - urban pop - nu retro - alternative - mixtape']\n",
      "positive ['morning music |  good vibes music | positive feelings | coffee music |', 'uplifting positive songs', 'meditation music for positive energy ✨', 'good mornings - happily positive music to start the day', 'rise', \"feelin' good\", 'meditative state of mind', 'positive music for the office (mixed genres)', 'negative space', 'positive vibes tamil', '528hz positive transformation ✨', 'kids upbeat positive music', '🌼 happy songs // positive vibes', 'positive music hip hop mix', 'positive vibes only', 'positive upbeat christian', 'positive instrumentals | uplifting, morning music, warm & cheerful', 'positive focus', 'positive music morning mix', '528 hz positive energy', 'body positive kids', 'morning meditation | positive energy music', 'positive uplifting rap vibes', 'positive💜', 'positive morning vibrations', 'body positive mix', 'good vibes 2023 🌞 happy mood', 'positive upbeat mix', 'positive mix', 'positive pop mix', 'positive music 2023', 'positive workout mix', 'motivation positive morning mix', 'positive vibes', 'positive music mix', 'stay positive xd']\n",
      "chilled ['lazy chill afternoon', ' chilled cow archive', 'chilled cow - chilledcow - lofi girl - lofi hip hop music - beats to relax/study to...\\t\\t\\t\\t\\t\\t\\t\\t', 'chilled r&b', 'chilled 80s', 'chill + atmospheric', 'study lofi 📚', 'dance chill', 'chill folk', 'chilled jazz', 'chilled restaurant vibes', 'chilled 00s', 'chill rock', 'chilled hits', 'chilled reggae', 'chilled indie', 'chilled drum & bass', 'medieval tavern music', 'chilled focus', 'chillhop music 2023', 'chill vibes', 'chilled classics']\n",
      "frustrated ['frustrated ', 'frustrated/focused', 'frustrated', 'frustrated screams', 'songs to play when you’re annoyed <3', 'upset mix', 'pov: you’re sexually frustrated', 'let the frustration out‼️', 'annoyed by people', 'confused crying frustrated throwing up  ', 'frustrated sad mix', 'frustrated mix', 'silent rage and frustration ', 'frustrated love mix', 'mental breakdown but in a frustrated way!', 'angry mix', 'i’m frustrated crying', 'angry n frustrated crying', 'frustrated crying ', '\"i\\'m frustrated and it\\'s sexually\"']\n",
      "joyous ['joyous rock mix', 'joyeux anniversaire !', 'joyous celebration hlala nami', 'joyous 70s mix', 'i saw photo you look joyous', 'joyous classical mix', 'forever joyous', 'joyous 4']\n",
      "aggressive ['murder rap 💯', 'aggressive edm', 'aggressive phonk', 'killer phonk ¤ aggressive phonk ¤ gym', 'aggressive kpop ', 'trap workout / aggressive bass', 'aggressive trap mix', 'aggressive mix', 'aggressive phonk 😈🩸', 'aggressive youngboy ', 'phonk music 2023 🔥 aggressive drift phonk | magic phonk', 'agressive rap & drill', 'rage phonk // aggressive dark phonk', 'angry / aggressive heavy metal (gym/lifting/workout)', 'loud angry rap 🔇🔇', 'gym phonk 2023 😈 aggressive workout phonk music', 'aggressive korean rap', 'aggressive love songs', 'nbayoungboy (aggressive) 💚', 'aggressive phonk 😈', '👹 aggressive music 👹', 'aggressively running to taylor swift', 'aggressive // trap metal // scream rap // demon // .wav', '😈agressive rap😈', 'hardest ny drill', 'badass 😡 aggressive mix', 'gym phonk  🔱 aggressive', 'loud aggressive rap music', 'aggressive metal mix', 'phonk music 2023 💀 aggressive drift phonk ', 'aggressive drill', 'aggressive rap mix', 'aggressively sapphic pop bops', 'the aggressive workout mix', 'aggressive gaming phonks.', 'aggressive classical music for very specific scenarios ', 'aggressive classical', '👺😡aggressive nba young boy💯🤬', 'aggressive heavy metal mix', 'aggressive jazz', 'aggressive ', 'hype', 'aggressive hindi music', 'slash playlist 1', 'king von | aggressive 😤', 'aggressive inline (ps2)', 'aggressive workout mix', 'nba yb aggressive ', 'aggressive country music🤬']\n",
      "melancholy ['melancholy ', 'melancholy lofi', 'melancholy folk mix', 'melancholy gamer 😔 sad lofi', 'melancholy instrumentals', 'melantronic', 'melancholy rap mix', 'melancholy mix', 'melancholy sleep music', 'melancholic solitude ', 'melancholy classical music for walking around the garden while its raining', 'melancholy sad classical mix', 'melancholy instrumental mix', 'love melancholy mix', 'melancholy sad mix']\n",
      "hard ['hardstyle 😡💪💪', 'hardest $uicideboy$ songs ', 'rap workout to go hard to', 'hard rock training/workout', 'hard rock & heavy metal ', 'hardstyle bangers', 'hardest rap songs ', 'hard bop classics', \"hard rockin' country\", 'insane pump up songs', 'hard rock /metal', 'gym hardstyle 2023 💪', 'this that murda music‼️🗣️', 'this that murda music💯💯', 'hardstyle adrenaline! 2023', 'hardstyle tren twins', 'classic hardcore', 'hard', 'hardstyle remix of popular songs ', '’80s hard rock', 'hardest babytron tracks 🤐😵\\u200d💫😈', 'hard techno 2023', 'hard rock classics', 'hardstyle mix', 'hardcore rock mix', 'hardy and morgan wallen', 'hardy radio', 'hard hitters', 'hardcore mix', 'hard rock', 'party hard', '🔥hardest bass drops 2023', 'hardstyle remixes', 'anime gym hardstyle 🔥', 'hardy: the complete collection']\n",
      "hurt ['hurts hindi songs', '💔😫hurting🖤🤕', 'hurt country', 'hurts me too', 'hurt new jeans vibes<3', 'hurt - new jeans vibe', 'who hurt u?', 'hurt covers', '💔hurt💔', 'hurting 💔', 'hurt me and tell me “you’re mine”', 'hurt me so good', 'hurts when i remember and i never want to feel it again~', 'i’m hurting inside 💔']\n",
      "grief ['songs about death, loss and grief - folk, indie & pop', 'grief garden', '💔christian hope after grief 💔', 'grief playlist', 'the grief playlist', 'songs for grief & loss', 'grief, lament, and hope', 'overdosing on grief.', 'memorial songs/songs for grief', 'baby loss & grief', 'country mourning/grief songs', 'grief.', 'the mourning of a loss', 'coping with loss', 'reflection', 'grief songs🕊❤️\\u200d🩹', 'grieving the passing of a loved one', 'songs for loss and grief ', 'best friend breakups as told by the 5 stages of grief', 'moving away from home but make it the 7 stages of grief', 'songs about grief and death', 'the angry stage of grief', 'carina deluca grief']\n",
      "peaceful ['peaceful retreat', 'calm', 'peaceful meditation', 'peaceful piano', 'peaceful songs ', 'piano in the background', 'peaceful\\U0001faac.', 'peaceful guitar', 'peaceful jazz piano', 'atmospheric piano', 'calming classical', 'slow/peaceful songs ', 'peaceful mix']\n",
      "angriest ['world’s angriest white boy', 'angriest rap', 'my angriest rap music', 'angriest workout', 'angriest music', 'angriest songs ever ', 'angriest most pissed off metal songs', 'probably the angriest gym playlist', 'angriest workout playlist on planet earth', 'angriest metal', 'angriest girl music of all time', 'angriest', 'the angriest playlist ', '20 of the angriest songs ever made', 'angriest creature ', 'odium nervous angriest badness fukdaxit', \"fiona apple but it's the most relatable songs (the angriest and the saddest)\", 'the angriest playlist', 'the worlds angriest playlist', 'angriest music i have', 'angry mix', 'gettin over him (angriest)', 'angriest playlist']\n",
      "sunday ['sunday funday', 'sunday morning jazz', 'sunday brunch', 'sunday lds hymns', 'sunday morning - paris cafe', 'sunday chill  ☕ morning playlist', 'sunday set list', 'sunday morning worship', 'sunday reset', 'sunday sessions', 'lazy jazzy sunday', 'sunday morning easy listening mix', 'sunday 2023 🌞 ☕️', 'sunday morning mix', 'lazy sunday', 'sunday evening chill', 'sunday mood']\n",
      "heavy ['heavy shoegaze', 'heavy 🔥', 'gym music - heavy lifting💪', 'heavy lifts & perreo ', 'heavy shoegaze/post-shoegaze', 'brutal death metal', 'blood, shred & tears', 'edm heavy bass', 'heavy metal', 'heavy gamers', 'heavy metal classics', 'metal mix', 'aggressive heavy metal mix', 'heavy workout metal mix', 'heavy bass for the car', 'heavy rock mix', 'hard rock /metal']\n",
      "unhappy ['unhappy club', 'unhappy mix', 'unhappy', 'unhappy men', 'stages of our unhappy relationship ', 'unhappy 😮\\u200d💨', 'unhappy ', 'unhappy ending.', \"pov: you're an unhappy muse on mount parnassus\", 'happily unhappy ', 'extremely unhappy', 'unhappy ending', 'unhappy hour😭❤️\\u200d🩹', 'teef is unhappy', 'unhappy [refrain]', 'unhappy love💔', 'what falling out of love feels like', \"maría isabel - i hope you're very unhappy without me\", 'melanie martinez (unreleased and released songs)', 'songs for when your sad, mad, and overall unhappy ', 'unhappy hour ', 'im unhappy', 'upbeat/unhappy', 'unhappy refrain', 'wowaka', 'all melanie martinez♡unreleased and released ']\n",
      "ecstatic ['ecstatic dance / 5 rhythms', 'ecstatic dance by desert dwellers', 'ecstatic dance • free your body', 'ecstatic', 'ecstatic dance - 🌞🌜🌝🌛', 'ecstatic dance', 'ecstatic rock', 'ecstatic dance - tribal']\n",
      "mournful ['mournful road-trip ', 'mournful-playlist', 'sad piano', 'mournful', 'mournful melo', 'moon and mournful', 'mournful melancholy ', 'mournful ballads', 'mournful end', 'mournful acoustic', 'gorgeous and mournful', 'sad instrumentals: from moody to mournful', 'mournful, melancholic & moody strings', 'mournful instrumental', 'mournful music 🎶', 'mournful tunes', 'mournful classical', 'mournful instrumentals', 'playlist for mournful minds']\n",
      "depress ['sad lofi beats to cry and sleep - depressing times', 'i’m depressed but not the “all i want” depressed i’m “how to never stop being sad” depressed', 'canzoni depresse✨🧸💔', 'dépression française 💔💔 | rupture 2023', 'depressed country music ', 'depression at 3 am', 'depressing songs', 'suicidal country', 'playlist dépressive 😭', 'depressive breakcore>>>', 'tiktok depressed songs', 'depression slowly killing me', 'depression songs', 'slow sad songs for 3am depression', 'songs about depression & anxiety', 'alone & depressed', 'depressed but angry depressed', 'depressing country music', 'depression session ', 'depressing songs for depressed people', 'sad music for crying hours and depressing times', 'incomplete & depressed ', 'sad songs for my depression 💔', 'depressing gym music🏋️\\u200d♀️', 'depressed songs 2023 😢for depressing times', 'songs about suicide and depression ', 'músicas para depressão', 'depressed fr', 'musica depressa. ❤', 'depressed cowboy shit', 'depressed rap songs😭', 'depression playlist (listen to when you feel sad or upset)', 'side effects', 'depressing songs that make me cry', 'depressed.', 'dark sad mix', 'depressed songs for the boys', 'canzoni depresse inglesi 🖤🎶', 'depression', 'depresso espresso ☕️', 'depressing songs for the boys 😭 😭 😭 ']\n",
      "bliss ['k⭕️nke - deep house 🍸 20 hours of bliss', 'blissful', 'dreamy vibes', 'bliss nae 😭💖', 'bliss', 'chillhop', 'bliss (i am the light of my soul)', '😇blissful tamil songs💫', 'blissful beach days', 'bliss mix', 'coffee shop vibes ', 'blissful chill', 'written by blush', 'bliss ✨', \"smooth n' bliss\", 'blissful mind', 'blissful soul', 'bliss da ambi❗🦋', \"blissy's bangers\", 'bliss the musical: the official playlist']\n",
      "angry ['xxx angry lift', 'rage gym 👹', 'abcdefu 🖕🏻 angry breakup songs', 'angry bitch music', 'pov: ur sadness turned to anger', 'angry fucking metal', 'angry rap mix', 'angry workout mix', 'angry running mix', 'youngboy angry 🤬', 'angry ass music for lifting heavy ass weights 😈😈😈', 'angry/sad vent songs', 'angry phonk', 'female rage but actual rage', 'angry', 'pissed off typa rap', 'unhinged female rage', 'angry.', 'angry girl workout playlist', 'angry woman', 'angry hard rock mix', 'angry incline sprints ', 'angry breakup mix', 'angry songs for angry girls ', 'angry eminem', 'angry woman playlist', 'angry sad mix', 'rage mix', 'gym sends (angry)', 'angry female rage', 'angry rock mix', 'loud angry music⛓🥀🔪', 'angry mix', 'angry workout music 😡😤', 'angry metal rock mix', 'villain mode', 'better than revenge (angry)', 'angry taylor swift songs to scream to', 'hell hath no fury like a southern woman scorned', 'angry xxx🔥🔊👑', 'angry taylor swift songs ']\n",
      "high octane ['soca workout 🏋🏽\\u200d♀️ ', 'high octane heroes', 'higher octane cruising', 'high octane', 'high octane tech house ', 'high octane!!', 'high octane radio', 'rocktane high octane rock', 'high octane  songs', 'high octane workout', '🏎️   high octane💨', 'high octane bangers', 'high octane racing', 'high octane gaming', 'high octane edm/rap/metal']\n",
      "heavy sad ['heavy stone make sad brain voice quiet 💪😤', 'the sad boi soundtrack', 'my ~sad~ lofi instrumentals', 'lift heavy rock keeps sad voice away', '⚠️really sad songs⚠️', 'sad songs about suicide, self harm, and heartbreak', 'heavy and angry and sad', 'lifting heavy circles 🤝sad voices gone ', 'heavy metal broke my heart//sad', 'i lift heavy weight so i dont feel sad', 'sad demon shits (gym)', 'heavy sadness vibe ii', 'heavy sadness', 'sad n heavy', 'heavy rap gym playlist ', 'small body, heavy soul', 'instrumental guitar popular covers', 'sad/heavy music :)', 'sad heavy metal', 'heavy sad songs', 'sád//heavy depression ', 'heavy sad', 'sad (bass heavy)']\n",
      "tragic ['tragic music', 'slowburn angst romance', 'the tragic romance in a gothic castle - crimson peak', 'trágic error', 'the tragic hero turns into a villain', 'tragic classical', 'tragic love story dark academia vibes', 'tragic love story ', 'pov: the villain’s tragic love story', 'tragic character backstory ', \"pov you're the tragic hero\", 'tragic villain playlist']\n",
      "cheerful ['🌼✿good vibes only✿🌼', 'cheerful kpop songs', 'happy lofi music 2023', 'cheerful jazz mix', 'cheerful songs | feel good music 🙂', 'cheerful bollywood', 'cheerful instrumental', 'cheerful classical piano mix', 'cheerful songs to feel better', 'cheerful tamil songs :3', 'cheerful piano jazz', 'cheerful piano ', 'cheerful classical music', 'cheerful uplifting mix', 'cheerful morning mix', 'cheerful songs hindi', 'cheerful happy morning mix', 'cheerful lofi', 'cheerful indie mix', 'upbeat background instrumentals 🌼']\n",
      "most depressing ['painful, depressing, and mostly country', 'mostly depressing folk, country', 'mostly depressing ', 'most depressing songs for depressed people', 'mostly depressing', 'most depressing songs recorded \\U0001faf6🏻', 'mcr’s entire discography in the order of most danceable to most depressing', 'the most depressing playlist ', 'most depressing girly playlist', '🎵 most emotional, depressing & tragic attack on titan soundtracks | ost playlist 🎵', 'mostly depressing 🙌🏽', 'depressing in the most fantabulous way', 'most depressing taylor swift songs: a letter to bad days', 'the most depressing albums of all time', 'most depressing songs 😭', 'only the most depressing songs', 'most depressing juice wrld songs', 'the most depressing music i’m aware of currently ', 'the most depressing lana songs! 😃 ', 'bobs most depressing stuff🐔🐽', 'mcr’s entire discography from most danceable to most depressing', 'most depressing songs to ever exist', 'most depressing radiohead songs', 'the most depressing songs ever recorded', 'the most depressing playlist you’ll probably ever listen to, but also made with love']\n",
      "contented ['contentedness', '🫒🐛contented extremity 🐛🫒', 'contented', \"just like the moon, i'm contented admiring you from afar.\"]\n",
      "anguished ['music for the anguished.', 'anguished', 'mil phonk ']\n",
      "anguish ['anguishhh', 'unhinged feminine anguish ', 'гуляю  anguish, exiled, elfass']\n"
     ]
    }
   ],
   "source": [
    "# a list of all queries\n",
    "querylist = list(df['query'].unique())\n",
    "\n",
    "# add a list of unique playlist names to each query key\n",
    "pl_dict = {}\n",
    "for query in querylist:\n",
    "    pl_dict[query] = list(df[\n",
    "        df['query']== query]['playlist_name'].unique())\n",
    "\n",
    "# print the query and playlist list for an overview\n",
    "for query in pl_dict.keys():\n",
    "    print(query, pl_dict[query])"
   ]
  },
  {
   "attachments": {},
   "cell_type": "markdown",
   "metadata": {},
   "source": [
    "Output the cleaned training data for pre-processing and EDA"
   ]
  },
  {
   "cell_type": "code",
   "execution_count": 69,
   "metadata": {},
   "outputs": [
    {
     "data": {
      "text/plain": [
       "['./data/pickles/cleaned_train_df.pkl']"
      ]
     },
     "execution_count": 69,
     "metadata": {},
     "output_type": "execute_result"
    }
   ],
   "source": [
    "joblib.dump(df, \"./data/pickles/cleaned_train_df.pkl\")"
   ]
  }
 ],
 "metadata": {
  "kernelspec": {
   "display_name": "capstone",
   "language": "python",
   "name": "python3"
  },
  "language_info": {
   "codemirror_mode": {
    "name": "ipython",
    "version": 3
   },
   "file_extension": ".py",
   "mimetype": "text/x-python",
   "name": "python",
   "nbconvert_exporter": "python",
   "pygments_lexer": "ipython3",
   "version": "3.10.9"
  },
  "orig_nbformat": 4
 },
 "nbformat": 4,
 "nbformat_minor": 2
}
